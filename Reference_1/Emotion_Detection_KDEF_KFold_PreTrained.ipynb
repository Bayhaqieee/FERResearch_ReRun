{
 "cells": [
  {
   "cell_type": "markdown",
   "id": "067392f9",
   "metadata": {
    "id": "HCEzz1vHBFqp",
    "papermill": {
     "duration": 0.013132,
     "end_time": "2025-06-21T12:43:48.055157",
     "exception": false,
     "start_time": "2025-06-21T12:43:48.042025",
     "status": "completed"
    },
    "tags": []
   },
   "source": [
    "# Emotion Detection - KDEF - K-Fold\n",
    "\n",
    "Tester: Muhammad Aditya Bayhaqie\n",
    "\n",
    "[Reference](https://paperswithcode.com/paper/facial-emotion-recognition-using-transfer)"
   ]
  },
  {
   "cell_type": "markdown",
   "id": "ce4a8e50",
   "metadata": {
    "id": "-MOJYQCwBTd6",
    "papermill": {
     "duration": 0.011321,
     "end_time": "2025-06-21T12:43:48.080113",
     "exception": false,
     "start_time": "2025-06-21T12:43:48.068792",
     "status": "completed"
    },
    "tags": []
   },
   "source": [
    "## Library Preparation"
   ]
  },
  {
   "cell_type": "code",
   "execution_count": 1,
   "id": "39ee6639",
   "metadata": {
    "execution": {
     "iopub.execute_input": "2025-06-21T12:43:48.103892Z",
     "iopub.status.busy": "2025-06-21T12:43:48.103669Z",
     "iopub.status.idle": "2025-06-21T12:44:03.052884Z",
     "shell.execute_reply": "2025-06-21T12:44:03.052313Z"
    },
    "executionInfo": {
     "elapsed": 9930,
     "status": "ok",
     "timestamp": 1750157077203,
     "user": {
      "displayName": "Aditya Bayhaqie",
      "userId": "16906297684641538968"
     },
     "user_tz": -420
    },
    "id": "gzwNbjDB_FhR",
    "papermill": {
     "duration": 14.962668,
     "end_time": "2025-06-21T12:44:03.054255",
     "exception": false,
     "start_time": "2025-06-21T12:43:48.091587",
     "status": "completed"
    },
    "tags": []
   },
   "outputs": [
    {
     "name": "stderr",
     "output_type": "stream",
     "text": [
      "2025-06-21 12:43:51.021884: E external/local_xla/xla/stream_executor/cuda/cuda_fft.cc:477] Unable to register cuFFT factory: Attempting to register factory for plugin cuFFT when one has already been registered\n",
      "WARNING: All log messages before absl::InitializeLog() is called are written to STDERR\n",
      "E0000 00:00:1750509831.207169      19 cuda_dnn.cc:8310] Unable to register cuDNN factory: Attempting to register factory for plugin cuDNN when one has already been registered\n",
      "E0000 00:00:1750509831.264490      19 cuda_blas.cc:1418] Unable to register cuBLAS factory: Attempting to register factory for plugin cuBLAS when one has already been registered\n"
     ]
    }
   ],
   "source": [
    "import numpy as np\n",
    "import pandas as pd\n",
    "import matplotlib.pyplot as plt\n",
    "import keras\n",
    "\n",
    "from keras.datasets import mnist\n",
    "from keras.utils import to_categorical\n",
    "\n",
    "from keras import models\n",
    "from keras import layers\n",
    "\n",
    "from keras import losses, optimizers, metrics\n",
    "from tensorflow.keras.preprocessing.image import ImageDataGenerator\n",
    "\n",
    "import matplotlib.pyplot as plt\n",
    "%matplotlib inline"
   ]
  },
  {
   "cell_type": "markdown",
   "id": "35a79361",
   "metadata": {
    "id": "aRizDOL7_2nx",
    "papermill": {
     "duration": 0.011459,
     "end_time": "2025-06-21T12:44:03.078000",
     "exception": false,
     "start_time": "2025-06-21T12:44:03.066541",
     "status": "completed"
    },
    "tags": []
   },
   "source": [
    "## Import Datasets"
   ]
  },
  {
   "cell_type": "code",
   "execution_count": 2,
   "id": "8b61eb98",
   "metadata": {
    "execution": {
     "iopub.execute_input": "2025-06-21T12:44:03.103800Z",
     "iopub.status.busy": "2025-06-21T12:44:03.103131Z",
     "iopub.status.idle": "2025-06-21T12:44:03.106573Z",
     "shell.execute_reply": "2025-06-21T12:44:03.105955Z"
    },
    "executionInfo": {
     "elapsed": 16,
     "status": "ok",
     "timestamp": 1750157171448,
     "user": {
      "displayName": "Aditya Bayhaqie",
      "userId": "16906297684641538968"
     },
     "user_tz": -420
    },
    "id": "Qxio6aNMJbVU",
    "papermill": {
     "duration": 0.017701,
     "end_time": "2025-06-21T12:44:03.107660",
     "exception": false,
     "start_time": "2025-06-21T12:44:03.089959",
     "status": "completed"
    },
    "tags": []
   },
   "outputs": [],
   "source": [
    "train_dir = '/kaggle/input/kdef-raf-fer-complete/Train'\n",
    "test_dir ='/kaggle/input/kdef-raf-fer-complete/Val'"
   ]
  },
  {
   "cell_type": "markdown",
   "id": "6ad14c99",
   "metadata": {
    "id": "HINrb-UVHKbc",
    "papermill": {
     "duration": 0.011362,
     "end_time": "2025-06-21T12:44:03.130518",
     "exception": false,
     "start_time": "2025-06-21T12:44:03.119156",
     "status": "completed"
    },
    "tags": []
   },
   "source": [
    "## Model w/ VGG 16"
   ]
  },
  {
   "cell_type": "markdown",
   "id": "1b277b14",
   "metadata": {
    "id": "XOs3XuZUF0Tj",
    "papermill": {
     "duration": 0.011352,
     "end_time": "2025-06-21T12:44:03.153377",
     "exception": false,
     "start_time": "2025-06-21T12:44:03.142025",
     "status": "completed"
    },
    "tags": []
   },
   "source": [
    "### Data Engineering"
   ]
  },
  {
   "cell_type": "code",
   "execution_count": 3,
   "id": "d1654069",
   "metadata": {
    "execution": {
     "iopub.execute_input": "2025-06-21T12:44:03.219337Z",
     "iopub.status.busy": "2025-06-21T12:44:03.219093Z",
     "iopub.status.idle": "2025-06-21T12:44:03.222174Z",
     "shell.execute_reply": "2025-06-21T12:44:03.221672Z"
    },
    "executionInfo": {
     "elapsed": 19,
     "status": "ok",
     "timestamp": 1750157171460,
     "user": {
      "displayName": "Aditya Bayhaqie",
      "userId": "16906297684641538968"
     },
     "user_tz": -420
    },
    "id": "TJF_S8geF4UA",
    "outputId": "54f4c700-aabb-4d18-c0de-aef458b8436c",
    "papermill": {
     "duration": 0.016432,
     "end_time": "2025-06-21T12:44:03.223204",
     "exception": false,
     "start_time": "2025-06-21T12:44:03.206772",
     "status": "completed"
    },
    "tags": []
   },
   "outputs": [],
   "source": [
    "# train_datagen = ImageDataGenerator(rescale=1./255)\n",
    "# test_datagen = ImageDataGenerator(rescale=1./255)\n",
    "\n",
    "# train_generator = train_datagen.flow_from_directory(\n",
    "#     train_dir,\n",
    "#     target_size = (224, 224),\n",
    "#     batch_size=32\n",
    "# )\n",
    "\n",
    "# validation_generator = test_datagen.flow_from_directory(\n",
    "#     test_dir,\n",
    "#     target_size = (224, 224),\n",
    "#     batch_size=8\n",
    "# )"
   ]
  },
  {
   "cell_type": "markdown",
   "id": "fe575b63",
   "metadata": {
    "id": "2UAf9wIiCNfI",
    "papermill": {
     "duration": 0.011273,
     "end_time": "2025-06-21T12:44:03.246114",
     "exception": false,
     "start_time": "2025-06-21T12:44:03.234841",
     "status": "completed"
    },
    "tags": []
   },
   "source": [
    "### Model Development"
   ]
  },
  {
   "cell_type": "markdown",
   "id": "55102bbb",
   "metadata": {
    "id": "uHZYYSixGY1R",
    "papermill": {
     "duration": 0.011651,
     "end_time": "2025-06-21T12:44:03.269195",
     "exception": false,
     "start_time": "2025-06-21T12:44:03.257544",
     "status": "completed"
    },
    "tags": []
   },
   "source": [
    "#### Arch Build"
   ]
  },
  {
   "cell_type": "code",
   "execution_count": 4,
   "id": "c9a9f9c0",
   "metadata": {
    "execution": {
     "iopub.execute_input": "2025-06-21T12:44:03.293014Z",
     "iopub.status.busy": "2025-06-21T12:44:03.292811Z",
     "iopub.status.idle": "2025-06-21T12:44:03.295547Z",
     "shell.execute_reply": "2025-06-21T12:44:03.295067Z"
    },
    "executionInfo": {
     "elapsed": 187,
     "status": "ok",
     "timestamp": 1750157171648,
     "user": {
      "displayName": "Aditya Bayhaqie",
      "userId": "16906297684641538968"
     },
     "user_tz": -420
    },
    "id": "gBjsQBfkWXde",
    "outputId": "ee4452bd-3cf2-45f1-d5e6-08b8386ac2c2",
    "papermill": {
     "duration": 0.015691,
     "end_time": "2025-06-21T12:44:03.296507",
     "exception": false,
     "start_time": "2025-06-21T12:44:03.280816",
     "status": "completed"
    },
    "tags": []
   },
   "outputs": [],
   "source": [
    "# from keras.applications import VGG16\n",
    "\n",
    "# conv_base = VGG16(weights='imagenet',\n",
    "#                  include_top=False,\n",
    "#                  input_shape=(224, 224, 3))\n",
    "\n",
    "# conv_base.summary()"
   ]
  },
  {
   "cell_type": "code",
   "execution_count": 5,
   "id": "157d970b",
   "metadata": {
    "execution": {
     "iopub.execute_input": "2025-06-21T12:44:03.320632Z",
     "iopub.status.busy": "2025-06-21T12:44:03.320408Z",
     "iopub.status.idle": "2025-06-21T12:44:03.323459Z",
     "shell.execute_reply": "2025-06-21T12:44:03.322818Z"
    },
    "executionInfo": {
     "elapsed": 99,
     "status": "ok",
     "timestamp": 1750157171762,
     "user": {
      "displayName": "Aditya Bayhaqie",
      "userId": "16906297684641538968"
     },
     "user_tz": -420
    },
    "id": "JWuOoQ8AFxcZ",
    "outputId": "3c1e2787-94a2-4a3e-8a41-4c7c501072f7",
    "papermill": {
     "duration": 0.016196,
     "end_time": "2025-06-21T12:44:03.324468",
     "exception": false,
     "start_time": "2025-06-21T12:44:03.308272",
     "status": "completed"
    },
    "tags": []
   },
   "outputs": [],
   "source": [
    "# model = models.Sequential()\n",
    "\n",
    "# model.add(conv_base)\n",
    "# model.add(layers.Flatten())\n",
    "# model.add(layers.Dense(512))\n",
    "# model.add(layers.Dense(7, activation='softmax'))\n",
    "# model.summary()"
   ]
  },
  {
   "cell_type": "markdown",
   "id": "62b264c2",
   "metadata": {
    "id": "KOqGibGCGclp",
    "papermill": {
     "duration": 0.01212,
     "end_time": "2025-06-21T12:44:03.348775",
     "exception": false,
     "start_time": "2025-06-21T12:44:03.336655",
     "status": "completed"
    },
    "tags": []
   },
   "source": [
    "#### Model Train"
   ]
  },
  {
   "cell_type": "code",
   "execution_count": 6,
   "id": "5983cf70",
   "metadata": {
    "execution": {
     "iopub.execute_input": "2025-06-21T12:44:03.375020Z",
     "iopub.status.busy": "2025-06-21T12:44:03.374806Z",
     "iopub.status.idle": "2025-06-21T12:44:03.378350Z",
     "shell.execute_reply": "2025-06-21T12:44:03.377653Z"
    },
    "executionInfo": {
     "elapsed": 564954,
     "status": "ok",
     "timestamp": 1750157736718,
     "user": {
      "displayName": "Aditya Bayhaqie",
      "userId": "16906297684641538968"
     },
     "user_tz": -420
    },
    "id": "_fnxlMcdWkCi",
    "outputId": "9f585ac8-7a6b-469d-aa79-1ad8fcd3ef77",
    "papermill": {
     "duration": 0.018076,
     "end_time": "2025-06-21T12:44:03.379473",
     "exception": false,
     "start_time": "2025-06-21T12:44:03.361397",
     "status": "completed"
    },
    "tags": []
   },
   "outputs": [],
   "source": [
    "# steps_per_epoch = train_generator.samples // train_generator.batch_size\n",
    "# validation_steps = validation_generator.samples // validation_generator.batch_size\n",
    "\n",
    "# print(steps_per_epoch)\n",
    "# print(validation_steps)\n",
    "\n",
    "# conv_base.trainable = False\n",
    "# print('This is the number of trainable weights before freezing the conv base:', len(model.trainable_weights))\n",
    "\n",
    "# model.compile(\n",
    "#     optimizer=optimizers.Adam(learning_rate=5e-5),\n",
    "#     loss=losses.categorical_crossentropy,\n",
    "#     metrics=[metrics.categorical_accuracy]\n",
    "# )\n",
    "\n",
    "# history = model.fit(train_generator,\n",
    "#                               steps_per_epoch=steps_per_epoch,\n",
    "#                               epochs=15,\n",
    "#                               validation_data=validation_generator,\n",
    "#                               validation_steps=validation_steps)"
   ]
  },
  {
   "cell_type": "code",
   "execution_count": 7,
   "id": "53f60bc8",
   "metadata": {
    "execution": {
     "iopub.execute_input": "2025-06-21T12:44:03.405840Z",
     "iopub.status.busy": "2025-06-21T12:44:03.405571Z",
     "iopub.status.idle": "2025-06-21T12:44:03.408840Z",
     "shell.execute_reply": "2025-06-21T12:44:03.408264Z"
    },
    "executionInfo": {
     "elapsed": 693,
     "status": "ok",
     "timestamp": 1750157737428,
     "user": {
      "displayName": "Aditya Bayhaqie",
      "userId": "16906297684641538968"
     },
     "user_tz": -420
    },
    "id": "etqkoexPXJQb",
    "outputId": "5e99857d-4ddb-4e57-e979-38eb538a0030",
    "papermill": {
     "duration": 0.017883,
     "end_time": "2025-06-21T12:44:03.409874",
     "exception": false,
     "start_time": "2025-06-21T12:44:03.391991",
     "status": "completed"
    },
    "tags": []
   },
   "outputs": [],
   "source": [
    "# acc = history.history['categorical_accuracy']\n",
    "# val_acc = history.history['val_categorical_accuracy']\n",
    "# loss = history.history['loss']\n",
    "# val_loss = history.history['val_loss']\n",
    "\n",
    "# epochs = range(1, len(acc)+1)\n",
    "\n",
    "# plt.plot(epochs, acc,  dashes=[2, 2, 10, 2], label='Training acc')\n",
    "# plt.plot(epochs, val_acc, 'g', label='Validation acc')\n",
    "# plt.title('Training and validation accuracy')\n",
    "# plt.legend()\n",
    "\n",
    "# plt.figure()\n",
    "# plt.plot(epochs, loss,  dashes=[2, 2, 10, 2],label='Training losses')\n",
    "# plt.plot(epochs, val_loss, 'g', label='Validation losses')\n",
    "# plt.title('Training and validation loss')\n",
    "# plt.legend()\n",
    "\n",
    "# plt.show()"
   ]
  },
  {
   "cell_type": "code",
   "execution_count": 8,
   "id": "8a4fa036",
   "metadata": {
    "execution": {
     "iopub.execute_input": "2025-06-21T12:44:03.434969Z",
     "iopub.status.busy": "2025-06-21T12:44:03.434785Z",
     "iopub.status.idle": "2025-06-21T12:44:03.437843Z",
     "shell.execute_reply": "2025-06-21T12:44:03.437176Z"
    },
    "executionInfo": {
     "elapsed": 27,
     "status": "ok",
     "timestamp": 1750157737458,
     "user": {
      "displayName": "Aditya Bayhaqie",
      "userId": "16906297684641538968"
     },
     "user_tz": -420
    },
    "id": "Cbgx45YQWrbw",
    "papermill": {
     "duration": 0.016705,
     "end_time": "2025-06-21T12:44:03.438844",
     "exception": false,
     "start_time": "2025-06-21T12:44:03.422139",
     "status": "completed"
    },
    "tags": []
   },
   "outputs": [],
   "source": [
    "# conv_base.trainable = True\n",
    "# set_trainable = False\n",
    "# for layer in conv_base.layers:\n",
    "#     if layer.name == 'block5_conv1':\n",
    "#         set_trainable = True\n",
    "#     if set_trainable:\n",
    "#         layer.trainable = True\n",
    "#     else:\n",
    "#         layer.trainable = False"
   ]
  },
  {
   "cell_type": "code",
   "execution_count": 9,
   "id": "103b9b4b",
   "metadata": {
    "execution": {
     "iopub.execute_input": "2025-06-21T12:44:03.462877Z",
     "iopub.status.busy": "2025-06-21T12:44:03.462647Z",
     "iopub.status.idle": "2025-06-21T12:44:03.465781Z",
     "shell.execute_reply": "2025-06-21T12:44:03.465124Z"
    },
    "executionInfo": {
     "elapsed": 1846688,
     "status": "ok",
     "timestamp": 1750159624657,
     "user": {
      "displayName": "Aditya Bayhaqie",
      "userId": "16906297684641538968"
     },
     "user_tz": -420
    },
    "id": "h6y_SnieWtW1",
    "outputId": "814ebad5-a5ba-4ec3-c81e-db6260e70bf1",
    "papermill": {
     "duration": 0.016334,
     "end_time": "2025-06-21T12:44:03.466930",
     "exception": false,
     "start_time": "2025-06-21T12:44:03.450596",
     "status": "completed"
    },
    "tags": []
   },
   "outputs": [],
   "source": [
    "# steps_per_epoch = train_generator.samples // train_generator.batch_size\n",
    "# validation_steps = validation_generator.samples // validation_generator.batch_size\n",
    "\n",
    "# print(steps_per_epoch)\n",
    "# print(validation_steps)\n",
    "\n",
    "# model.compile(\n",
    "#     optimizer=optimizers.Adam(learning_rate=1e-5),\n",
    "#     loss=losses.categorical_crossentropy,\n",
    "#     metrics=[metrics.categorical_accuracy]\n",
    "# )\n",
    "# history = model.fit(train_generator,\n",
    "#                               steps_per_epoch=steps_per_epoch,\n",
    "#                               epochs=50,\n",
    "#                               validation_data=validation_generator,\n",
    "#                               validation_steps=validation_steps)"
   ]
  },
  {
   "cell_type": "code",
   "execution_count": 10,
   "id": "d2f773f3",
   "metadata": {
    "execution": {
     "iopub.execute_input": "2025-06-21T12:44:03.490971Z",
     "iopub.status.busy": "2025-06-21T12:44:03.490762Z",
     "iopub.status.idle": "2025-06-21T12:44:03.493945Z",
     "shell.execute_reply": "2025-06-21T12:44:03.493280Z"
    },
    "executionInfo": {
     "elapsed": 482,
     "status": "ok",
     "timestamp": 1750159625165,
     "user": {
      "displayName": "Aditya Bayhaqie",
      "userId": "16906297684641538968"
     },
     "user_tz": -420
    },
    "id": "3imqeKKGIn11",
    "outputId": "14e79eda-d6cf-4276-b63e-d9e1e84d4f45",
    "papermill": {
     "duration": 0.016339,
     "end_time": "2025-06-21T12:44:03.494974",
     "exception": false,
     "start_time": "2025-06-21T12:44:03.478635",
     "status": "completed"
    },
    "tags": []
   },
   "outputs": [],
   "source": [
    "# acc = history.history['categorical_accuracy']\n",
    "# val_acc = history.history['val_categorical_accuracy']\n",
    "# loss = history.history['loss']\n",
    "# val_loss = history.history['val_loss']\n",
    "\n",
    "# epochs = range(1, len(acc)+1)\n",
    "\n",
    "# plt.plot(epochs, acc,  dashes=[2, 2, 10, 2], label='Training acc')\n",
    "# plt.plot(epochs, val_acc, 'g', label='Validation acc')\n",
    "# plt.title('Training and validation accuracy')\n",
    "# plt.legend()\n",
    "\n",
    "# plt.figure()\n",
    "# plt.plot(epochs, loss,  dashes=[2, 2, 10, 2],label='Training losses')\n",
    "# plt.plot(epochs, val_loss, 'g', label='Validation losses')\n",
    "# plt.title('Training and validation loss')\n",
    "# plt.legend()\n",
    "\n",
    "# plt.show()"
   ]
  },
  {
   "cell_type": "markdown",
   "id": "99c2900e",
   "metadata": {
    "id": "Bp3eMVtEEA0g",
    "papermill": {
     "duration": 0.011549,
     "end_time": "2025-06-21T12:44:03.518244",
     "exception": false,
     "start_time": "2025-06-21T12:44:03.506695",
     "status": "completed"
    },
    "tags": []
   },
   "source": [
    "### Data Engineering"
   ]
  },
  {
   "cell_type": "markdown",
   "id": "636ccd38",
   "metadata": {
    "id": "QetXxEOKEA0Z",
    "papermill": {
     "duration": 0.011481,
     "end_time": "2025-06-21T12:44:03.541793",
     "exception": false,
     "start_time": "2025-06-21T12:44:03.530312",
     "status": "completed"
    },
    "tags": []
   },
   "source": [
    "## Model w/ VGG 16 Full Build"
   ]
  },
  {
   "cell_type": "code",
   "execution_count": 11,
   "id": "828fc531",
   "metadata": {
    "execution": {
     "iopub.execute_input": "2025-06-21T12:44:03.566102Z",
     "iopub.status.busy": "2025-06-21T12:44:03.565904Z",
     "iopub.status.idle": "2025-06-21T12:44:03.568904Z",
     "shell.execute_reply": "2025-06-21T12:44:03.568214Z"
    },
    "executionInfo": {
     "elapsed": 19,
     "status": "ok",
     "timestamp": 1750157171460,
     "user": {
      "displayName": "Aditya Bayhaqie",
      "userId": "16906297684641538968"
     },
     "user_tz": -420
    },
    "id": "zJ2szRqxEA0h",
    "outputId": "54f4c700-aabb-4d18-c0de-aef458b8436c",
    "papermill": {
     "duration": 0.01658,
     "end_time": "2025-06-21T12:44:03.570062",
     "exception": false,
     "start_time": "2025-06-21T12:44:03.553482",
     "status": "completed"
    },
    "tags": []
   },
   "outputs": [],
   "source": [
    "# train_datagen = ImageDataGenerator(rescale=1./255)\n",
    "# test_datagen = ImageDataGenerator(rescale=1./255)\n",
    "\n",
    "# train_generator = train_datagen.flow_from_directory(\n",
    "#     train_dir,\n",
    "#     target_size = (224, 224),\n",
    "#     batch_size=32\n",
    "# )\n",
    "\n",
    "# validation_generator = test_datagen.flow_from_directory(\n",
    "#     test_dir,\n",
    "#     target_size = (224, 224),\n",
    "#     batch_size=8\n",
    "# )"
   ]
  },
  {
   "cell_type": "markdown",
   "id": "dc72c780",
   "metadata": {
    "id": "LHr9ngT9EA0h",
    "papermill": {
     "duration": 0.011356,
     "end_time": "2025-06-21T12:44:03.593224",
     "exception": false,
     "start_time": "2025-06-21T12:44:03.581868",
     "status": "completed"
    },
    "tags": []
   },
   "source": [
    "### Model Development"
   ]
  },
  {
   "cell_type": "markdown",
   "id": "c94596fa",
   "metadata": {
    "id": "xq9HDrGsEA0h",
    "papermill": {
     "duration": 0.011361,
     "end_time": "2025-06-21T12:44:03.616163",
     "exception": false,
     "start_time": "2025-06-21T12:44:03.604802",
     "status": "completed"
    },
    "tags": []
   },
   "source": [
    "#### Arch Build"
   ]
  },
  {
   "cell_type": "code",
   "execution_count": 12,
   "id": "2bbff62f",
   "metadata": {
    "execution": {
     "iopub.execute_input": "2025-06-21T12:44:03.639954Z",
     "iopub.status.busy": "2025-06-21T12:44:03.639764Z",
     "iopub.status.idle": "2025-06-21T12:44:03.642550Z",
     "shell.execute_reply": "2025-06-21T12:44:03.642062Z"
    },
    "executionInfo": {
     "elapsed": 187,
     "status": "ok",
     "timestamp": 1750157171648,
     "user": {
      "displayName": "Aditya Bayhaqie",
      "userId": "16906297684641538968"
     },
     "user_tz": -420
    },
    "id": "ejIrDPLiEA0h",
    "outputId": "ee4452bd-3cf2-45f1-d5e6-08b8386ac2c2",
    "papermill": {
     "duration": 0.015782,
     "end_time": "2025-06-21T12:44:03.643495",
     "exception": false,
     "start_time": "2025-06-21T12:44:03.627713",
     "status": "completed"
    },
    "tags": []
   },
   "outputs": [],
   "source": [
    "# from keras.applications import VGG16\n",
    "\n",
    "# conv_base = VGG16(weights='imagenet',\n",
    "#                  include_top=False,\n",
    "#                  input_shape=(224, 224, 3))\n",
    "\n",
    "# conv_base.summary()"
   ]
  },
  {
   "cell_type": "code",
   "execution_count": 13,
   "id": "f8c1f0e6",
   "metadata": {
    "execution": {
     "iopub.execute_input": "2025-06-21T12:44:03.667435Z",
     "iopub.status.busy": "2025-06-21T12:44:03.667234Z",
     "iopub.status.idle": "2025-06-21T12:44:03.669883Z",
     "shell.execute_reply": "2025-06-21T12:44:03.669415Z"
    },
    "executionInfo": {
     "elapsed": 99,
     "status": "ok",
     "timestamp": 1750157171762,
     "user": {
      "displayName": "Aditya Bayhaqie",
      "userId": "16906297684641538968"
     },
     "user_tz": -420
    },
    "id": "_iCmJMjDEA0i",
    "outputId": "3c1e2787-94a2-4a3e-8a41-4c7c501072f7",
    "papermill": {
     "duration": 0.015638,
     "end_time": "2025-06-21T12:44:03.670816",
     "exception": false,
     "start_time": "2025-06-21T12:44:03.655178",
     "status": "completed"
    },
    "tags": []
   },
   "outputs": [],
   "source": [
    "# model = models.Sequential()\n",
    "\n",
    "# model.add(conv_base)\n",
    "# model.add(layers.Flatten())\n",
    "# model.add(layers.Dense(512))\n",
    "# model.add(layers.Dense(7, activation='softmax'))\n",
    "# model.summary()"
   ]
  },
  {
   "cell_type": "markdown",
   "id": "f7ce7922",
   "metadata": {
    "id": "UtYifNn3EA0i",
    "papermill": {
     "duration": 0.011412,
     "end_time": "2025-06-21T12:44:03.693782",
     "exception": false,
     "start_time": "2025-06-21T12:44:03.682370",
     "status": "completed"
    },
    "tags": []
   },
   "source": [
    "#### Model Train"
   ]
  },
  {
   "cell_type": "code",
   "execution_count": 14,
   "id": "3223ab99",
   "metadata": {
    "execution": {
     "iopub.execute_input": "2025-06-21T12:44:03.717496Z",
     "iopub.status.busy": "2025-06-21T12:44:03.717308Z",
     "iopub.status.idle": "2025-06-21T12:44:03.720265Z",
     "shell.execute_reply": "2025-06-21T12:44:03.719781Z"
    },
    "executionInfo": {
     "elapsed": 564954,
     "status": "ok",
     "timestamp": 1750157736718,
     "user": {
      "displayName": "Aditya Bayhaqie",
      "userId": "16906297684641538968"
     },
     "user_tz": -420
    },
    "id": "jOXaY44cEA0i",
    "outputId": "9f585ac8-7a6b-469d-aa79-1ad8fcd3ef77",
    "papermill": {
     "duration": 0.016001,
     "end_time": "2025-06-21T12:44:03.721238",
     "exception": false,
     "start_time": "2025-06-21T12:44:03.705237",
     "status": "completed"
    },
    "tags": []
   },
   "outputs": [],
   "source": [
    "# steps_per_epoch = train_generator.samples // train_generator.batch_size\n",
    "# validation_steps = validation_generator.samples // validation_generator.batch_size\n",
    "\n",
    "# print(steps_per_epoch)\n",
    "# print(validation_steps)\n",
    "\n",
    "# conv_base.trainable = True\n",
    "# print('This is the number of trainable weights before freezing the conv base:', len(model.trainable_weights))\n",
    "\n",
    "# model.compile(\n",
    "#     optimizer=optimizers.Adam(learning_rate=5e-5),\n",
    "#     loss=losses.categorical_crossentropy,\n",
    "#     metrics=[metrics.categorical_accuracy]\n",
    "# )\n",
    "\n",
    "# history = model.fit(train_generator,\n",
    "#                               steps_per_epoch=steps_per_epoch,\n",
    "#                               epochs=15,\n",
    "#                               validation_data=validation_generator,\n",
    "#                               validation_steps=validation_steps)"
   ]
  },
  {
   "cell_type": "code",
   "execution_count": 15,
   "id": "3b69d931",
   "metadata": {
    "execution": {
     "iopub.execute_input": "2025-06-21T12:44:03.745540Z",
     "iopub.status.busy": "2025-06-21T12:44:03.745346Z",
     "iopub.status.idle": "2025-06-21T12:44:03.748141Z",
     "shell.execute_reply": "2025-06-21T12:44:03.747662Z"
    },
    "executionInfo": {
     "elapsed": 693,
     "status": "ok",
     "timestamp": 1750157737428,
     "user": {
      "displayName": "Aditya Bayhaqie",
      "userId": "16906297684641538968"
     },
     "user_tz": -420
    },
    "id": "Cle-w6zjEA0i",
    "outputId": "5e99857d-4ddb-4e57-e979-38eb538a0030",
    "papermill": {
     "duration": 0.015887,
     "end_time": "2025-06-21T12:44:03.749132",
     "exception": false,
     "start_time": "2025-06-21T12:44:03.733245",
     "status": "completed"
    },
    "tags": []
   },
   "outputs": [],
   "source": [
    "# acc = history.history['categorical_accuracy']\n",
    "# val_acc = history.history['val_categorical_accuracy']\n",
    "# loss = history.history['loss']\n",
    "# val_loss = history.history['val_loss']\n",
    "\n",
    "# epochs = range(1, len(acc)+1)\n",
    "\n",
    "# plt.plot(epochs, acc,  dashes=[2, 2, 10, 2], label='Training acc')\n",
    "# plt.plot(epochs, val_acc, 'g', label='Validation acc')\n",
    "# plt.title('Training and validation accuracy')\n",
    "# plt.legend()\n",
    "\n",
    "# plt.figure()\n",
    "# plt.plot(epochs, loss,  dashes=[2, 2, 10, 2],label='Training losses')\n",
    "# plt.plot(epochs, val_loss, 'g', label='Validation losses')\n",
    "# plt.title('Training and validation loss')\n",
    "# plt.legend()\n",
    "\n",
    "# plt.show()"
   ]
  },
  {
   "cell_type": "code",
   "execution_count": 16,
   "id": "5411f76b",
   "metadata": {
    "execution": {
     "iopub.execute_input": "2025-06-21T12:44:03.773506Z",
     "iopub.status.busy": "2025-06-21T12:44:03.772887Z",
     "iopub.status.idle": "2025-06-21T12:44:03.776140Z",
     "shell.execute_reply": "2025-06-21T12:44:03.775463Z"
    },
    "id": "11MBNQkgEA0i",
    "papermill": {
     "duration": 0.016298,
     "end_time": "2025-06-21T12:44:03.777129",
     "exception": false,
     "start_time": "2025-06-21T12:44:03.760831",
     "status": "completed"
    },
    "tags": []
   },
   "outputs": [],
   "source": [
    "# conv_base.trainable = True\n",
    "# set_trainable = False\n",
    "# for layer in conv_base.layers:\n",
    "#     if layer.name == 'block5_conv1':\n",
    "#         set_trainable = True\n",
    "#     if set_trainable:\n",
    "#         layer.trainable = True\n",
    "#     else:\n",
    "#         layer.trainable = False"
   ]
  },
  {
   "cell_type": "code",
   "execution_count": 17,
   "id": "82032cfa",
   "metadata": {
    "execution": {
     "iopub.execute_input": "2025-06-21T12:44:03.801541Z",
     "iopub.status.busy": "2025-06-21T12:44:03.801348Z",
     "iopub.status.idle": "2025-06-21T12:44:03.804135Z",
     "shell.execute_reply": "2025-06-21T12:44:03.803659Z"
    },
    "executionInfo": {
     "elapsed": 1846688,
     "status": "ok",
     "timestamp": 1750159624657,
     "user": {
      "displayName": "Aditya Bayhaqie",
      "userId": "16906297684641538968"
     },
     "user_tz": -420
    },
    "id": "-TWvCp8-EA0i",
    "outputId": "814ebad5-a5ba-4ec3-c81e-db6260e70bf1",
    "papermill": {
     "duration": 0.015842,
     "end_time": "2025-06-21T12:44:03.805103",
     "exception": false,
     "start_time": "2025-06-21T12:44:03.789261",
     "status": "completed"
    },
    "tags": []
   },
   "outputs": [],
   "source": [
    "# steps_per_epoch = train_generator.samples // train_generator.batch_size\n",
    "# validation_steps = validation_generator.samples // validation_generator.batch_size\n",
    "\n",
    "# print(steps_per_epoch)\n",
    "# print(validation_steps)\n",
    "\n",
    "# model.compile(\n",
    "#     optimizer=optimizers.Adam(learning_rate=1e-5),\n",
    "#     loss=losses.categorical_crossentropy,\n",
    "#     metrics=[metrics.categorical_accuracy]\n",
    "# )\n",
    "# history = model.fit(train_generator,\n",
    "#                               steps_per_epoch=steps_per_epoch,\n",
    "#                               epochs=50,\n",
    "#                               validation_data=validation_generator,\n",
    "#                               validation_steps=validation_steps)"
   ]
  },
  {
   "cell_type": "code",
   "execution_count": 18,
   "id": "681bd716",
   "metadata": {
    "execution": {
     "iopub.execute_input": "2025-06-21T12:44:03.829135Z",
     "iopub.status.busy": "2025-06-21T12:44:03.828957Z",
     "iopub.status.idle": "2025-06-21T12:44:03.831929Z",
     "shell.execute_reply": "2025-06-21T12:44:03.831400Z"
    },
    "executionInfo": {
     "elapsed": 482,
     "status": "ok",
     "timestamp": 1750159625165,
     "user": {
      "displayName": "Aditya Bayhaqie",
      "userId": "16906297684641538968"
     },
     "user_tz": -420
    },
    "id": "AleB6M__EA0j",
    "outputId": "14e79eda-d6cf-4276-b63e-d9e1e84d4f45",
    "papermill": {
     "duration": 0.015959,
     "end_time": "2025-06-21T12:44:03.832884",
     "exception": false,
     "start_time": "2025-06-21T12:44:03.816925",
     "status": "completed"
    },
    "tags": []
   },
   "outputs": [],
   "source": [
    "# acc = history.history['categorical_accuracy']\n",
    "# val_acc = history.history['val_categorical_accuracy']\n",
    "# loss = history.history['loss']\n",
    "# val_loss = history.history['val_loss']\n",
    "\n",
    "# epochs = range(1, len(acc)+1)\n",
    "\n",
    "# plt.plot(epochs, acc,  dashes=[2, 2, 10, 2], label='Training acc')\n",
    "# plt.plot(epochs, val_acc, 'g', label='Validation acc')\n",
    "# plt.title('Training and validation accuracy')\n",
    "# plt.legend()\n",
    "\n",
    "# plt.figure()\n",
    "# plt.plot(epochs, loss,  dashes=[2, 2, 10, 2],label='Training losses')\n",
    "# plt.plot(epochs, val_loss, 'g', label='Validation losses')\n",
    "# plt.title('Training and validation loss')\n",
    "# plt.legend()\n",
    "\n",
    "# plt.show()"
   ]
  },
  {
   "cell_type": "code",
   "execution_count": 19,
   "id": "34ac6ac5",
   "metadata": {
    "execution": {
     "iopub.execute_input": "2025-06-21T12:44:03.859155Z",
     "iopub.status.busy": "2025-06-21T12:44:03.858946Z",
     "iopub.status.idle": "2025-06-21T12:44:03.861718Z",
     "shell.execute_reply": "2025-06-21T12:44:03.861204Z"
    },
    "papermill": {
     "duration": 0.016662,
     "end_time": "2025-06-21T12:44:03.862842",
     "exception": false,
     "start_time": "2025-06-21T12:44:03.846180",
     "status": "completed"
    },
    "tags": []
   },
   "outputs": [],
   "source": [
    "# model.save('/kaggle/working/model/VGG16_FB_Model.h5')"
   ]
  },
  {
   "cell_type": "markdown",
   "id": "7d6497cc",
   "metadata": {
    "id": "b5QWE__caXOZ",
    "papermill": {
     "duration": 0.011811,
     "end_time": "2025-06-21T12:44:03.887083",
     "exception": false,
     "start_time": "2025-06-21T12:44:03.875272",
     "status": "completed"
    },
    "tags": []
   },
   "source": [
    "## Model w/ VGG 16 + Dropout"
   ]
  },
  {
   "cell_type": "markdown",
   "id": "11214d23",
   "metadata": {
    "id": "xvf1ksxoaXOa",
    "papermill": {
     "duration": 0.011894,
     "end_time": "2025-06-21T12:44:03.911383",
     "exception": false,
     "start_time": "2025-06-21T12:44:03.899489",
     "status": "completed"
    },
    "tags": []
   },
   "source": [
    "### Data Engineering"
   ]
  },
  {
   "cell_type": "code",
   "execution_count": 20,
   "id": "f6c25b08",
   "metadata": {
    "execution": {
     "iopub.execute_input": "2025-06-21T12:44:03.936843Z",
     "iopub.status.busy": "2025-06-21T12:44:03.936570Z",
     "iopub.status.idle": "2025-06-21T12:44:03.939721Z",
     "shell.execute_reply": "2025-06-21T12:44:03.939157Z"
    },
    "executionInfo": {
     "elapsed": 479,
     "status": "ok",
     "timestamp": 1750155427484,
     "user": {
      "displayName": "Aditya Bayhaqie",
      "userId": "16906297684641538968"
     },
     "user_tz": -420
    },
    "id": "lDKq3sstaXOa",
    "outputId": "859bc68b-2536-4bb0-bfae-1870ef58661b",
    "papermill": {
     "duration": 0.017322,
     "end_time": "2025-06-21T12:44:03.940790",
     "exception": false,
     "start_time": "2025-06-21T12:44:03.923468",
     "status": "completed"
    },
    "tags": []
   },
   "outputs": [],
   "source": [
    "# train_datagen = ImageDataGenerator(rescale=1./255)\n",
    "# test_datagen = ImageDataGenerator(rescale=1./255)\n",
    "\n",
    "# train_generator = train_datagen.flow_from_directory(\n",
    "#     train_dir,\n",
    "#     target_size = (224, 224),\n",
    "#     batch_size=32\n",
    "# )\n",
    "\n",
    "# validation_generator = test_datagen.flow_from_directory(\n",
    "#     test_dir,\n",
    "#     target_size = (224, 224),\n",
    "#     batch_size=8\n",
    "# )"
   ]
  },
  {
   "cell_type": "markdown",
   "id": "3c8b0cda",
   "metadata": {
    "id": "DwmiNNu3aXOa",
    "papermill": {
     "duration": 0.012015,
     "end_time": "2025-06-21T12:44:03.964868",
     "exception": false,
     "start_time": "2025-06-21T12:44:03.952853",
     "status": "completed"
    },
    "tags": []
   },
   "source": [
    "### Model Development"
   ]
  },
  {
   "cell_type": "markdown",
   "id": "b0e276de",
   "metadata": {
    "id": "w72bxooWaXOb",
    "papermill": {
     "duration": 0.011696,
     "end_time": "2025-06-21T12:44:03.988458",
     "exception": false,
     "start_time": "2025-06-21T12:44:03.976762",
     "status": "completed"
    },
    "tags": []
   },
   "source": [
    "#### Arch Build"
   ]
  },
  {
   "cell_type": "code",
   "execution_count": 21,
   "id": "a67d2e30",
   "metadata": {
    "execution": {
     "iopub.execute_input": "2025-06-21T12:44:04.013010Z",
     "iopub.status.busy": "2025-06-21T12:44:04.012544Z",
     "iopub.status.idle": "2025-06-21T12:44:04.015174Z",
     "shell.execute_reply": "2025-06-21T12:44:04.014674Z"
    },
    "executionInfo": {
     "elapsed": 1269,
     "status": "ok",
     "timestamp": 1750155437714,
     "user": {
      "displayName": "Aditya Bayhaqie",
      "userId": "16906297684641538968"
     },
     "user_tz": -420
    },
    "id": "QpKdL5ToaXOb",
    "outputId": "cbc7ccb7-efab-453d-e147-b63fc9f6ed44",
    "papermill": {
     "duration": 0.015638,
     "end_time": "2025-06-21T12:44:04.016114",
     "exception": false,
     "start_time": "2025-06-21T12:44:04.000476",
     "status": "completed"
    },
    "tags": []
   },
   "outputs": [],
   "source": [
    "# from keras.applications import VGG16\n",
    "\n",
    "# conv_base = VGG16(weights='imagenet',\n",
    "#                  include_top=False,\n",
    "#                  input_shape=(224, 224, 3))\n",
    "\n",
    "# conv_base.summary()"
   ]
  },
  {
   "cell_type": "code",
   "execution_count": 22,
   "id": "15ff3977",
   "metadata": {
    "execution": {
     "iopub.execute_input": "2025-06-21T12:44:04.040380Z",
     "iopub.status.busy": "2025-06-21T12:44:04.040207Z",
     "iopub.status.idle": "2025-06-21T12:44:04.043044Z",
     "shell.execute_reply": "2025-06-21T12:44:04.042519Z"
    },
    "executionInfo": {
     "elapsed": 235,
     "status": "ok",
     "timestamp": 1750155474202,
     "user": {
      "displayName": "Aditya Bayhaqie",
      "userId": "16906297684641538968"
     },
     "user_tz": -420
    },
    "id": "sWhecTL7aXOb",
    "outputId": "764e265c-2b94-4242-8655-30c2bee12d4e",
    "papermill": {
     "duration": 0.016273,
     "end_time": "2025-06-21T12:44:04.044169",
     "exception": false,
     "start_time": "2025-06-21T12:44:04.027896",
     "status": "completed"
    },
    "tags": []
   },
   "outputs": [],
   "source": [
    "# model = models.Sequential()\n",
    "\n",
    "# model.add(conv_base)\n",
    "# model.add(layers.Flatten())\n",
    "# model.add(layers.Dense(512))\n",
    "# model.add(layers.Dropout(0.25))\n",
    "# model.add(layers.Dense(7, activation='softmax'))\n",
    "# model.summary()"
   ]
  },
  {
   "cell_type": "markdown",
   "id": "9cd62546",
   "metadata": {
    "id": "nb7JF046aXOb",
    "papermill": {
     "duration": 0.012064,
     "end_time": "2025-06-21T12:44:04.068207",
     "exception": false,
     "start_time": "2025-06-21T12:44:04.056143",
     "status": "completed"
    },
    "tags": []
   },
   "source": [
    "#### Model Train"
   ]
  },
  {
   "cell_type": "code",
   "execution_count": 23,
   "id": "09419817",
   "metadata": {
    "execution": {
     "iopub.execute_input": "2025-06-21T12:44:04.093206Z",
     "iopub.status.busy": "2025-06-21T12:44:04.092999Z",
     "iopub.status.idle": "2025-06-21T12:44:04.096332Z",
     "shell.execute_reply": "2025-06-21T12:44:04.095600Z"
    },
    "id": "7NSMtwziaXOb",
    "outputId": "7ca7dec8-95f7-4ed8-9ac5-d311b3f8f91d",
    "papermill": {
     "duration": 0.016993,
     "end_time": "2025-06-21T12:44:04.097511",
     "exception": false,
     "start_time": "2025-06-21T12:44:04.080518",
     "status": "completed"
    },
    "tags": []
   },
   "outputs": [],
   "source": [
    "# conv_base.trainable = False\n",
    "# print('This is the number of trainable weights before freezing the conv base:', len(model.trainable_weights))\n",
    "\n",
    "# steps_per_epoch = train_generator.samples // train_generator.batch_size\n",
    "# validation_steps = validation_generator.samples // validation_generator.batch_size\n",
    "\n",
    "# print(steps_per_epoch)\n",
    "# print(validation_steps)\n",
    "\n",
    "# model.compile(\n",
    "#     optimizer=optimizers.Adam(learning_rate=1e-5),\n",
    "#     loss=losses.categorical_crossentropy,\n",
    "#     metrics=[metrics.categorical_accuracy]\n",
    "# )\n",
    "# history = model.fit(train_generator,\n",
    "#                               steps_per_epoch=steps_per_epoch,\n",
    "#                               epochs=15,\n",
    "#                               validation_data=validation_generator,\n",
    "#                               validation_steps=validation_steps)"
   ]
  },
  {
   "cell_type": "code",
   "execution_count": 24,
   "id": "542593f0",
   "metadata": {
    "execution": {
     "iopub.execute_input": "2025-06-21T12:44:04.123926Z",
     "iopub.status.busy": "2025-06-21T12:44:04.123405Z",
     "iopub.status.idle": "2025-06-21T12:44:04.126580Z",
     "shell.execute_reply": "2025-06-21T12:44:04.126089Z"
    },
    "id": "l6UyDMqSaXOc",
    "papermill": {
     "duration": 0.016696,
     "end_time": "2025-06-21T12:44:04.127687",
     "exception": false,
     "start_time": "2025-06-21T12:44:04.110991",
     "status": "completed"
    },
    "tags": []
   },
   "outputs": [],
   "source": [
    "# acc = history.history['categorical_accuracy']\n",
    "# val_acc = history.history['val_categorical_accuracy']\n",
    "# loss = history.history['loss']\n",
    "# val_loss = history.history['val_loss']\n",
    "\n",
    "# epochs = range(1, len(acc)+1)\n",
    "\n",
    "# plt.plot(epochs, acc,  dashes=[2, 2, 10, 2], label='Training acc')\n",
    "# plt.plot(epochs, val_acc, 'g', label='Validation acc')\n",
    "# plt.title('Training and validation accuracy')\n",
    "# plt.legend()\n",
    "\n",
    "# plt.figure()\n",
    "# plt.plot(epochs, loss,  dashes=[2, 2, 10, 2],label='Training losses')\n",
    "# plt.plot(epochs, val_loss, 'g', label='Validation losses')\n",
    "# plt.title('Training and validation loss')\n",
    "# plt.legend()\n",
    "\n",
    "# plt.show()"
   ]
  },
  {
   "cell_type": "code",
   "execution_count": 25,
   "id": "2fa34a76",
   "metadata": {
    "execution": {
     "iopub.execute_input": "2025-06-21T12:44:04.152363Z",
     "iopub.status.busy": "2025-06-21T12:44:04.152143Z",
     "iopub.status.idle": "2025-06-21T12:44:04.155301Z",
     "shell.execute_reply": "2025-06-21T12:44:04.154572Z"
    },
    "id": "CLpgfKgAaXOc",
    "papermill": {
     "duration": 0.01661,
     "end_time": "2025-06-21T12:44:04.156471",
     "exception": false,
     "start_time": "2025-06-21T12:44:04.139861",
     "status": "completed"
    },
    "tags": []
   },
   "outputs": [],
   "source": [
    "# conv_base.trainable = True\n",
    "# set_trainable = False\n",
    "# for layer in conv_base.layers:\n",
    "#     if layer.name == 'block5_conv1':\n",
    "#         set_trainable = True\n",
    "#     if set_trainable:\n",
    "#         layer.trainable = True\n",
    "#     else:\n",
    "#         layer.trainable = False"
   ]
  },
  {
   "cell_type": "code",
   "execution_count": 26,
   "id": "28059ce3",
   "metadata": {
    "execution": {
     "iopub.execute_input": "2025-06-21T12:44:04.180651Z",
     "iopub.status.busy": "2025-06-21T12:44:04.180429Z",
     "iopub.status.idle": "2025-06-21T12:44:04.183422Z",
     "shell.execute_reply": "2025-06-21T12:44:04.182774Z"
    },
    "id": "hgzvuZu9aXOc",
    "papermill": {
     "duration": 0.016495,
     "end_time": "2025-06-21T12:44:04.184504",
     "exception": false,
     "start_time": "2025-06-21T12:44:04.168009",
     "status": "completed"
    },
    "tags": []
   },
   "outputs": [],
   "source": [
    "# model.compile(\n",
    "#     optimizer=optimizers.Adam(learning_rate=1e-5),\n",
    "#     loss=losses.categorical_crossentropy,\n",
    "#     metrics=[metrics.categorical_accuracy]\n",
    "# )\n",
    "\n",
    "# history = model.fit(train_generator,\n",
    "#                               steps_per_epoch=146,\n",
    "#                               epochs=50,\n",
    "#                               validation_data=validation_generator,\n",
    "#                               validation_steps=31)"
   ]
  },
  {
   "cell_type": "code",
   "execution_count": 27,
   "id": "2d03c298",
   "metadata": {
    "execution": {
     "iopub.execute_input": "2025-06-21T12:44:04.208476Z",
     "iopub.status.busy": "2025-06-21T12:44:04.208278Z",
     "iopub.status.idle": "2025-06-21T12:44:04.211284Z",
     "shell.execute_reply": "2025-06-21T12:44:04.210652Z"
    },
    "id": "eCrKVyjRaXOc",
    "papermill": {
     "duration": 0.016109,
     "end_time": "2025-06-21T12:44:04.212244",
     "exception": false,
     "start_time": "2025-06-21T12:44:04.196135",
     "status": "completed"
    },
    "tags": []
   },
   "outputs": [],
   "source": [
    "# acc = history.history['categorical_accuracy']\n",
    "# val_acc = history.history['val_categorical_accuracy']\n",
    "# loss = history.history['loss']\n",
    "# val_loss = history.history['val_loss']\n",
    "\n",
    "# epochs = range(1, len(acc)+1)\n",
    "\n",
    "# plt.plot(epochs, acc,  dashes=[2, 2, 10, 2], label='Training acc')\n",
    "# plt.plot(epochs, val_acc, 'g', label='Validation acc')\n",
    "# plt.title('Training and validation accuracy')\n",
    "# plt.legend()\n",
    "\n",
    "# plt.figure()\n",
    "# plt.plot(epochs, loss,  dashes=[2, 2, 10, 2],label='Training losses')\n",
    "# plt.plot(epochs, val_loss, 'g', label='Validation losses')\n",
    "# plt.title('Training and validation loss')\n",
    "# plt.legend()\n",
    "\n",
    "# plt.show()"
   ]
  },
  {
   "cell_type": "code",
   "execution_count": 28,
   "id": "ee3f013f",
   "metadata": {
    "execution": {
     "iopub.execute_input": "2025-06-21T12:44:04.236128Z",
     "iopub.status.busy": "2025-06-21T12:44:04.235853Z",
     "iopub.status.idle": "2025-06-21T12:44:04.238770Z",
     "shell.execute_reply": "2025-06-21T12:44:04.238109Z"
    },
    "papermill": {
     "duration": 0.015915,
     "end_time": "2025-06-21T12:44:04.239772",
     "exception": false,
     "start_time": "2025-06-21T12:44:04.223857",
     "status": "completed"
    },
    "tags": []
   },
   "outputs": [],
   "source": [
    "# model.save('/kaggle/working/model/VGG16_DO_Model.h5')"
   ]
  },
  {
   "cell_type": "markdown",
   "id": "d2585d43",
   "metadata": {
    "id": "NncdVcxeCH_F",
    "papermill": {
     "duration": 0.011663,
     "end_time": "2025-06-21T12:44:04.262943",
     "exception": false,
     "start_time": "2025-06-21T12:44:04.251280",
     "status": "completed"
    },
    "tags": []
   },
   "source": [
    "## Model w/ VGG 19"
   ]
  },
  {
   "cell_type": "markdown",
   "id": "1dd2a124",
   "metadata": {
    "id": "fZiXp460CH_N",
    "papermill": {
     "duration": 0.011622,
     "end_time": "2025-06-21T12:44:04.286074",
     "exception": false,
     "start_time": "2025-06-21T12:44:04.274452",
     "status": "completed"
    },
    "tags": []
   },
   "source": [
    "### Data Engineering"
   ]
  },
  {
   "cell_type": "code",
   "execution_count": 29,
   "id": "2f7dc098",
   "metadata": {
    "execution": {
     "iopub.execute_input": "2025-06-21T12:44:04.310038Z",
     "iopub.status.busy": "2025-06-21T12:44:04.309842Z",
     "iopub.status.idle": "2025-06-21T12:44:26.967974Z",
     "shell.execute_reply": "2025-06-21T12:44:26.967188Z"
    },
    "executionInfo": {
     "elapsed": 19,
     "status": "ok",
     "timestamp": 1750157171460,
     "user": {
      "displayName": "Aditya Bayhaqie",
      "userId": "16906297684641538968"
     },
     "user_tz": -420
    },
    "id": "JQug4GJzCH_N",
    "outputId": "54f4c700-aabb-4d18-c0de-aef458b8436c",
    "papermill": {
     "duration": 22.671551,
     "end_time": "2025-06-21T12:44:26.969220",
     "exception": false,
     "start_time": "2025-06-21T12:44:04.297669",
     "status": "completed"
    },
    "tags": []
   },
   "outputs": [
    {
     "name": "stdout",
     "output_type": "stream",
     "text": [
      "Found 35129 images belonging to 7 classes.\n",
      "Found 8488 images belonging to 7 classes.\n"
     ]
    }
   ],
   "source": [
    "train_datagen = ImageDataGenerator(rescale=1./255)\n",
    "test_datagen = ImageDataGenerator(rescale=1./255)\n",
    "\n",
    "train_generator = train_datagen.flow_from_directory(\n",
    "    train_dir,\n",
    "    target_size = (224, 224),\n",
    "    batch_size=32\n",
    ")\n",
    "\n",
    "validation_generator = test_datagen.flow_from_directory(\n",
    "    test_dir,\n",
    "    target_size = (224, 224),\n",
    "    batch_size=8\n",
    ")"
   ]
  },
  {
   "cell_type": "markdown",
   "id": "db7a7339",
   "metadata": {
    "id": "fmu5dpf3CH_N",
    "papermill": {
     "duration": 0.011457,
     "end_time": "2025-06-21T12:44:26.992869",
     "exception": false,
     "start_time": "2025-06-21T12:44:26.981412",
     "status": "completed"
    },
    "tags": []
   },
   "source": [
    "### Model Development"
   ]
  },
  {
   "cell_type": "markdown",
   "id": "f5caaa68",
   "metadata": {
    "id": "xqFU2m7tCH_O",
    "papermill": {
     "duration": 0.011396,
     "end_time": "2025-06-21T12:44:27.015910",
     "exception": false,
     "start_time": "2025-06-21T12:44:27.004514",
     "status": "completed"
    },
    "tags": []
   },
   "source": [
    "#### Arch Build"
   ]
  },
  {
   "cell_type": "code",
   "execution_count": 30,
   "id": "9700fa2c",
   "metadata": {
    "execution": {
     "iopub.execute_input": "2025-06-21T12:44:27.039969Z",
     "iopub.status.busy": "2025-06-21T12:44:27.039759Z",
     "iopub.status.idle": "2025-06-21T12:44:30.031230Z",
     "shell.execute_reply": "2025-06-21T12:44:30.030511Z"
    },
    "executionInfo": {
     "elapsed": 187,
     "status": "ok",
     "timestamp": 1750157171648,
     "user": {
      "displayName": "Aditya Bayhaqie",
      "userId": "16906297684641538968"
     },
     "user_tz": -420
    },
    "id": "dMn6LQ32CH_O",
    "outputId": "ee4452bd-3cf2-45f1-d5e6-08b8386ac2c2",
    "papermill": {
     "duration": 3.004844,
     "end_time": "2025-06-21T12:44:30.032377",
     "exception": false,
     "start_time": "2025-06-21T12:44:27.027533",
     "status": "completed"
    },
    "tags": []
   },
   "outputs": [
    {
     "name": "stderr",
     "output_type": "stream",
     "text": [
      "I0000 00:00:1750509868.092835      19 gpu_device.cc:2022] Created device /job:localhost/replica:0/task:0/device:GPU:0 with 13942 MB memory:  -> device: 0, name: Tesla T4, pci bus id: 0000:00:04.0, compute capability: 7.5\n",
      "I0000 00:00:1750509868.093541      19 gpu_device.cc:2022] Created device /job:localhost/replica:0/task:0/device:GPU:1 with 13942 MB memory:  -> device: 1, name: Tesla T4, pci bus id: 0000:00:05.0, compute capability: 7.5\n"
     ]
    },
    {
     "name": "stdout",
     "output_type": "stream",
     "text": [
      "Downloading data from https://storage.googleapis.com/tensorflow/keras-applications/vgg19/vgg19_weights_tf_dim_ordering_tf_kernels_notop.h5\n",
      "\u001b[1m80134624/80134624\u001b[0m \u001b[32m━━━━━━━━━━━━━━━━━━━━\u001b[0m\u001b[37m\u001b[0m \u001b[1m0s\u001b[0m 0us/step\n"
     ]
    },
    {
     "data": {
      "text/html": [
       "<pre style=\"white-space:pre;overflow-x:auto;line-height:normal;font-family:Menlo,'DejaVu Sans Mono',consolas,'Courier New',monospace\"><span style=\"font-weight: bold\">Model: \"vgg19\"</span>\n",
       "</pre>\n"
      ],
      "text/plain": [
       "\u001b[1mModel: \"vgg19\"\u001b[0m\n"
      ]
     },
     "metadata": {},
     "output_type": "display_data"
    },
    {
     "data": {
      "text/html": [
       "<pre style=\"white-space:pre;overflow-x:auto;line-height:normal;font-family:Menlo,'DejaVu Sans Mono',consolas,'Courier New',monospace\">┏━━━━━━━━━━━━━━━━━━━━━━━━━━━━━━━━━━━━━━┳━━━━━━━━━━━━━━━━━━━━━━━━━━━━━┳━━━━━━━━━━━━━━━━━┓\n",
       "┃<span style=\"font-weight: bold\"> Layer (type)                         </span>┃<span style=\"font-weight: bold\"> Output Shape                </span>┃<span style=\"font-weight: bold\">         Param # </span>┃\n",
       "┡━━━━━━━━━━━━━━━━━━━━━━━━━━━━━━━━━━━━━━╇━━━━━━━━━━━━━━━━━━━━━━━━━━━━━╇━━━━━━━━━━━━━━━━━┩\n",
       "│ input_layer (<span style=\"color: #0087ff; text-decoration-color: #0087ff\">InputLayer</span>)             │ (<span style=\"color: #00d7ff; text-decoration-color: #00d7ff\">None</span>, <span style=\"color: #00af00; text-decoration-color: #00af00\">224</span>, <span style=\"color: #00af00; text-decoration-color: #00af00\">224</span>, <span style=\"color: #00af00; text-decoration-color: #00af00\">3</span>)         │               <span style=\"color: #00af00; text-decoration-color: #00af00\">0</span> │\n",
       "├──────────────────────────────────────┼─────────────────────────────┼─────────────────┤\n",
       "│ block1_conv1 (<span style=\"color: #0087ff; text-decoration-color: #0087ff\">Conv2D</span>)                │ (<span style=\"color: #00d7ff; text-decoration-color: #00d7ff\">None</span>, <span style=\"color: #00af00; text-decoration-color: #00af00\">224</span>, <span style=\"color: #00af00; text-decoration-color: #00af00\">224</span>, <span style=\"color: #00af00; text-decoration-color: #00af00\">64</span>)        │           <span style=\"color: #00af00; text-decoration-color: #00af00\">1,792</span> │\n",
       "├──────────────────────────────────────┼─────────────────────────────┼─────────────────┤\n",
       "│ block1_conv2 (<span style=\"color: #0087ff; text-decoration-color: #0087ff\">Conv2D</span>)                │ (<span style=\"color: #00d7ff; text-decoration-color: #00d7ff\">None</span>, <span style=\"color: #00af00; text-decoration-color: #00af00\">224</span>, <span style=\"color: #00af00; text-decoration-color: #00af00\">224</span>, <span style=\"color: #00af00; text-decoration-color: #00af00\">64</span>)        │          <span style=\"color: #00af00; text-decoration-color: #00af00\">36,928</span> │\n",
       "├──────────────────────────────────────┼─────────────────────────────┼─────────────────┤\n",
       "│ block1_pool (<span style=\"color: #0087ff; text-decoration-color: #0087ff\">MaxPooling2D</span>)           │ (<span style=\"color: #00d7ff; text-decoration-color: #00d7ff\">None</span>, <span style=\"color: #00af00; text-decoration-color: #00af00\">112</span>, <span style=\"color: #00af00; text-decoration-color: #00af00\">112</span>, <span style=\"color: #00af00; text-decoration-color: #00af00\">64</span>)        │               <span style=\"color: #00af00; text-decoration-color: #00af00\">0</span> │\n",
       "├──────────────────────────────────────┼─────────────────────────────┼─────────────────┤\n",
       "│ block2_conv1 (<span style=\"color: #0087ff; text-decoration-color: #0087ff\">Conv2D</span>)                │ (<span style=\"color: #00d7ff; text-decoration-color: #00d7ff\">None</span>, <span style=\"color: #00af00; text-decoration-color: #00af00\">112</span>, <span style=\"color: #00af00; text-decoration-color: #00af00\">112</span>, <span style=\"color: #00af00; text-decoration-color: #00af00\">128</span>)       │          <span style=\"color: #00af00; text-decoration-color: #00af00\">73,856</span> │\n",
       "├──────────────────────────────────────┼─────────────────────────────┼─────────────────┤\n",
       "│ block2_conv2 (<span style=\"color: #0087ff; text-decoration-color: #0087ff\">Conv2D</span>)                │ (<span style=\"color: #00d7ff; text-decoration-color: #00d7ff\">None</span>, <span style=\"color: #00af00; text-decoration-color: #00af00\">112</span>, <span style=\"color: #00af00; text-decoration-color: #00af00\">112</span>, <span style=\"color: #00af00; text-decoration-color: #00af00\">128</span>)       │         <span style=\"color: #00af00; text-decoration-color: #00af00\">147,584</span> │\n",
       "├──────────────────────────────────────┼─────────────────────────────┼─────────────────┤\n",
       "│ block2_pool (<span style=\"color: #0087ff; text-decoration-color: #0087ff\">MaxPooling2D</span>)           │ (<span style=\"color: #00d7ff; text-decoration-color: #00d7ff\">None</span>, <span style=\"color: #00af00; text-decoration-color: #00af00\">56</span>, <span style=\"color: #00af00; text-decoration-color: #00af00\">56</span>, <span style=\"color: #00af00; text-decoration-color: #00af00\">128</span>)         │               <span style=\"color: #00af00; text-decoration-color: #00af00\">0</span> │\n",
       "├──────────────────────────────────────┼─────────────────────────────┼─────────────────┤\n",
       "│ block3_conv1 (<span style=\"color: #0087ff; text-decoration-color: #0087ff\">Conv2D</span>)                │ (<span style=\"color: #00d7ff; text-decoration-color: #00d7ff\">None</span>, <span style=\"color: #00af00; text-decoration-color: #00af00\">56</span>, <span style=\"color: #00af00; text-decoration-color: #00af00\">56</span>, <span style=\"color: #00af00; text-decoration-color: #00af00\">256</span>)         │         <span style=\"color: #00af00; text-decoration-color: #00af00\">295,168</span> │\n",
       "├──────────────────────────────────────┼─────────────────────────────┼─────────────────┤\n",
       "│ block3_conv2 (<span style=\"color: #0087ff; text-decoration-color: #0087ff\">Conv2D</span>)                │ (<span style=\"color: #00d7ff; text-decoration-color: #00d7ff\">None</span>, <span style=\"color: #00af00; text-decoration-color: #00af00\">56</span>, <span style=\"color: #00af00; text-decoration-color: #00af00\">56</span>, <span style=\"color: #00af00; text-decoration-color: #00af00\">256</span>)         │         <span style=\"color: #00af00; text-decoration-color: #00af00\">590,080</span> │\n",
       "├──────────────────────────────────────┼─────────────────────────────┼─────────────────┤\n",
       "│ block3_conv3 (<span style=\"color: #0087ff; text-decoration-color: #0087ff\">Conv2D</span>)                │ (<span style=\"color: #00d7ff; text-decoration-color: #00d7ff\">None</span>, <span style=\"color: #00af00; text-decoration-color: #00af00\">56</span>, <span style=\"color: #00af00; text-decoration-color: #00af00\">56</span>, <span style=\"color: #00af00; text-decoration-color: #00af00\">256</span>)         │         <span style=\"color: #00af00; text-decoration-color: #00af00\">590,080</span> │\n",
       "├──────────────────────────────────────┼─────────────────────────────┼─────────────────┤\n",
       "│ block3_conv4 (<span style=\"color: #0087ff; text-decoration-color: #0087ff\">Conv2D</span>)                │ (<span style=\"color: #00d7ff; text-decoration-color: #00d7ff\">None</span>, <span style=\"color: #00af00; text-decoration-color: #00af00\">56</span>, <span style=\"color: #00af00; text-decoration-color: #00af00\">56</span>, <span style=\"color: #00af00; text-decoration-color: #00af00\">256</span>)         │         <span style=\"color: #00af00; text-decoration-color: #00af00\">590,080</span> │\n",
       "├──────────────────────────────────────┼─────────────────────────────┼─────────────────┤\n",
       "│ block3_pool (<span style=\"color: #0087ff; text-decoration-color: #0087ff\">MaxPooling2D</span>)           │ (<span style=\"color: #00d7ff; text-decoration-color: #00d7ff\">None</span>, <span style=\"color: #00af00; text-decoration-color: #00af00\">28</span>, <span style=\"color: #00af00; text-decoration-color: #00af00\">28</span>, <span style=\"color: #00af00; text-decoration-color: #00af00\">256</span>)         │               <span style=\"color: #00af00; text-decoration-color: #00af00\">0</span> │\n",
       "├──────────────────────────────────────┼─────────────────────────────┼─────────────────┤\n",
       "│ block4_conv1 (<span style=\"color: #0087ff; text-decoration-color: #0087ff\">Conv2D</span>)                │ (<span style=\"color: #00d7ff; text-decoration-color: #00d7ff\">None</span>, <span style=\"color: #00af00; text-decoration-color: #00af00\">28</span>, <span style=\"color: #00af00; text-decoration-color: #00af00\">28</span>, <span style=\"color: #00af00; text-decoration-color: #00af00\">512</span>)         │       <span style=\"color: #00af00; text-decoration-color: #00af00\">1,180,160</span> │\n",
       "├──────────────────────────────────────┼─────────────────────────────┼─────────────────┤\n",
       "│ block4_conv2 (<span style=\"color: #0087ff; text-decoration-color: #0087ff\">Conv2D</span>)                │ (<span style=\"color: #00d7ff; text-decoration-color: #00d7ff\">None</span>, <span style=\"color: #00af00; text-decoration-color: #00af00\">28</span>, <span style=\"color: #00af00; text-decoration-color: #00af00\">28</span>, <span style=\"color: #00af00; text-decoration-color: #00af00\">512</span>)         │       <span style=\"color: #00af00; text-decoration-color: #00af00\">2,359,808</span> │\n",
       "├──────────────────────────────────────┼─────────────────────────────┼─────────────────┤\n",
       "│ block4_conv3 (<span style=\"color: #0087ff; text-decoration-color: #0087ff\">Conv2D</span>)                │ (<span style=\"color: #00d7ff; text-decoration-color: #00d7ff\">None</span>, <span style=\"color: #00af00; text-decoration-color: #00af00\">28</span>, <span style=\"color: #00af00; text-decoration-color: #00af00\">28</span>, <span style=\"color: #00af00; text-decoration-color: #00af00\">512</span>)         │       <span style=\"color: #00af00; text-decoration-color: #00af00\">2,359,808</span> │\n",
       "├──────────────────────────────────────┼─────────────────────────────┼─────────────────┤\n",
       "│ block4_conv4 (<span style=\"color: #0087ff; text-decoration-color: #0087ff\">Conv2D</span>)                │ (<span style=\"color: #00d7ff; text-decoration-color: #00d7ff\">None</span>, <span style=\"color: #00af00; text-decoration-color: #00af00\">28</span>, <span style=\"color: #00af00; text-decoration-color: #00af00\">28</span>, <span style=\"color: #00af00; text-decoration-color: #00af00\">512</span>)         │       <span style=\"color: #00af00; text-decoration-color: #00af00\">2,359,808</span> │\n",
       "├──────────────────────────────────────┼─────────────────────────────┼─────────────────┤\n",
       "│ block4_pool (<span style=\"color: #0087ff; text-decoration-color: #0087ff\">MaxPooling2D</span>)           │ (<span style=\"color: #00d7ff; text-decoration-color: #00d7ff\">None</span>, <span style=\"color: #00af00; text-decoration-color: #00af00\">14</span>, <span style=\"color: #00af00; text-decoration-color: #00af00\">14</span>, <span style=\"color: #00af00; text-decoration-color: #00af00\">512</span>)         │               <span style=\"color: #00af00; text-decoration-color: #00af00\">0</span> │\n",
       "├──────────────────────────────────────┼─────────────────────────────┼─────────────────┤\n",
       "│ block5_conv1 (<span style=\"color: #0087ff; text-decoration-color: #0087ff\">Conv2D</span>)                │ (<span style=\"color: #00d7ff; text-decoration-color: #00d7ff\">None</span>, <span style=\"color: #00af00; text-decoration-color: #00af00\">14</span>, <span style=\"color: #00af00; text-decoration-color: #00af00\">14</span>, <span style=\"color: #00af00; text-decoration-color: #00af00\">512</span>)         │       <span style=\"color: #00af00; text-decoration-color: #00af00\">2,359,808</span> │\n",
       "├──────────────────────────────────────┼─────────────────────────────┼─────────────────┤\n",
       "│ block5_conv2 (<span style=\"color: #0087ff; text-decoration-color: #0087ff\">Conv2D</span>)                │ (<span style=\"color: #00d7ff; text-decoration-color: #00d7ff\">None</span>, <span style=\"color: #00af00; text-decoration-color: #00af00\">14</span>, <span style=\"color: #00af00; text-decoration-color: #00af00\">14</span>, <span style=\"color: #00af00; text-decoration-color: #00af00\">512</span>)         │       <span style=\"color: #00af00; text-decoration-color: #00af00\">2,359,808</span> │\n",
       "├──────────────────────────────────────┼─────────────────────────────┼─────────────────┤\n",
       "│ block5_conv3 (<span style=\"color: #0087ff; text-decoration-color: #0087ff\">Conv2D</span>)                │ (<span style=\"color: #00d7ff; text-decoration-color: #00d7ff\">None</span>, <span style=\"color: #00af00; text-decoration-color: #00af00\">14</span>, <span style=\"color: #00af00; text-decoration-color: #00af00\">14</span>, <span style=\"color: #00af00; text-decoration-color: #00af00\">512</span>)         │       <span style=\"color: #00af00; text-decoration-color: #00af00\">2,359,808</span> │\n",
       "├──────────────────────────────────────┼─────────────────────────────┼─────────────────┤\n",
       "│ block5_conv4 (<span style=\"color: #0087ff; text-decoration-color: #0087ff\">Conv2D</span>)                │ (<span style=\"color: #00d7ff; text-decoration-color: #00d7ff\">None</span>, <span style=\"color: #00af00; text-decoration-color: #00af00\">14</span>, <span style=\"color: #00af00; text-decoration-color: #00af00\">14</span>, <span style=\"color: #00af00; text-decoration-color: #00af00\">512</span>)         │       <span style=\"color: #00af00; text-decoration-color: #00af00\">2,359,808</span> │\n",
       "├──────────────────────────────────────┼─────────────────────────────┼─────────────────┤\n",
       "│ block5_pool (<span style=\"color: #0087ff; text-decoration-color: #0087ff\">MaxPooling2D</span>)           │ (<span style=\"color: #00d7ff; text-decoration-color: #00d7ff\">None</span>, <span style=\"color: #00af00; text-decoration-color: #00af00\">7</span>, <span style=\"color: #00af00; text-decoration-color: #00af00\">7</span>, <span style=\"color: #00af00; text-decoration-color: #00af00\">512</span>)           │               <span style=\"color: #00af00; text-decoration-color: #00af00\">0</span> │\n",
       "└──────────────────────────────────────┴─────────────────────────────┴─────────────────┘\n",
       "</pre>\n"
      ],
      "text/plain": [
       "┏━━━━━━━━━━━━━━━━━━━━━━━━━━━━━━━━━━━━━━┳━━━━━━━━━━━━━━━━━━━━━━━━━━━━━┳━━━━━━━━━━━━━━━━━┓\n",
       "┃\u001b[1m \u001b[0m\u001b[1mLayer (type)                        \u001b[0m\u001b[1m \u001b[0m┃\u001b[1m \u001b[0m\u001b[1mOutput Shape               \u001b[0m\u001b[1m \u001b[0m┃\u001b[1m \u001b[0m\u001b[1m        Param #\u001b[0m\u001b[1m \u001b[0m┃\n",
       "┡━━━━━━━━━━━━━━━━━━━━━━━━━━━━━━━━━━━━━━╇━━━━━━━━━━━━━━━━━━━━━━━━━━━━━╇━━━━━━━━━━━━━━━━━┩\n",
       "│ input_layer (\u001b[38;5;33mInputLayer\u001b[0m)             │ (\u001b[38;5;45mNone\u001b[0m, \u001b[38;5;34m224\u001b[0m, \u001b[38;5;34m224\u001b[0m, \u001b[38;5;34m3\u001b[0m)         │               \u001b[38;5;34m0\u001b[0m │\n",
       "├──────────────────────────────────────┼─────────────────────────────┼─────────────────┤\n",
       "│ block1_conv1 (\u001b[38;5;33mConv2D\u001b[0m)                │ (\u001b[38;5;45mNone\u001b[0m, \u001b[38;5;34m224\u001b[0m, \u001b[38;5;34m224\u001b[0m, \u001b[38;5;34m64\u001b[0m)        │           \u001b[38;5;34m1,792\u001b[0m │\n",
       "├──────────────────────────────────────┼─────────────────────────────┼─────────────────┤\n",
       "│ block1_conv2 (\u001b[38;5;33mConv2D\u001b[0m)                │ (\u001b[38;5;45mNone\u001b[0m, \u001b[38;5;34m224\u001b[0m, \u001b[38;5;34m224\u001b[0m, \u001b[38;5;34m64\u001b[0m)        │          \u001b[38;5;34m36,928\u001b[0m │\n",
       "├──────────────────────────────────────┼─────────────────────────────┼─────────────────┤\n",
       "│ block1_pool (\u001b[38;5;33mMaxPooling2D\u001b[0m)           │ (\u001b[38;5;45mNone\u001b[0m, \u001b[38;5;34m112\u001b[0m, \u001b[38;5;34m112\u001b[0m, \u001b[38;5;34m64\u001b[0m)        │               \u001b[38;5;34m0\u001b[0m │\n",
       "├──────────────────────────────────────┼─────────────────────────────┼─────────────────┤\n",
       "│ block2_conv1 (\u001b[38;5;33mConv2D\u001b[0m)                │ (\u001b[38;5;45mNone\u001b[0m, \u001b[38;5;34m112\u001b[0m, \u001b[38;5;34m112\u001b[0m, \u001b[38;5;34m128\u001b[0m)       │          \u001b[38;5;34m73,856\u001b[0m │\n",
       "├──────────────────────────────────────┼─────────────────────────────┼─────────────────┤\n",
       "│ block2_conv2 (\u001b[38;5;33mConv2D\u001b[0m)                │ (\u001b[38;5;45mNone\u001b[0m, \u001b[38;5;34m112\u001b[0m, \u001b[38;5;34m112\u001b[0m, \u001b[38;5;34m128\u001b[0m)       │         \u001b[38;5;34m147,584\u001b[0m │\n",
       "├──────────────────────────────────────┼─────────────────────────────┼─────────────────┤\n",
       "│ block2_pool (\u001b[38;5;33mMaxPooling2D\u001b[0m)           │ (\u001b[38;5;45mNone\u001b[0m, \u001b[38;5;34m56\u001b[0m, \u001b[38;5;34m56\u001b[0m, \u001b[38;5;34m128\u001b[0m)         │               \u001b[38;5;34m0\u001b[0m │\n",
       "├──────────────────────────────────────┼─────────────────────────────┼─────────────────┤\n",
       "│ block3_conv1 (\u001b[38;5;33mConv2D\u001b[0m)                │ (\u001b[38;5;45mNone\u001b[0m, \u001b[38;5;34m56\u001b[0m, \u001b[38;5;34m56\u001b[0m, \u001b[38;5;34m256\u001b[0m)         │         \u001b[38;5;34m295,168\u001b[0m │\n",
       "├──────────────────────────────────────┼─────────────────────────────┼─────────────────┤\n",
       "│ block3_conv2 (\u001b[38;5;33mConv2D\u001b[0m)                │ (\u001b[38;5;45mNone\u001b[0m, \u001b[38;5;34m56\u001b[0m, \u001b[38;5;34m56\u001b[0m, \u001b[38;5;34m256\u001b[0m)         │         \u001b[38;5;34m590,080\u001b[0m │\n",
       "├──────────────────────────────────────┼─────────────────────────────┼─────────────────┤\n",
       "│ block3_conv3 (\u001b[38;5;33mConv2D\u001b[0m)                │ (\u001b[38;5;45mNone\u001b[0m, \u001b[38;5;34m56\u001b[0m, \u001b[38;5;34m56\u001b[0m, \u001b[38;5;34m256\u001b[0m)         │         \u001b[38;5;34m590,080\u001b[0m │\n",
       "├──────────────────────────────────────┼─────────────────────────────┼─────────────────┤\n",
       "│ block3_conv4 (\u001b[38;5;33mConv2D\u001b[0m)                │ (\u001b[38;5;45mNone\u001b[0m, \u001b[38;5;34m56\u001b[0m, \u001b[38;5;34m56\u001b[0m, \u001b[38;5;34m256\u001b[0m)         │         \u001b[38;5;34m590,080\u001b[0m │\n",
       "├──────────────────────────────────────┼─────────────────────────────┼─────────────────┤\n",
       "│ block3_pool (\u001b[38;5;33mMaxPooling2D\u001b[0m)           │ (\u001b[38;5;45mNone\u001b[0m, \u001b[38;5;34m28\u001b[0m, \u001b[38;5;34m28\u001b[0m, \u001b[38;5;34m256\u001b[0m)         │               \u001b[38;5;34m0\u001b[0m │\n",
       "├──────────────────────────────────────┼─────────────────────────────┼─────────────────┤\n",
       "│ block4_conv1 (\u001b[38;5;33mConv2D\u001b[0m)                │ (\u001b[38;5;45mNone\u001b[0m, \u001b[38;5;34m28\u001b[0m, \u001b[38;5;34m28\u001b[0m, \u001b[38;5;34m512\u001b[0m)         │       \u001b[38;5;34m1,180,160\u001b[0m │\n",
       "├──────────────────────────────────────┼─────────────────────────────┼─────────────────┤\n",
       "│ block4_conv2 (\u001b[38;5;33mConv2D\u001b[0m)                │ (\u001b[38;5;45mNone\u001b[0m, \u001b[38;5;34m28\u001b[0m, \u001b[38;5;34m28\u001b[0m, \u001b[38;5;34m512\u001b[0m)         │       \u001b[38;5;34m2,359,808\u001b[0m │\n",
       "├──────────────────────────────────────┼─────────────────────────────┼─────────────────┤\n",
       "│ block4_conv3 (\u001b[38;5;33mConv2D\u001b[0m)                │ (\u001b[38;5;45mNone\u001b[0m, \u001b[38;5;34m28\u001b[0m, \u001b[38;5;34m28\u001b[0m, \u001b[38;5;34m512\u001b[0m)         │       \u001b[38;5;34m2,359,808\u001b[0m │\n",
       "├──────────────────────────────────────┼─────────────────────────────┼─────────────────┤\n",
       "│ block4_conv4 (\u001b[38;5;33mConv2D\u001b[0m)                │ (\u001b[38;5;45mNone\u001b[0m, \u001b[38;5;34m28\u001b[0m, \u001b[38;5;34m28\u001b[0m, \u001b[38;5;34m512\u001b[0m)         │       \u001b[38;5;34m2,359,808\u001b[0m │\n",
       "├──────────────────────────────────────┼─────────────────────────────┼─────────────────┤\n",
       "│ block4_pool (\u001b[38;5;33mMaxPooling2D\u001b[0m)           │ (\u001b[38;5;45mNone\u001b[0m, \u001b[38;5;34m14\u001b[0m, \u001b[38;5;34m14\u001b[0m, \u001b[38;5;34m512\u001b[0m)         │               \u001b[38;5;34m0\u001b[0m │\n",
       "├──────────────────────────────────────┼─────────────────────────────┼─────────────────┤\n",
       "│ block5_conv1 (\u001b[38;5;33mConv2D\u001b[0m)                │ (\u001b[38;5;45mNone\u001b[0m, \u001b[38;5;34m14\u001b[0m, \u001b[38;5;34m14\u001b[0m, \u001b[38;5;34m512\u001b[0m)         │       \u001b[38;5;34m2,359,808\u001b[0m │\n",
       "├──────────────────────────────────────┼─────────────────────────────┼─────────────────┤\n",
       "│ block5_conv2 (\u001b[38;5;33mConv2D\u001b[0m)                │ (\u001b[38;5;45mNone\u001b[0m, \u001b[38;5;34m14\u001b[0m, \u001b[38;5;34m14\u001b[0m, \u001b[38;5;34m512\u001b[0m)         │       \u001b[38;5;34m2,359,808\u001b[0m │\n",
       "├──────────────────────────────────────┼─────────────────────────────┼─────────────────┤\n",
       "│ block5_conv3 (\u001b[38;5;33mConv2D\u001b[0m)                │ (\u001b[38;5;45mNone\u001b[0m, \u001b[38;5;34m14\u001b[0m, \u001b[38;5;34m14\u001b[0m, \u001b[38;5;34m512\u001b[0m)         │       \u001b[38;5;34m2,359,808\u001b[0m │\n",
       "├──────────────────────────────────────┼─────────────────────────────┼─────────────────┤\n",
       "│ block5_conv4 (\u001b[38;5;33mConv2D\u001b[0m)                │ (\u001b[38;5;45mNone\u001b[0m, \u001b[38;5;34m14\u001b[0m, \u001b[38;5;34m14\u001b[0m, \u001b[38;5;34m512\u001b[0m)         │       \u001b[38;5;34m2,359,808\u001b[0m │\n",
       "├──────────────────────────────────────┼─────────────────────────────┼─────────────────┤\n",
       "│ block5_pool (\u001b[38;5;33mMaxPooling2D\u001b[0m)           │ (\u001b[38;5;45mNone\u001b[0m, \u001b[38;5;34m7\u001b[0m, \u001b[38;5;34m7\u001b[0m, \u001b[38;5;34m512\u001b[0m)           │               \u001b[38;5;34m0\u001b[0m │\n",
       "└──────────────────────────────────────┴─────────────────────────────┴─────────────────┘\n"
      ]
     },
     "metadata": {},
     "output_type": "display_data"
    },
    {
     "data": {
      "text/html": [
       "<pre style=\"white-space:pre;overflow-x:auto;line-height:normal;font-family:Menlo,'DejaVu Sans Mono',consolas,'Courier New',monospace\"><span style=\"font-weight: bold\"> Total params: </span><span style=\"color: #00af00; text-decoration-color: #00af00\">20,024,384</span> (76.39 MB)\n",
       "</pre>\n"
      ],
      "text/plain": [
       "\u001b[1m Total params: \u001b[0m\u001b[38;5;34m20,024,384\u001b[0m (76.39 MB)\n"
      ]
     },
     "metadata": {},
     "output_type": "display_data"
    },
    {
     "data": {
      "text/html": [
       "<pre style=\"white-space:pre;overflow-x:auto;line-height:normal;font-family:Menlo,'DejaVu Sans Mono',consolas,'Courier New',monospace\"><span style=\"font-weight: bold\"> Trainable params: </span><span style=\"color: #00af00; text-decoration-color: #00af00\">20,024,384</span> (76.39 MB)\n",
       "</pre>\n"
      ],
      "text/plain": [
       "\u001b[1m Trainable params: \u001b[0m\u001b[38;5;34m20,024,384\u001b[0m (76.39 MB)\n"
      ]
     },
     "metadata": {},
     "output_type": "display_data"
    },
    {
     "data": {
      "text/html": [
       "<pre style=\"white-space:pre;overflow-x:auto;line-height:normal;font-family:Menlo,'DejaVu Sans Mono',consolas,'Courier New',monospace\"><span style=\"font-weight: bold\"> Non-trainable params: </span><span style=\"color: #00af00; text-decoration-color: #00af00\">0</span> (0.00 B)\n",
       "</pre>\n"
      ],
      "text/plain": [
       "\u001b[1m Non-trainable params: \u001b[0m\u001b[38;5;34m0\u001b[0m (0.00 B)\n"
      ]
     },
     "metadata": {},
     "output_type": "display_data"
    }
   ],
   "source": [
    "from keras.applications import VGG19\n",
    "\n",
    "conv_base = VGG19(weights='imagenet',\n",
    "                 include_top=False,\n",
    "                 input_shape=(224, 224, 3))\n",
    "\n",
    "conv_base.summary()"
   ]
  },
  {
   "cell_type": "code",
   "execution_count": 31,
   "id": "4f77f807",
   "metadata": {
    "execution": {
     "iopub.execute_input": "2025-06-21T12:44:30.062850Z",
     "iopub.status.busy": "2025-06-21T12:44:30.062265Z",
     "iopub.status.idle": "2025-06-21T12:44:30.098937Z",
     "shell.execute_reply": "2025-06-21T12:44:30.098238Z"
    },
    "executionInfo": {
     "elapsed": 99,
     "status": "ok",
     "timestamp": 1750157171762,
     "user": {
      "displayName": "Aditya Bayhaqie",
      "userId": "16906297684641538968"
     },
     "user_tz": -420
    },
    "id": "1gWL0sCJCH_O",
    "outputId": "3c1e2787-94a2-4a3e-8a41-4c7c501072f7",
    "papermill": {
     "duration": 0.051566,
     "end_time": "2025-06-21T12:44:30.100016",
     "exception": false,
     "start_time": "2025-06-21T12:44:30.048450",
     "status": "completed"
    },
    "tags": []
   },
   "outputs": [
    {
     "data": {
      "text/html": [
       "<pre style=\"white-space:pre;overflow-x:auto;line-height:normal;font-family:Menlo,'DejaVu Sans Mono',consolas,'Courier New',monospace\"><span style=\"font-weight: bold\">Model: \"sequential\"</span>\n",
       "</pre>\n"
      ],
      "text/plain": [
       "\u001b[1mModel: \"sequential\"\u001b[0m\n"
      ]
     },
     "metadata": {},
     "output_type": "display_data"
    },
    {
     "data": {
      "text/html": [
       "<pre style=\"white-space:pre;overflow-x:auto;line-height:normal;font-family:Menlo,'DejaVu Sans Mono',consolas,'Courier New',monospace\">┏━━━━━━━━━━━━━━━━━━━━━━━━━━━━━━━━━━━━━━┳━━━━━━━━━━━━━━━━━━━━━━━━━━━━━┳━━━━━━━━━━━━━━━━━┓\n",
       "┃<span style=\"font-weight: bold\"> Layer (type)                         </span>┃<span style=\"font-weight: bold\"> Output Shape                </span>┃<span style=\"font-weight: bold\">         Param # </span>┃\n",
       "┡━━━━━━━━━━━━━━━━━━━━━━━━━━━━━━━━━━━━━━╇━━━━━━━━━━━━━━━━━━━━━━━━━━━━━╇━━━━━━━━━━━━━━━━━┩\n",
       "│ vgg19 (<span style=\"color: #0087ff; text-decoration-color: #0087ff\">Functional</span>)                   │ (<span style=\"color: #00d7ff; text-decoration-color: #00d7ff\">None</span>, <span style=\"color: #00af00; text-decoration-color: #00af00\">7</span>, <span style=\"color: #00af00; text-decoration-color: #00af00\">7</span>, <span style=\"color: #00af00; text-decoration-color: #00af00\">512</span>)           │      <span style=\"color: #00af00; text-decoration-color: #00af00\">20,024,384</span> │\n",
       "├──────────────────────────────────────┼─────────────────────────────┼─────────────────┤\n",
       "│ flatten (<span style=\"color: #0087ff; text-decoration-color: #0087ff\">Flatten</span>)                    │ (<span style=\"color: #00d7ff; text-decoration-color: #00d7ff\">None</span>, <span style=\"color: #00af00; text-decoration-color: #00af00\">25088</span>)               │               <span style=\"color: #00af00; text-decoration-color: #00af00\">0</span> │\n",
       "├──────────────────────────────────────┼─────────────────────────────┼─────────────────┤\n",
       "│ dense (<span style=\"color: #0087ff; text-decoration-color: #0087ff\">Dense</span>)                        │ (<span style=\"color: #00d7ff; text-decoration-color: #00d7ff\">None</span>, <span style=\"color: #00af00; text-decoration-color: #00af00\">512</span>)                 │      <span style=\"color: #00af00; text-decoration-color: #00af00\">12,845,568</span> │\n",
       "├──────────────────────────────────────┼─────────────────────────────┼─────────────────┤\n",
       "│ dense_1 (<span style=\"color: #0087ff; text-decoration-color: #0087ff\">Dense</span>)                      │ (<span style=\"color: #00d7ff; text-decoration-color: #00d7ff\">None</span>, <span style=\"color: #00af00; text-decoration-color: #00af00\">7</span>)                   │           <span style=\"color: #00af00; text-decoration-color: #00af00\">3,591</span> │\n",
       "└──────────────────────────────────────┴─────────────────────────────┴─────────────────┘\n",
       "</pre>\n"
      ],
      "text/plain": [
       "┏━━━━━━━━━━━━━━━━━━━━━━━━━━━━━━━━━━━━━━┳━━━━━━━━━━━━━━━━━━━━━━━━━━━━━┳━━━━━━━━━━━━━━━━━┓\n",
       "┃\u001b[1m \u001b[0m\u001b[1mLayer (type)                        \u001b[0m\u001b[1m \u001b[0m┃\u001b[1m \u001b[0m\u001b[1mOutput Shape               \u001b[0m\u001b[1m \u001b[0m┃\u001b[1m \u001b[0m\u001b[1m        Param #\u001b[0m\u001b[1m \u001b[0m┃\n",
       "┡━━━━━━━━━━━━━━━━━━━━━━━━━━━━━━━━━━━━━━╇━━━━━━━━━━━━━━━━━━━━━━━━━━━━━╇━━━━━━━━━━━━━━━━━┩\n",
       "│ vgg19 (\u001b[38;5;33mFunctional\u001b[0m)                   │ (\u001b[38;5;45mNone\u001b[0m, \u001b[38;5;34m7\u001b[0m, \u001b[38;5;34m7\u001b[0m, \u001b[38;5;34m512\u001b[0m)           │      \u001b[38;5;34m20,024,384\u001b[0m │\n",
       "├──────────────────────────────────────┼─────────────────────────────┼─────────────────┤\n",
       "│ flatten (\u001b[38;5;33mFlatten\u001b[0m)                    │ (\u001b[38;5;45mNone\u001b[0m, \u001b[38;5;34m25088\u001b[0m)               │               \u001b[38;5;34m0\u001b[0m │\n",
       "├──────────────────────────────────────┼─────────────────────────────┼─────────────────┤\n",
       "│ dense (\u001b[38;5;33mDense\u001b[0m)                        │ (\u001b[38;5;45mNone\u001b[0m, \u001b[38;5;34m512\u001b[0m)                 │      \u001b[38;5;34m12,845,568\u001b[0m │\n",
       "├──────────────────────────────────────┼─────────────────────────────┼─────────────────┤\n",
       "│ dense_1 (\u001b[38;5;33mDense\u001b[0m)                      │ (\u001b[38;5;45mNone\u001b[0m, \u001b[38;5;34m7\u001b[0m)                   │           \u001b[38;5;34m3,591\u001b[0m │\n",
       "└──────────────────────────────────────┴─────────────────────────────┴─────────────────┘\n"
      ]
     },
     "metadata": {},
     "output_type": "display_data"
    },
    {
     "data": {
      "text/html": [
       "<pre style=\"white-space:pre;overflow-x:auto;line-height:normal;font-family:Menlo,'DejaVu Sans Mono',consolas,'Courier New',monospace\"><span style=\"font-weight: bold\"> Total params: </span><span style=\"color: #00af00; text-decoration-color: #00af00\">32,873,543</span> (125.40 MB)\n",
       "</pre>\n"
      ],
      "text/plain": [
       "\u001b[1m Total params: \u001b[0m\u001b[38;5;34m32,873,543\u001b[0m (125.40 MB)\n"
      ]
     },
     "metadata": {},
     "output_type": "display_data"
    },
    {
     "data": {
      "text/html": [
       "<pre style=\"white-space:pre;overflow-x:auto;line-height:normal;font-family:Menlo,'DejaVu Sans Mono',consolas,'Courier New',monospace\"><span style=\"font-weight: bold\"> Trainable params: </span><span style=\"color: #00af00; text-decoration-color: #00af00\">32,873,543</span> (125.40 MB)\n",
       "</pre>\n"
      ],
      "text/plain": [
       "\u001b[1m Trainable params: \u001b[0m\u001b[38;5;34m32,873,543\u001b[0m (125.40 MB)\n"
      ]
     },
     "metadata": {},
     "output_type": "display_data"
    },
    {
     "data": {
      "text/html": [
       "<pre style=\"white-space:pre;overflow-x:auto;line-height:normal;font-family:Menlo,'DejaVu Sans Mono',consolas,'Courier New',monospace\"><span style=\"font-weight: bold\"> Non-trainable params: </span><span style=\"color: #00af00; text-decoration-color: #00af00\">0</span> (0.00 B)\n",
       "</pre>\n"
      ],
      "text/plain": [
       "\u001b[1m Non-trainable params: \u001b[0m\u001b[38;5;34m0\u001b[0m (0.00 B)\n"
      ]
     },
     "metadata": {},
     "output_type": "display_data"
    }
   ],
   "source": [
    "model = models.Sequential()\n",
    "\n",
    "model.add(conv_base)\n",
    "model.add(layers.Flatten())\n",
    "model.add(layers.Dense(512))\n",
    "model.add(layers.Dense(7, activation='softmax'))\n",
    "model.summary()"
   ]
  },
  {
   "cell_type": "markdown",
   "id": "510dcd4e",
   "metadata": {
    "id": "zaXdF4IECH_O",
    "papermill": {
     "duration": 0.012996,
     "end_time": "2025-06-21T12:44:30.126283",
     "exception": false,
     "start_time": "2025-06-21T12:44:30.113287",
     "status": "completed"
    },
    "tags": []
   },
   "source": [
    "#### Model Train"
   ]
  },
  {
   "cell_type": "code",
   "execution_count": 32,
   "id": "89c635c2",
   "metadata": {
    "execution": {
     "iopub.execute_input": "2025-06-21T12:44:30.153791Z",
     "iopub.status.busy": "2025-06-21T12:44:30.153562Z",
     "iopub.status.idle": "2025-06-21T12:53:43.803057Z",
     "shell.execute_reply": "2025-06-21T12:53:43.802491Z"
    },
    "executionInfo": {
     "elapsed": 564954,
     "status": "ok",
     "timestamp": 1750157736718,
     "user": {
      "displayName": "Aditya Bayhaqie",
      "userId": "16906297684641538968"
     },
     "user_tz": -420
    },
    "id": "zJmVy6mnCH_O",
    "outputId": "9f585ac8-7a6b-469d-aa79-1ad8fcd3ef77",
    "papermill": {
     "duration": 553.664255,
     "end_time": "2025-06-21T12:53:43.804206",
     "exception": false,
     "start_time": "2025-06-21T12:44:30.139951",
     "status": "completed"
    },
    "tags": []
   },
   "outputs": [
    {
     "name": "stdout",
     "output_type": "stream",
     "text": [
      "This is the number of trainable weights before freezing the conv base: 4\n"
     ]
    },
    {
     "name": "stderr",
     "output_type": "stream",
     "text": [
      "/usr/local/lib/python3.11/dist-packages/keras/src/trainers/data_adapters/py_dataset_adapter.py:121: UserWarning: Your `PyDataset` class should call `super().__init__(**kwargs)` in its constructor. `**kwargs` can include `workers`, `use_multiprocessing`, `max_queue_size`. Do not pass these arguments to `fit()`, as they will be ignored.\n",
      "  self._warn_if_super_not_called()\n"
     ]
    },
    {
     "name": "stdout",
     "output_type": "stream",
     "text": [
      "Epoch 1/15\n"
     ]
    },
    {
     "name": "stderr",
     "output_type": "stream",
     "text": [
      "WARNING: All log messages before absl::InitializeLog() is called are written to STDERR\n",
      "I0000 00:00:1750509873.063948      74 service.cc:148] XLA service 0x7d2aac00db00 initialized for platform CUDA (this does not guarantee that XLA will be used). Devices:\n",
      "I0000 00:00:1750509873.064625      74 service.cc:156]   StreamExecutor device (0): Tesla T4, Compute Capability 7.5\n",
      "I0000 00:00:1750509873.064645      74 service.cc:156]   StreamExecutor device (1): Tesla T4, Compute Capability 7.5\n",
      "I0000 00:00:1750509873.501175      74 cuda_dnn.cc:529] Loaded cuDNN version 90300\n"
     ]
    },
    {
     "name": "stdout",
     "output_type": "stream",
     "text": [
      "\u001b[1m  1/146\u001b[0m \u001b[37m━━━━━━━━━━━━━━━━━━━━\u001b[0m \u001b[1m33:29\u001b[0m 14s/step - categorical_accuracy: 0.1562 - loss: 3.3008"
     ]
    },
    {
     "name": "stderr",
     "output_type": "stream",
     "text": [
      "I0000 00:00:1750509884.411370      74 device_compiler.h:188] Compiled cluster using XLA!  This line is logged at most once for the lifetime of the process.\n"
     ]
    },
    {
     "name": "stdout",
     "output_type": "stream",
     "text": [
      "\u001b[1m146/146\u001b[0m \u001b[32m━━━━━━━━━━━━━━━━━━━━\u001b[0m\u001b[37m\u001b[0m \u001b[1m60s\u001b[0m 316ms/step - categorical_accuracy: 0.3213 - loss: 1.9338 - val_categorical_accuracy: 0.4435 - val_loss: 1.4265\n",
      "Epoch 2/15\n",
      "\u001b[1m146/146\u001b[0m \u001b[32m━━━━━━━━━━━━━━━━━━━━\u001b[0m\u001b[37m\u001b[0m \u001b[1m47s\u001b[0m 320ms/step - categorical_accuracy: 0.4657 - loss: 1.4484 - val_categorical_accuracy: 0.4798 - val_loss: 1.4634\n",
      "Epoch 3/15\n",
      "\u001b[1m146/146\u001b[0m \u001b[32m━━━━━━━━━━━━━━━━━━━━\u001b[0m\u001b[37m\u001b[0m \u001b[1m35s\u001b[0m 239ms/step - categorical_accuracy: 0.5131 - loss: 1.3342 - val_categorical_accuracy: 0.4637 - val_loss: 1.4147\n",
      "Epoch 4/15\n",
      "\u001b[1m146/146\u001b[0m \u001b[32m━━━━━━━━━━━━━━━━━━━━\u001b[0m\u001b[37m\u001b[0m \u001b[1m36s\u001b[0m 247ms/step - categorical_accuracy: 0.5028 - loss: 1.3607 - val_categorical_accuracy: 0.4960 - val_loss: 1.4152\n",
      "Epoch 5/15\n",
      "\u001b[1m146/146\u001b[0m \u001b[32m━━━━━━━━━━━━━━━━━━━━\u001b[0m\u001b[37m\u001b[0m \u001b[1m36s\u001b[0m 243ms/step - categorical_accuracy: 0.5450 - loss: 1.2597 - val_categorical_accuracy: 0.5484 - val_loss: 1.2620\n",
      "Epoch 6/15\n",
      "\u001b[1m146/146\u001b[0m \u001b[32m━━━━━━━━━━━━━━━━━━━━\u001b[0m\u001b[37m\u001b[0m \u001b[1m35s\u001b[0m 242ms/step - categorical_accuracy: 0.5569 - loss: 1.2097 - val_categorical_accuracy: 0.5323 - val_loss: 1.2396\n",
      "Epoch 7/15\n",
      "\u001b[1m146/146\u001b[0m \u001b[32m━━━━━━━━━━━━━━━━━━━━\u001b[0m\u001b[37m\u001b[0m \u001b[1m36s\u001b[0m 244ms/step - categorical_accuracy: 0.5767 - loss: 1.1589 - val_categorical_accuracy: 0.5444 - val_loss: 1.2383\n",
      "Epoch 8/15\n",
      "\u001b[1m 76/146\u001b[0m \u001b[32m━━━━━━━━━━\u001b[0m\u001b[37m━━━━━━━━━━\u001b[0m \u001b[1m16s\u001b[0m 230ms/step - categorical_accuracy: 0.5720 - loss: 1.1860"
     ]
    },
    {
     "name": "stderr",
     "output_type": "stream",
     "text": [
      "/usr/local/lib/python3.11/dist-packages/keras/src/trainers/epoch_iterator.py:107: UserWarning: Your input ran out of data; interrupting training. Make sure that your dataset or generator can generate at least `steps_per_epoch * epochs` batches. You may need to use the `.repeat()` function when building your dataset.\n",
      "  self._interrupted_warning()\n"
     ]
    },
    {
     "name": "stdout",
     "output_type": "stream",
     "text": [
      "\u001b[1m146/146\u001b[0m \u001b[32m━━━━━━━━━━━━━━━━━━━━\u001b[0m\u001b[37m\u001b[0m \u001b[1m20s\u001b[0m 134ms/step - categorical_accuracy: 0.5698 - loss: 1.1882 - val_categorical_accuracy: 0.5081 - val_loss: 1.3234\n",
      "Epoch 9/15\n",
      "\u001b[1m146/146\u001b[0m \u001b[32m━━━━━━━━━━━━━━━━━━━━\u001b[0m\u001b[37m\u001b[0m \u001b[1m36s\u001b[0m 245ms/step - categorical_accuracy: 0.5917 - loss: 1.1473 - val_categorical_accuracy: 0.5484 - val_loss: 1.2718\n",
      "Epoch 10/15\n",
      "\u001b[1m146/146\u001b[0m \u001b[32m━━━━━━━━━━━━━━━━━━━━\u001b[0m\u001b[37m\u001b[0m \u001b[1m36s\u001b[0m 244ms/step - categorical_accuracy: 0.6077 - loss: 1.1069 - val_categorical_accuracy: 0.5403 - val_loss: 1.2369\n",
      "Epoch 11/15\n",
      "\u001b[1m146/146\u001b[0m \u001b[32m━━━━━━━━━━━━━━━━━━━━\u001b[0m\u001b[37m\u001b[0m \u001b[1m35s\u001b[0m 243ms/step - categorical_accuracy: 0.6000 - loss: 1.1254 - val_categorical_accuracy: 0.5202 - val_loss: 1.3604\n",
      "Epoch 12/15\n",
      "\u001b[1m146/146\u001b[0m \u001b[32m━━━━━━━━━━━━━━━━━━━━\u001b[0m\u001b[37m\u001b[0m \u001b[1m36s\u001b[0m 247ms/step - categorical_accuracy: 0.6234 - loss: 1.0701 - val_categorical_accuracy: 0.5444 - val_loss: 1.2714\n",
      "Epoch 13/15\n",
      "\u001b[1m146/146\u001b[0m \u001b[32m━━━━━━━━━━━━━━━━━━━━\u001b[0m\u001b[37m\u001b[0m \u001b[1m35s\u001b[0m 243ms/step - categorical_accuracy: 0.6221 - loss: 1.0357 - val_categorical_accuracy: 0.6008 - val_loss: 1.1716\n",
      "Epoch 14/15\n",
      "\u001b[1m146/146\u001b[0m \u001b[32m━━━━━━━━━━━━━━━━━━━━\u001b[0m\u001b[37m\u001b[0m \u001b[1m36s\u001b[0m 244ms/step - categorical_accuracy: 0.6209 - loss: 1.0468 - val_categorical_accuracy: 0.5847 - val_loss: 1.2051\n",
      "Epoch 15/15\n",
      "\u001b[1m146/146\u001b[0m \u001b[32m━━━━━━━━━━━━━━━━━━━━\u001b[0m\u001b[37m\u001b[0m \u001b[1m36s\u001b[0m 244ms/step - categorical_accuracy: 0.6414 - loss: 1.0040 - val_categorical_accuracy: 0.5161 - val_loss: 1.3015\n"
     ]
    }
   ],
   "source": [
    "conv_base.trainable = False\n",
    "print('This is the number of trainable weights before freezing the conv base:', len(model.trainable_weights))\n",
    "\n",
    "model.compile(\n",
    "    optimizer=optimizers.Adam(learning_rate=5e-5),\n",
    "    loss=losses.categorical_crossentropy,\n",
    "    metrics=[metrics.categorical_accuracy]\n",
    ")\n",
    "\n",
    "history = model.fit(train_generator,\n",
    "                              steps_per_epoch=146,\n",
    "                              epochs=15,\n",
    "                              validation_data=validation_generator,\n",
    "                              validation_steps=31)"
   ]
  },
  {
   "cell_type": "code",
   "execution_count": 33,
   "id": "3050442f",
   "metadata": {
    "execution": {
     "iopub.execute_input": "2025-06-21T12:53:44.007316Z",
     "iopub.status.busy": "2025-06-21T12:53:44.007077Z",
     "iopub.status.idle": "2025-06-21T12:53:44.327892Z",
     "shell.execute_reply": "2025-06-21T12:53:44.327105Z"
    },
    "executionInfo": {
     "elapsed": 693,
     "status": "ok",
     "timestamp": 1750157737428,
     "user": {
      "displayName": "Aditya Bayhaqie",
      "userId": "16906297684641538968"
     },
     "user_tz": -420
    },
    "id": "DFWt4mu5CH_P",
    "outputId": "5e99857d-4ddb-4e57-e979-38eb538a0030",
    "papermill": {
     "duration": 0.421993,
     "end_time": "2025-06-21T12:53:44.329149",
     "exception": false,
     "start_time": "2025-06-21T12:53:43.907156",
     "status": "completed"
    },
    "tags": []
   },
   "outputs": [
    {
     "data": {
      "image/png": "[encoded data removed]",
      "text/plain": [
       "<Figure size 640x480 with 1 Axes>"
      ]
     },
     "metadata": {},
     "output_type": "display_data"
    },
    {
     "data": {
      "image/png": "[encoded data removed]",
      "text/plain": [
       "<Figure size 640x480 with 1 Axes>"
      ]
     },
     "metadata": {},
     "output_type": "display_data"
    }
   ],
   "source": [
    "acc = history.history['categorical_accuracy']\n",
    "val_acc = history.history['val_categorical_accuracy']\n",
    "loss = history.history['loss']\n",
    "val_loss = history.history['val_loss']\n",
    "\n",
    "epochs = range(1, len(acc)+1)\n",
    "\n",
    "plt.plot(epochs, acc,  dashes=[2, 2, 10, 2], label='Training acc')\n",
    "plt.plot(epochs, val_acc, 'g', label='Validation acc')\n",
    "plt.title('Training and validation accuracy')\n",
    "plt.legend()\n",
    "\n",
    "plt.figure()\n",
    "plt.plot(epochs, loss,  dashes=[2, 2, 10, 2],label='Training losses')\n",
    "plt.plot(epochs, val_loss, 'g', label='Validation losses')\n",
    "plt.title('Training and validation loss')\n",
    "plt.legend()\n",
    "\n",
    "plt.show()"
   ]
  },
  {
   "cell_type": "code",
   "execution_count": 34,
   "id": "a19ff707",
   "metadata": {
    "execution": {
     "iopub.execute_input": "2025-06-21T12:53:44.580094Z",
     "iopub.status.busy": "2025-06-21T12:53:44.579829Z",
     "iopub.status.idle": "2025-06-21T12:53:44.585040Z",
     "shell.execute_reply": "2025-06-21T12:53:44.584497Z"
    },
    "id": "AeM_QYMgCH_P",
    "papermill": {
     "duration": 0.107615,
     "end_time": "2025-06-21T12:53:44.586069",
     "exception": false,
     "start_time": "2025-06-21T12:53:44.478454",
     "status": "completed"
    },
    "tags": []
   },
   "outputs": [],
   "source": [
    "conv_base.trainable = True\n",
    "set_trainable = False\n",
    "for layer in conv_base.layers:\n",
    "    if layer.name == 'block5_conv1':\n",
    "        set_trainable = True\n",
    "    if set_trainable:\n",
    "        layer.trainable = True\n",
    "    else:\n",
    "        layer.trainable = False"
   ]
  },
  {
   "cell_type": "code",
   "execution_count": 35,
   "id": "5727fcc2",
   "metadata": {
    "execution": {
     "iopub.execute_input": "2025-06-21T12:53:44.789398Z",
     "iopub.status.busy": "2025-06-21T12:53:44.789161Z",
     "iopub.status.idle": "2025-06-21T15:57:18.004095Z",
     "shell.execute_reply": "2025-06-21T15:57:18.003280Z"
    },
    "executionInfo": {
     "elapsed": 1846688,
     "status": "ok",
     "timestamp": 1750159624657,
     "user": {
      "displayName": "Aditya Bayhaqie",
      "userId": "16906297684641538968"
     },
     "user_tz": -420
    },
    "id": "QRylVfUvCH_P",
    "outputId": "814ebad5-a5ba-4ec3-c81e-db6260e70bf1",
    "papermill": {
     "duration": 11014.646764,
     "end_time": "2025-06-21T15:57:19.331942",
     "exception": false,
     "start_time": "2025-06-21T12:53:44.685178",
     "status": "completed"
    },
    "tags": []
   },
   "outputs": [
    {
     "name": "stdout",
     "output_type": "stream",
     "text": [
      "1097\n",
      "1061\n",
      "Epoch 1/50\n",
      "\u001b[1m1097/1097\u001b[0m \u001b[32m━━━━━━━━━━━━━━━━━━━━\u001b[0m\u001b[37m\u001b[0m \u001b[1m380s\u001b[0m 340ms/step - categorical_accuracy: 0.6701 - loss: 0.9298 - val_categorical_accuracy: 0.6281 - val_loss: 1.0604\n",
      "Epoch 2/50\n",
      "\u001b[1m1097/1097\u001b[0m \u001b[32m━━━━━━━━━━━━━━━━━━━━\u001b[0m\u001b[37m\u001b[0m \u001b[1m71s\u001b[0m 64ms/step - categorical_accuracy: 0.6250 - loss: 1.0500 - val_categorical_accuracy: 0.6275 - val_loss: 1.0660\n",
      "Epoch 3/50\n",
      "\u001b[1m1097/1097\u001b[0m \u001b[32m━━━━━━━━━━━━━━━━━━━━\u001b[0m\u001b[37m\u001b[0m \u001b[1m368s\u001b[0m 336ms/step - categorical_accuracy: 0.7541 - loss: 0.6929 - val_categorical_accuracy: 0.6245 - val_loss: 1.1053\n",
      "Epoch 4/50\n",
      "\u001b[1m1097/1097\u001b[0m \u001b[32m━━━━━━━━━━━━━━━━━━━━\u001b[0m\u001b[37m\u001b[0m \u001b[1m71s\u001b[0m 65ms/step - categorical_accuracy: 0.7500 - loss: 0.5488 - val_categorical_accuracy: 0.6239 - val_loss: 1.1037\n",
      "Epoch 5/50\n",
      "\u001b[1m1097/1097\u001b[0m \u001b[32m━━━━━━━━━━━━━━━━━━━━\u001b[0m\u001b[37m\u001b[0m \u001b[1m369s\u001b[0m 337ms/step - categorical_accuracy: 0.8198 - loss: 0.5380 - val_categorical_accuracy: 0.6418 - val_loss: 1.0762\n",
      "Epoch 6/50\n",
      "\u001b[1m1097/1097\u001b[0m \u001b[32m━━━━━━━━━━━━━━━━━━━━\u001b[0m\u001b[37m\u001b[0m \u001b[1m71s\u001b[0m 65ms/step - categorical_accuracy: 0.9375 - loss: 0.4756 - val_categorical_accuracy: 0.6447 - val_loss: 1.0692\n",
      "Epoch 7/50\n",
      "\u001b[1m1097/1097\u001b[0m \u001b[32m━━━━━━━━━━━━━━━━━━━━\u001b[0m\u001b[37m\u001b[0m \u001b[1m369s\u001b[0m 336ms/step - categorical_accuracy: 0.8753 - loss: 0.3900 - val_categorical_accuracy: 0.6378 - val_loss: 1.1443\n",
      "Epoch 8/50\n",
      "\u001b[1m1097/1097\u001b[0m \u001b[32m━━━━━━━━━━━━━━━━━━━━\u001b[0m\u001b[37m\u001b[0m \u001b[1m71s\u001b[0m 65ms/step - categorical_accuracy: 0.7812 - loss: 0.5424 - val_categorical_accuracy: 0.6413 - val_loss: 1.1352\n",
      "Epoch 9/50\n",
      "\u001b[1m1097/1097\u001b[0m \u001b[32m━━━━━━━━━━━━━━━━━━━━\u001b[0m\u001b[37m\u001b[0m \u001b[1m369s\u001b[0m 336ms/step - categorical_accuracy: 0.9234 - loss: 0.2699 - val_categorical_accuracy: 0.6373 - val_loss: 1.1622\n",
      "Epoch 10/50\n",
      "\u001b[1m1097/1097\u001b[0m \u001b[32m━━━━━━━━━━━━━━━━━━━━\u001b[0m\u001b[37m\u001b[0m \u001b[1m71s\u001b[0m 65ms/step - categorical_accuracy: 0.9062 - loss: 0.2915 - val_categorical_accuracy: 0.6365 - val_loss: 1.1706\n",
      "Epoch 11/50\n",
      "\u001b[1m1097/1097\u001b[0m \u001b[32m━━━━━━━━━━━━━━━━━━━━\u001b[0m\u001b[37m\u001b[0m \u001b[1m369s\u001b[0m 336ms/step - categorical_accuracy: 0.9540 - loss: 0.1841 - val_categorical_accuracy: 0.6385 - val_loss: 1.2982\n",
      "Epoch 12/50\n",
      "\u001b[1m1097/1097\u001b[0m \u001b[32m━━━━━━━━━━━━━━━━━━━━\u001b[0m\u001b[37m\u001b[0m \u001b[1m71s\u001b[0m 65ms/step - categorical_accuracy: 0.8438 - loss: 0.2717 - val_categorical_accuracy: 0.6395 - val_loss: 1.2903\n",
      "Epoch 13/50\n",
      "\u001b[1m1097/1097\u001b[0m \u001b[32m━━━━━━━━━━━━━━━━━━━━\u001b[0m\u001b[37m\u001b[0m \u001b[1m369s\u001b[0m 336ms/step - categorical_accuracy: 0.9729 - loss: 0.1228 - val_categorical_accuracy: 0.6232 - val_loss: 1.3800\n",
      "Epoch 14/50\n",
      "\u001b[1m1097/1097\u001b[0m \u001b[32m━━━━━━━━━━━━━━━━━━━━\u001b[0m\u001b[37m\u001b[0m \u001b[1m71s\u001b[0m 65ms/step - categorical_accuracy: 1.0000 - loss: 0.0912 - val_categorical_accuracy: 0.6255 - val_loss: 1.3730\n",
      "Epoch 15/50\n",
      "\u001b[1m1097/1097\u001b[0m \u001b[32m━━━━━━━━━━━━━━━━━━━━\u001b[0m\u001b[37m\u001b[0m \u001b[1m368s\u001b[0m 336ms/step - categorical_accuracy: 0.9832 - loss: 0.0888 - val_categorical_accuracy: 0.6471 - val_loss: 1.4418\n",
      "Epoch 16/50\n",
      "\u001b[1m1097/1097\u001b[0m \u001b[32m━━━━━━━━━━━━━━━━━━━━\u001b[0m\u001b[37m\u001b[0m \u001b[1m71s\u001b[0m 64ms/step - categorical_accuracy: 0.9688 - loss: 0.1184 - val_categorical_accuracy: 0.6496 - val_loss: 1.4372\n",
      "Epoch 17/50\n",
      "\u001b[1m1097/1097\u001b[0m \u001b[32m━━━━━━━━━━━━━━━━━━━━\u001b[0m\u001b[37m\u001b[0m \u001b[1m368s\u001b[0m 336ms/step - categorical_accuracy: 0.9887 - loss: 0.0650 - val_categorical_accuracy: 0.6378 - val_loss: 1.5813\n",
      "Epoch 18/50\n",
      "\u001b[1m1097/1097\u001b[0m \u001b[32m━━━━━━━━━━━━━━━━━━━━\u001b[0m\u001b[37m\u001b[0m \u001b[1m71s\u001b[0m 65ms/step - categorical_accuracy: 0.9688 - loss: 0.1689 - val_categorical_accuracy: 0.6350 - val_loss: 1.6068\n",
      "Epoch 19/50\n",
      "\u001b[1m1097/1097\u001b[0m \u001b[32m━━━━━━━━━━━━━━━━━━━━\u001b[0m\u001b[37m\u001b[0m \u001b[1m368s\u001b[0m 336ms/step - categorical_accuracy: 0.9923 - loss: 0.0539 - val_categorical_accuracy: 0.6402 - val_loss: 1.6584\n",
      "Epoch 20/50\n",
      "\u001b[1m1097/1097\u001b[0m \u001b[32m━━━━━━━━━━━━━━━━━━━━\u001b[0m\u001b[37m\u001b[0m \u001b[1m71s\u001b[0m 64ms/step - categorical_accuracy: 0.9688 - loss: 0.0932 - val_categorical_accuracy: 0.6384 - val_loss: 1.6506\n",
      "Epoch 21/50\n",
      "\u001b[1m1097/1097\u001b[0m \u001b[32m━━━━━━━━━━━━━━━━━━━━\u001b[0m\u001b[37m\u001b[0m \u001b[1m370s\u001b[0m 337ms/step - categorical_accuracy: 0.9938 - loss: 0.0438 - val_categorical_accuracy: 0.6384 - val_loss: 1.6123\n",
      "Epoch 22/50\n",
      "\u001b[1m1097/1097\u001b[0m \u001b[32m━━━━━━━━━━━━━━━━━━━━\u001b[0m\u001b[37m\u001b[0m \u001b[1m72s\u001b[0m 66ms/step - categorical_accuracy: 1.0000 - loss: 0.0149 - val_categorical_accuracy: 0.6384 - val_loss: 1.6148\n",
      "Epoch 23/50\n",
      "\u001b[1m1097/1097\u001b[0m \u001b[32m━━━━━━━━━━━━━━━━━━━━\u001b[0m\u001b[37m\u001b[0m \u001b[1m370s\u001b[0m 337ms/step - categorical_accuracy: 0.9933 - loss: 0.0438 - val_categorical_accuracy: 0.6451 - val_loss: 1.7003\n",
      "Epoch 24/50\n",
      "\u001b[1m1097/1097\u001b[0m \u001b[32m━━━━━━━━━━━━━━━━━━━━\u001b[0m\u001b[37m\u001b[0m \u001b[1m71s\u001b[0m 65ms/step - categorical_accuracy: 0.9688 - loss: 0.1136 - val_categorical_accuracy: 0.6456 - val_loss: 1.7129\n",
      "Epoch 25/50\n",
      "\u001b[1m1097/1097\u001b[0m \u001b[32m━━━━━━━━━━━━━━━━━━━━\u001b[0m\u001b[37m\u001b[0m \u001b[1m369s\u001b[0m 337ms/step - categorical_accuracy: 0.9938 - loss: 0.0381 - val_categorical_accuracy: 0.6325 - val_loss: 1.7352\n",
      "Epoch 26/50\n",
      "\u001b[1m1097/1097\u001b[0m \u001b[32m━━━━━━━━━━━━━━━━━━━━\u001b[0m\u001b[37m\u001b[0m \u001b[1m71s\u001b[0m 65ms/step - categorical_accuracy: 0.9375 - loss: 0.1083 - val_categorical_accuracy: 0.6375 - val_loss: 1.6975\n",
      "Epoch 27/50\n",
      "\u001b[1m1097/1097\u001b[0m \u001b[32m━━━━━━━━━━━━━━━━━━━━\u001b[0m\u001b[37m\u001b[0m \u001b[1m369s\u001b[0m 337ms/step - categorical_accuracy: 0.9933 - loss: 0.0399 - val_categorical_accuracy: 0.6455 - val_loss: 1.7264\n",
      "Epoch 28/50\n",
      "\u001b[1m1097/1097\u001b[0m \u001b[32m━━━━━━━━━━━━━━━━━━━━\u001b[0m\u001b[37m\u001b[0m \u001b[1m71s\u001b[0m 65ms/step - categorical_accuracy: 0.9688 - loss: 0.1078 - val_categorical_accuracy: 0.6479 - val_loss: 1.7160\n",
      "Epoch 29/50\n",
      "\u001b[1m1097/1097\u001b[0m \u001b[32m━━━━━━━━━━━━━━━━━━━━\u001b[0m\u001b[37m\u001b[0m \u001b[1m370s\u001b[0m 337ms/step - categorical_accuracy: 0.9938 - loss: 0.0390 - val_categorical_accuracy: 0.6341 - val_loss: 1.8218\n",
      "Epoch 30/50\n",
      "\u001b[1m1097/1097\u001b[0m \u001b[32m━━━━━━━━━━━━━━━━━━━━\u001b[0m\u001b[37m\u001b[0m \u001b[1m71s\u001b[0m 65ms/step - categorical_accuracy: 0.9688 - loss: 0.1490 - val_categorical_accuracy: 0.6391 - val_loss: 1.8033\n",
      "Epoch 31/50\n",
      "\u001b[1m1097/1097\u001b[0m \u001b[32m━━━━━━━━━━━━━━━━━━━━\u001b[0m\u001b[37m\u001b[0m \u001b[1m370s\u001b[0m 337ms/step - categorical_accuracy: 0.9951 - loss: 0.0315 - val_categorical_accuracy: 0.6488 - val_loss: 1.8040\n",
      "Epoch 32/50\n",
      "\u001b[1m1097/1097\u001b[0m \u001b[32m━━━━━━━━━━━━━━━━━━━━\u001b[0m\u001b[37m\u001b[0m \u001b[1m71s\u001b[0m 65ms/step - categorical_accuracy: 0.9688 - loss: 0.0434 - val_categorical_accuracy: 0.6475 - val_loss: 1.8025\n",
      "Epoch 33/50\n",
      "\u001b[1m1097/1097\u001b[0m \u001b[32m━━━━━━━━━━━━━━━━━━━━\u001b[0m\u001b[37m\u001b[0m \u001b[1m368s\u001b[0m 336ms/step - categorical_accuracy: 0.9958 - loss: 0.0312 - val_categorical_accuracy: 0.6430 - val_loss: 1.8696\n",
      "Epoch 34/50\n",
      "\u001b[1m1097/1097\u001b[0m \u001b[32m━━━━━━━━━━━━━━━━━━━━\u001b[0m\u001b[37m\u001b[0m \u001b[1m71s\u001b[0m 65ms/step - categorical_accuracy: 0.9375 - loss: 0.2179 - val_categorical_accuracy: 0.6416 - val_loss: 1.8814\n",
      "Epoch 35/50\n",
      "\u001b[1m1097/1097\u001b[0m \u001b[32m━━━━━━━━━━━━━━━━━━━━\u001b[0m\u001b[37m\u001b[0m \u001b[1m369s\u001b[0m 336ms/step - categorical_accuracy: 0.9951 - loss: 0.0269 - val_categorical_accuracy: 0.6549 - val_loss: 1.8165\n",
      "Epoch 36/50\n",
      "\u001b[1m1097/1097\u001b[0m \u001b[32m━━━━━━━━━━━━━━━━━━━━\u001b[0m\u001b[37m\u001b[0m \u001b[1m71s\u001b[0m 65ms/step - categorical_accuracy: 1.0000 - loss: 0.0160 - val_categorical_accuracy: 0.6553 - val_loss: 1.8181\n",
      "Epoch 37/50\n",
      "\u001b[1m1097/1097\u001b[0m \u001b[32m━━━━━━━━━━━━━━━━━━━━\u001b[0m\u001b[37m\u001b[0m \u001b[1m370s\u001b[0m 337ms/step - categorical_accuracy: 0.9968 - loss: 0.0230 - val_categorical_accuracy: 0.6487 - val_loss: 1.7782\n",
      "Epoch 38/50\n",
      "\u001b[1m1097/1097\u001b[0m \u001b[32m━━━━━━━━━━━━━━━━━━━━\u001b[0m\u001b[37m\u001b[0m \u001b[1m71s\u001b[0m 65ms/step - categorical_accuracy: 1.0000 - loss: 0.0103 - val_categorical_accuracy: 0.6500 - val_loss: 1.7775\n",
      "Epoch 39/50\n",
      "\u001b[1m1097/1097\u001b[0m \u001b[32m━━━━━━━━━━━━━━━━━━━━\u001b[0m\u001b[37m\u001b[0m \u001b[1m369s\u001b[0m 337ms/step - categorical_accuracy: 0.9974 - loss: 0.0225 - val_categorical_accuracy: 0.6402 - val_loss: 1.8402\n",
      "Epoch 40/50\n",
      "\u001b[1m1097/1097\u001b[0m \u001b[32m━━━━━━━━━━━━━━━━━━━━\u001b[0m\u001b[37m\u001b[0m \u001b[1m71s\u001b[0m 65ms/step - categorical_accuracy: 1.0000 - loss: 0.0166 - val_categorical_accuracy: 0.6371 - val_loss: 1.8431\n",
      "Epoch 41/50\n",
      "\u001b[1m1097/1097\u001b[0m \u001b[32m━━━━━━━━━━━━━━━━━━━━\u001b[0m\u001b[37m\u001b[0m \u001b[1m369s\u001b[0m 336ms/step - categorical_accuracy: 0.9944 - loss: 0.0326 - val_categorical_accuracy: 0.6461 - val_loss: 1.7551\n",
      "Epoch 42/50\n",
      "\u001b[1m1097/1097\u001b[0m \u001b[32m━━━━━━━━━━━━━━━━━━━━\u001b[0m\u001b[37m\u001b[0m \u001b[1m71s\u001b[0m 65ms/step - categorical_accuracy: 1.0000 - loss: 0.0085 - val_categorical_accuracy: 0.6441 - val_loss: 1.7676\n",
      "Epoch 43/50\n",
      "\u001b[1m1097/1097\u001b[0m \u001b[32m━━━━━━━━━━━━━━━━━━━━\u001b[0m\u001b[37m\u001b[0m \u001b[1m369s\u001b[0m 336ms/step - categorical_accuracy: 0.9957 - loss: 0.0266 - val_categorical_accuracy: 0.6510 - val_loss: 1.9476\n",
      "Epoch 44/50\n",
      "\u001b[1m1097/1097\u001b[0m \u001b[32m━━━━━━━━━━━━━━━━━━━━\u001b[0m\u001b[37m\u001b[0m \u001b[1m71s\u001b[0m 65ms/step - categorical_accuracy: 0.9375 - loss: 0.0851 - val_categorical_accuracy: 0.6516 - val_loss: 1.9474\n",
      "Epoch 45/50\n",
      "\u001b[1m1097/1097\u001b[0m \u001b[32m━━━━━━━━━━━━━━━━━━━━\u001b[0m\u001b[37m\u001b[0m \u001b[1m370s\u001b[0m 337ms/step - categorical_accuracy: 0.9975 - loss: 0.0196 - val_categorical_accuracy: 0.6440 - val_loss: 1.8895\n",
      "Epoch 46/50\n",
      "\u001b[1m1097/1097\u001b[0m \u001b[32m━━━━━━━━━━━━━━━━━━━━\u001b[0m\u001b[37m\u001b[0m \u001b[1m71s\u001b[0m 65ms/step - categorical_accuracy: 1.0000 - loss: 0.0186 - val_categorical_accuracy: 0.6397 - val_loss: 1.9140\n",
      "Epoch 47/50\n",
      "\u001b[1m1097/1097\u001b[0m \u001b[32m━━━━━━━━━━━━━━━━━━━━\u001b[0m\u001b[37m\u001b[0m \u001b[1m368s\u001b[0m 336ms/step - categorical_accuracy: 0.9954 - loss: 0.0266 - val_categorical_accuracy: 0.6515 - val_loss: 1.8142\n",
      "Epoch 48/50\n",
      "\u001b[1m1097/1097\u001b[0m \u001b[32m━━━━━━━━━━━━━━━━━━━━\u001b[0m\u001b[37m\u001b[0m \u001b[1m71s\u001b[0m 65ms/step - categorical_accuracy: 1.0000 - loss: 0.0223 - val_categorical_accuracy: 0.6515 - val_loss: 1.8130\n",
      "Epoch 49/50\n",
      "\u001b[1m1097/1097\u001b[0m \u001b[32m━━━━━━━━━━━━━━━━━━━━\u001b[0m\u001b[37m\u001b[0m \u001b[1m369s\u001b[0m 336ms/step - categorical_accuracy: 0.9969 - loss: 0.0221 - val_categorical_accuracy: 0.6500 - val_loss: 2.0041\n",
      "Epoch 50/50\n",
      "\u001b[1m1097/1097\u001b[0m \u001b[32m━━━━━━━━━━━━━━━━━━━━\u001b[0m\u001b[37m\u001b[0m \u001b[1m71s\u001b[0m 65ms/step - categorical_accuracy: 1.0000 - loss: 0.0062 - val_categorical_accuracy: 0.6506 - val_loss: 2.0033\n"
     ]
    }
   ],
   "source": [
    "steps_per_epoch = train_generator.samples // train_generator.batch_size\n",
    "validation_steps = validation_generator.samples // validation_generator.batch_size\n",
    "\n",
    "print(steps_per_epoch)\n",
    "print(validation_steps)\n",
    "\n",
    "model.compile(\n",
    "    optimizer=optimizers.Adam(learning_rate=1e-5),\n",
    "    loss=losses.categorical_crossentropy,\n",
    "    metrics=[metrics.categorical_accuracy]\n",
    ")\n",
    "history = model.fit(train_generator,\n",
    "                              steps_per_epoch=steps_per_epoch,\n",
    "                              epochs=50,\n",
    "                              validation_data=validation_generator,\n",
    "                              validation_steps=validation_steps)"
   ]
  },
  {
   "cell_type": "code",
   "execution_count": 36,
   "id": "d885f196",
   "metadata": {
    "execution": {
     "iopub.execute_input": "2025-06-21T15:57:21.933730Z",
     "iopub.status.busy": "2025-06-21T15:57:21.933421Z",
     "iopub.status.idle": "2025-06-21T15:57:22.250710Z",
     "shell.execute_reply": "2025-06-21T15:57:22.250015Z"
    },
    "executionInfo": {
     "elapsed": 482,
     "status": "ok",
     "timestamp": 1750159625165,
     "user": {
      "displayName": "Aditya Bayhaqie",
      "userId": "16906297684641538968"
     },
     "user_tz": -420
    },
    "id": "ustd-Z4FCH_P",
    "outputId": "14e79eda-d6cf-4276-b63e-d9e1e84d4f45",
    "papermill": {
     "duration": 1.568008,
     "end_time": "2025-06-21T15:57:22.251780",
     "exception": false,
     "start_time": "2025-06-21T15:57:20.683772",
     "status": "completed"
    },
    "tags": []
   },
   "outputs": [
    {
     "data": {
      "image/png": "[encoded data removed]",
      "text/plain": [
       "<Figure size 640x480 with 1 Axes>"
      ]
     },
     "metadata": {},
     "output_type": "display_data"
    },
    {
     "data": {
      "image/png": "[encoded data removed]",
      "text/plain": [
       "<Figure size 640x480 with 1 Axes>"
      ]
     },
     "metadata": {},
     "output_type": "display_data"
    }
   ],
   "source": [
    "acc = history.history['categorical_accuracy']\n",
    "val_acc = history.history['val_categorical_accuracy']\n",
    "loss = history.history['loss']\n",
    "val_loss = history.history['val_loss']\n",
    "\n",
    "epochs = range(1, len(acc)+1)\n",
    "\n",
    "plt.plot(epochs, acc,  dashes=[2, 2, 10, 2], label='Training acc')\n",
    "plt.plot(epochs, val_acc, 'g', label='Validation acc')\n",
    "plt.title('Training and validation accuracy')\n",
    "plt.legend()\n",
    "\n",
    "plt.figure()\n",
    "plt.plot(epochs, loss,  dashes=[2, 2, 10, 2],label='Training losses')\n",
    "plt.plot(epochs, val_loss, 'g', label='Validation losses')\n",
    "plt.title('Training and validation loss')\n",
    "plt.legend()\n",
    "\n",
    "plt.show()"
   ]
  },
  {
   "cell_type": "markdown",
   "id": "2722b32a",
   "metadata": {
    "id": "677q6Z6nEyPw",
    "papermill": {
     "duration": 1.366659,
     "end_time": "2025-06-21T15:57:24.939215",
     "exception": false,
     "start_time": "2025-06-21T15:57:23.572556",
     "status": "completed"
    },
    "tags": []
   },
   "source": [
    "## Model w/ VGG 19 Full Build"
   ]
  },
  {
   "cell_type": "markdown",
   "id": "40a7d33b",
   "metadata": {
    "id": "2JIfslP1EyPx",
    "papermill": {
     "duration": 1.338467,
     "end_time": "2025-06-21T15:57:27.619659",
     "exception": false,
     "start_time": "2025-06-21T15:57:26.281192",
     "status": "completed"
    },
    "tags": []
   },
   "source": [
    "### Data Engineering"
   ]
  },
  {
   "cell_type": "code",
   "execution_count": 37,
   "id": "52a480ac",
   "metadata": {
    "execution": {
     "iopub.execute_input": "2025-06-21T15:57:30.184094Z",
     "iopub.status.busy": "2025-06-21T15:57:30.183767Z",
     "iopub.status.idle": "2025-06-21T15:57:38.603538Z",
     "shell.execute_reply": "2025-06-21T15:57:38.603017Z"
    },
    "executionInfo": {
     "elapsed": 19,
     "status": "ok",
     "timestamp": 1750157171460,
     "user": {
      "displayName": "Aditya Bayhaqie",
      "userId": "16906297684641538968"
     },
     "user_tz": -420
    },
    "id": "JyVxdQHOEyPx",
    "outputId": "54f4c700-aabb-4d18-c0de-aef458b8436c",
    "papermill": {
     "duration": 9.750535,
     "end_time": "2025-06-21T15:57:38.604660",
     "exception": false,
     "start_time": "2025-06-21T15:57:28.854125",
     "status": "completed"
    },
    "tags": []
   },
   "outputs": [
    {
     "name": "stdout",
     "output_type": "stream",
     "text": [
      "Found 35129 images belonging to 7 classes.\n",
      "Found 8488 images belonging to 7 classes.\n"
     ]
    }
   ],
   "source": [
    "train_datagen = ImageDataGenerator(rescale=1./255)\n",
    "test_datagen = ImageDataGenerator(rescale=1./255)\n",
    "\n",
    "train_generator = train_datagen.flow_from_directory(\n",
    "    train_dir,\n",
    "    target_size = (224, 224),\n",
    "    batch_size=32\n",
    ")\n",
    "\n",
    "validation_generator = test_datagen.flow_from_directory(\n",
    "    test_dir,\n",
    "    target_size = (224, 224),\n",
    "    batch_size=8\n",
    ")"
   ]
  },
  {
   "cell_type": "markdown",
   "id": "2700ac53",
   "metadata": {
    "id": "PKhG2o3YEyPx",
    "papermill": {
     "duration": 1.362555,
     "end_time": "2025-06-21T15:57:41.291738",
     "exception": false,
     "start_time": "2025-06-21T15:57:39.929183",
     "status": "completed"
    },
    "tags": []
   },
   "source": [
    "### Model Development"
   ]
  },
  {
   "cell_type": "markdown",
   "id": "68abd8b4",
   "metadata": {
    "id": "sf4qEM3NEyPx",
    "papermill": {
     "duration": 1.330591,
     "end_time": "2025-06-21T15:57:43.954145",
     "exception": false,
     "start_time": "2025-06-21T15:57:42.623554",
     "status": "completed"
    },
    "tags": []
   },
   "source": [
    "#### Arch Build"
   ]
  },
  {
   "cell_type": "code",
   "execution_count": 38,
   "id": "7b4cb5d9",
   "metadata": {
    "execution": {
     "iopub.execute_input": "2025-06-21T15:57:46.563963Z",
     "iopub.status.busy": "2025-06-21T15:57:46.563669Z",
     "iopub.status.idle": "2025-06-21T15:57:46.885955Z",
     "shell.execute_reply": "2025-06-21T15:57:46.885234Z"
    },
    "executionInfo": {
     "elapsed": 187,
     "status": "ok",
     "timestamp": 1750157171648,
     "user": {
      "displayName": "Aditya Bayhaqie",
      "userId": "16906297684641538968"
     },
     "user_tz": -420
    },
    "id": "UIHzZjebEyPy",
    "outputId": "ee4452bd-3cf2-45f1-d5e6-08b8386ac2c2",
    "papermill": {
     "duration": 1.596406,
     "end_time": "2025-06-21T15:57:46.887006",
     "exception": false,
     "start_time": "2025-06-21T15:57:45.290600",
     "status": "completed"
    },
    "tags": []
   },
   "outputs": [
    {
     "data": {
      "text/html": [
       "<pre style=\"white-space:pre;overflow-x:auto;line-height:normal;font-family:Menlo,'DejaVu Sans Mono',consolas,'Courier New',monospace\"><span style=\"font-weight: bold\">Model: \"vgg19\"</span>\n",
       "</pre>\n"
      ],
      "text/plain": [
       "\u001b[1mModel: \"vgg19\"\u001b[0m\n"
      ]
     },
     "metadata": {},
     "output_type": "display_data"
    },
    {
     "data": {
      "text/html": [
       "<pre style=\"white-space:pre;overflow-x:auto;line-height:normal;font-family:Menlo,'DejaVu Sans Mono',consolas,'Courier New',monospace\">┏━━━━━━━━━━━━━━━━━━━━━━━━━━━━━━━━━━━━━━┳━━━━━━━━━━━━━━━━━━━━━━━━━━━━━┳━━━━━━━━━━━━━━━━━┓\n",
       "┃<span style=\"font-weight: bold\"> Layer (type)                         </span>┃<span style=\"font-weight: bold\"> Output Shape                </span>┃<span style=\"font-weight: bold\">         Param # </span>┃\n",
       "┡━━━━━━━━━━━━━━━━━━━━━━━━━━━━━━━━━━━━━━╇━━━━━━━━━━━━━━━━━━━━━━━━━━━━━╇━━━━━━━━━━━━━━━━━┩\n",
       "│ input_layer_2 (<span style=\"color: #0087ff; text-decoration-color: #0087ff\">InputLayer</span>)           │ (<span style=\"color: #00d7ff; text-decoration-color: #00d7ff\">None</span>, <span style=\"color: #00af00; text-decoration-color: #00af00\">224</span>, <span style=\"color: #00af00; text-decoration-color: #00af00\">224</span>, <span style=\"color: #00af00; text-decoration-color: #00af00\">3</span>)         │               <span style=\"color: #00af00; text-decoration-color: #00af00\">0</span> │\n",
       "├──────────────────────────────────────┼─────────────────────────────┼─────────────────┤\n",
       "│ block1_conv1 (<span style=\"color: #0087ff; text-decoration-color: #0087ff\">Conv2D</span>)                │ (<span style=\"color: #00d7ff; text-decoration-color: #00d7ff\">None</span>, <span style=\"color: #00af00; text-decoration-color: #00af00\">224</span>, <span style=\"color: #00af00; text-decoration-color: #00af00\">224</span>, <span style=\"color: #00af00; text-decoration-color: #00af00\">64</span>)        │           <span style=\"color: #00af00; text-decoration-color: #00af00\">1,792</span> │\n",
       "├──────────────────────────────────────┼─────────────────────────────┼─────────────────┤\n",
       "│ block1_conv2 (<span style=\"color: #0087ff; text-decoration-color: #0087ff\">Conv2D</span>)                │ (<span style=\"color: #00d7ff; text-decoration-color: #00d7ff\">None</span>, <span style=\"color: #00af00; text-decoration-color: #00af00\">224</span>, <span style=\"color: #00af00; text-decoration-color: #00af00\">224</span>, <span style=\"color: #00af00; text-decoration-color: #00af00\">64</span>)        │          <span style=\"color: #00af00; text-decoration-color: #00af00\">36,928</span> │\n",
       "├──────────────────────────────────────┼─────────────────────────────┼─────────────────┤\n",
       "│ block1_pool (<span style=\"color: #0087ff; text-decoration-color: #0087ff\">MaxPooling2D</span>)           │ (<span style=\"color: #00d7ff; text-decoration-color: #00d7ff\">None</span>, <span style=\"color: #00af00; text-decoration-color: #00af00\">112</span>, <span style=\"color: #00af00; text-decoration-color: #00af00\">112</span>, <span style=\"color: #00af00; text-decoration-color: #00af00\">64</span>)        │               <span style=\"color: #00af00; text-decoration-color: #00af00\">0</span> │\n",
       "├──────────────────────────────────────┼─────────────────────────────┼─────────────────┤\n",
       "│ block2_conv1 (<span style=\"color: #0087ff; text-decoration-color: #0087ff\">Conv2D</span>)                │ (<span style=\"color: #00d7ff; text-decoration-color: #00d7ff\">None</span>, <span style=\"color: #00af00; text-decoration-color: #00af00\">112</span>, <span style=\"color: #00af00; text-decoration-color: #00af00\">112</span>, <span style=\"color: #00af00; text-decoration-color: #00af00\">128</span>)       │          <span style=\"color: #00af00; text-decoration-color: #00af00\">73,856</span> │\n",
       "├──────────────────────────────────────┼─────────────────────────────┼─────────────────┤\n",
       "│ block2_conv2 (<span style=\"color: #0087ff; text-decoration-color: #0087ff\">Conv2D</span>)                │ (<span style=\"color: #00d7ff; text-decoration-color: #00d7ff\">None</span>, <span style=\"color: #00af00; text-decoration-color: #00af00\">112</span>, <span style=\"color: #00af00; text-decoration-color: #00af00\">112</span>, <span style=\"color: #00af00; text-decoration-color: #00af00\">128</span>)       │         <span style=\"color: #00af00; text-decoration-color: #00af00\">147,584</span> │\n",
       "├──────────────────────────────────────┼─────────────────────────────┼─────────────────┤\n",
       "│ block2_pool (<span style=\"color: #0087ff; text-decoration-color: #0087ff\">MaxPooling2D</span>)           │ (<span style=\"color: #00d7ff; text-decoration-color: #00d7ff\">None</span>, <span style=\"color: #00af00; text-decoration-color: #00af00\">56</span>, <span style=\"color: #00af00; text-decoration-color: #00af00\">56</span>, <span style=\"color: #00af00; text-decoration-color: #00af00\">128</span>)         │               <span style=\"color: #00af00; text-decoration-color: #00af00\">0</span> │\n",
       "├──────────────────────────────────────┼─────────────────────────────┼─────────────────┤\n",
       "│ block3_conv1 (<span style=\"color: #0087ff; text-decoration-color: #0087ff\">Conv2D</span>)                │ (<span style=\"color: #00d7ff; text-decoration-color: #00d7ff\">None</span>, <span style=\"color: #00af00; text-decoration-color: #00af00\">56</span>, <span style=\"color: #00af00; text-decoration-color: #00af00\">56</span>, <span style=\"color: #00af00; text-decoration-color: #00af00\">256</span>)         │         <span style=\"color: #00af00; text-decoration-color: #00af00\">295,168</span> │\n",
       "├──────────────────────────────────────┼─────────────────────────────┼─────────────────┤\n",
       "│ block3_conv2 (<span style=\"color: #0087ff; text-decoration-color: #0087ff\">Conv2D</span>)                │ (<span style=\"color: #00d7ff; text-decoration-color: #00d7ff\">None</span>, <span style=\"color: #00af00; text-decoration-color: #00af00\">56</span>, <span style=\"color: #00af00; text-decoration-color: #00af00\">56</span>, <span style=\"color: #00af00; text-decoration-color: #00af00\">256</span>)         │         <span style=\"color: #00af00; text-decoration-color: #00af00\">590,080</span> │\n",
       "├──────────────────────────────────────┼─────────────────────────────┼─────────────────┤\n",
       "│ block3_conv3 (<span style=\"color: #0087ff; text-decoration-color: #0087ff\">Conv2D</span>)                │ (<span style=\"color: #00d7ff; text-decoration-color: #00d7ff\">None</span>, <span style=\"color: #00af00; text-decoration-color: #00af00\">56</span>, <span style=\"color: #00af00; text-decoration-color: #00af00\">56</span>, <span style=\"color: #00af00; text-decoration-color: #00af00\">256</span>)         │         <span style=\"color: #00af00; text-decoration-color: #00af00\">590,080</span> │\n",
       "├──────────────────────────────────────┼─────────────────────────────┼─────────────────┤\n",
       "│ block3_conv4 (<span style=\"color: #0087ff; text-decoration-color: #0087ff\">Conv2D</span>)                │ (<span style=\"color: #00d7ff; text-decoration-color: #00d7ff\">None</span>, <span style=\"color: #00af00; text-decoration-color: #00af00\">56</span>, <span style=\"color: #00af00; text-decoration-color: #00af00\">56</span>, <span style=\"color: #00af00; text-decoration-color: #00af00\">256</span>)         │         <span style=\"color: #00af00; text-decoration-color: #00af00\">590,080</span> │\n",
       "├──────────────────────────────────────┼─────────────────────────────┼─────────────────┤\n",
       "│ block3_pool (<span style=\"color: #0087ff; text-decoration-color: #0087ff\">MaxPooling2D</span>)           │ (<span style=\"color: #00d7ff; text-decoration-color: #00d7ff\">None</span>, <span style=\"color: #00af00; text-decoration-color: #00af00\">28</span>, <span style=\"color: #00af00; text-decoration-color: #00af00\">28</span>, <span style=\"color: #00af00; text-decoration-color: #00af00\">256</span>)         │               <span style=\"color: #00af00; text-decoration-color: #00af00\">0</span> │\n",
       "├──────────────────────────────────────┼─────────────────────────────┼─────────────────┤\n",
       "│ block4_conv1 (<span style=\"color: #0087ff; text-decoration-color: #0087ff\">Conv2D</span>)                │ (<span style=\"color: #00d7ff; text-decoration-color: #00d7ff\">None</span>, <span style=\"color: #00af00; text-decoration-color: #00af00\">28</span>, <span style=\"color: #00af00; text-decoration-color: #00af00\">28</span>, <span style=\"color: #00af00; text-decoration-color: #00af00\">512</span>)         │       <span style=\"color: #00af00; text-decoration-color: #00af00\">1,180,160</span> │\n",
       "├──────────────────────────────────────┼─────────────────────────────┼─────────────────┤\n",
       "│ block4_conv2 (<span style=\"color: #0087ff; text-decoration-color: #0087ff\">Conv2D</span>)                │ (<span style=\"color: #00d7ff; text-decoration-color: #00d7ff\">None</span>, <span style=\"color: #00af00; text-decoration-color: #00af00\">28</span>, <span style=\"color: #00af00; text-decoration-color: #00af00\">28</span>, <span style=\"color: #00af00; text-decoration-color: #00af00\">512</span>)         │       <span style=\"color: #00af00; text-decoration-color: #00af00\">2,359,808</span> │\n",
       "├──────────────────────────────────────┼─────────────────────────────┼─────────────────┤\n",
       "│ block4_conv3 (<span style=\"color: #0087ff; text-decoration-color: #0087ff\">Conv2D</span>)                │ (<span style=\"color: #00d7ff; text-decoration-color: #00d7ff\">None</span>, <span style=\"color: #00af00; text-decoration-color: #00af00\">28</span>, <span style=\"color: #00af00; text-decoration-color: #00af00\">28</span>, <span style=\"color: #00af00; text-decoration-color: #00af00\">512</span>)         │       <span style=\"color: #00af00; text-decoration-color: #00af00\">2,359,808</span> │\n",
       "├──────────────────────────────────────┼─────────────────────────────┼─────────────────┤\n",
       "│ block4_conv4 (<span style=\"color: #0087ff; text-decoration-color: #0087ff\">Conv2D</span>)                │ (<span style=\"color: #00d7ff; text-decoration-color: #00d7ff\">None</span>, <span style=\"color: #00af00; text-decoration-color: #00af00\">28</span>, <span style=\"color: #00af00; text-decoration-color: #00af00\">28</span>, <span style=\"color: #00af00; text-decoration-color: #00af00\">512</span>)         │       <span style=\"color: #00af00; text-decoration-color: #00af00\">2,359,808</span> │\n",
       "├──────────────────────────────────────┼─────────────────────────────┼─────────────────┤\n",
       "│ block4_pool (<span style=\"color: #0087ff; text-decoration-color: #0087ff\">MaxPooling2D</span>)           │ (<span style=\"color: #00d7ff; text-decoration-color: #00d7ff\">None</span>, <span style=\"color: #00af00; text-decoration-color: #00af00\">14</span>, <span style=\"color: #00af00; text-decoration-color: #00af00\">14</span>, <span style=\"color: #00af00; text-decoration-color: #00af00\">512</span>)         │               <span style=\"color: #00af00; text-decoration-color: #00af00\">0</span> │\n",
       "├──────────────────────────────────────┼─────────────────────────────┼─────────────────┤\n",
       "│ block5_conv1 (<span style=\"color: #0087ff; text-decoration-color: #0087ff\">Conv2D</span>)                │ (<span style=\"color: #00d7ff; text-decoration-color: #00d7ff\">None</span>, <span style=\"color: #00af00; text-decoration-color: #00af00\">14</span>, <span style=\"color: #00af00; text-decoration-color: #00af00\">14</span>, <span style=\"color: #00af00; text-decoration-color: #00af00\">512</span>)         │       <span style=\"color: #00af00; text-decoration-color: #00af00\">2,359,808</span> │\n",
       "├──────────────────────────────────────┼─────────────────────────────┼─────────────────┤\n",
       "│ block5_conv2 (<span style=\"color: #0087ff; text-decoration-color: #0087ff\">Conv2D</span>)                │ (<span style=\"color: #00d7ff; text-decoration-color: #00d7ff\">None</span>, <span style=\"color: #00af00; text-decoration-color: #00af00\">14</span>, <span style=\"color: #00af00; text-decoration-color: #00af00\">14</span>, <span style=\"color: #00af00; text-decoration-color: #00af00\">512</span>)         │       <span style=\"color: #00af00; text-decoration-color: #00af00\">2,359,808</span> │\n",
       "├──────────────────────────────────────┼─────────────────────────────┼─────────────────┤\n",
       "│ block5_conv3 (<span style=\"color: #0087ff; text-decoration-color: #0087ff\">Conv2D</span>)                │ (<span style=\"color: #00d7ff; text-decoration-color: #00d7ff\">None</span>, <span style=\"color: #00af00; text-decoration-color: #00af00\">14</span>, <span style=\"color: #00af00; text-decoration-color: #00af00\">14</span>, <span style=\"color: #00af00; text-decoration-color: #00af00\">512</span>)         │       <span style=\"color: #00af00; text-decoration-color: #00af00\">2,359,808</span> │\n",
       "├──────────────────────────────────────┼─────────────────────────────┼─────────────────┤\n",
       "│ block5_conv4 (<span style=\"color: #0087ff; text-decoration-color: #0087ff\">Conv2D</span>)                │ (<span style=\"color: #00d7ff; text-decoration-color: #00d7ff\">None</span>, <span style=\"color: #00af00; text-decoration-color: #00af00\">14</span>, <span style=\"color: #00af00; text-decoration-color: #00af00\">14</span>, <span style=\"color: #00af00; text-decoration-color: #00af00\">512</span>)         │       <span style=\"color: #00af00; text-decoration-color: #00af00\">2,359,808</span> │\n",
       "├──────────────────────────────────────┼─────────────────────────────┼─────────────────┤\n",
       "│ block5_pool (<span style=\"color: #0087ff; text-decoration-color: #0087ff\">MaxPooling2D</span>)           │ (<span style=\"color: #00d7ff; text-decoration-color: #00d7ff\">None</span>, <span style=\"color: #00af00; text-decoration-color: #00af00\">7</span>, <span style=\"color: #00af00; text-decoration-color: #00af00\">7</span>, <span style=\"color: #00af00; text-decoration-color: #00af00\">512</span>)           │               <span style=\"color: #00af00; text-decoration-color: #00af00\">0</span> │\n",
       "└──────────────────────────────────────┴─────────────────────────────┴─────────────────┘\n",
       "</pre>\n"
      ],
      "text/plain": [
       "┏━━━━━━━━━━━━━━━━━━━━━━━━━━━━━━━━━━━━━━┳━━━━━━━━━━━━━━━━━━━━━━━━━━━━━┳━━━━━━━━━━━━━━━━━┓\n",
       "┃\u001b[1m \u001b[0m\u001b[1mLayer (type)                        \u001b[0m\u001b[1m \u001b[0m┃\u001b[1m \u001b[0m\u001b[1mOutput Shape               \u001b[0m\u001b[1m \u001b[0m┃\u001b[1m \u001b[0m\u001b[1m        Param #\u001b[0m\u001b[1m \u001b[0m┃\n",
       "┡━━━━━━━━━━━━━━━━━━━━━━━━━━━━━━━━━━━━━━╇━━━━━━━━━━━━━━━━━━━━━━━━━━━━━╇━━━━━━━━━━━━━━━━━┩\n",
       "│ input_layer_2 (\u001b[38;5;33mInputLayer\u001b[0m)           │ (\u001b[38;5;45mNone\u001b[0m, \u001b[38;5;34m224\u001b[0m, \u001b[38;5;34m224\u001b[0m, \u001b[38;5;34m3\u001b[0m)         │               \u001b[38;5;34m0\u001b[0m │\n",
       "├──────────────────────────────────────┼─────────────────────────────┼─────────────────┤\n",
       "│ block1_conv1 (\u001b[38;5;33mConv2D\u001b[0m)                │ (\u001b[38;5;45mNone\u001b[0m, \u001b[38;5;34m224\u001b[0m, \u001b[38;5;34m224\u001b[0m, \u001b[38;5;34m64\u001b[0m)        │           \u001b[38;5;34m1,792\u001b[0m │\n",
       "├──────────────────────────────────────┼─────────────────────────────┼─────────────────┤\n",
       "│ block1_conv2 (\u001b[38;5;33mConv2D\u001b[0m)                │ (\u001b[38;5;45mNone\u001b[0m, \u001b[38;5;34m224\u001b[0m, \u001b[38;5;34m224\u001b[0m, \u001b[38;5;34m64\u001b[0m)        │          \u001b[38;5;34m36,928\u001b[0m │\n",
       "├──────────────────────────────────────┼─────────────────────────────┼─────────────────┤\n",
       "│ block1_pool (\u001b[38;5;33mMaxPooling2D\u001b[0m)           │ (\u001b[38;5;45mNone\u001b[0m, \u001b[38;5;34m112\u001b[0m, \u001b[38;5;34m112\u001b[0m, \u001b[38;5;34m64\u001b[0m)        │               \u001b[38;5;34m0\u001b[0m │\n",
       "├──────────────────────────────────────┼─────────────────────────────┼─────────────────┤\n",
       "│ block2_conv1 (\u001b[38;5;33mConv2D\u001b[0m)                │ (\u001b[38;5;45mNone\u001b[0m, \u001b[38;5;34m112\u001b[0m, \u001b[38;5;34m112\u001b[0m, \u001b[38;5;34m128\u001b[0m)       │          \u001b[38;5;34m73,856\u001b[0m │\n",
       "├──────────────────────────────────────┼─────────────────────────────┼─────────────────┤\n",
       "│ block2_conv2 (\u001b[38;5;33mConv2D\u001b[0m)                │ (\u001b[38;5;45mNone\u001b[0m, \u001b[38;5;34m112\u001b[0m, \u001b[38;5;34m112\u001b[0m, \u001b[38;5;34m128\u001b[0m)       │         \u001b[38;5;34m147,584\u001b[0m │\n",
       "├──────────────────────────────────────┼─────────────────────────────┼─────────────────┤\n",
       "│ block2_pool (\u001b[38;5;33mMaxPooling2D\u001b[0m)           │ (\u001b[38;5;45mNone\u001b[0m, \u001b[38;5;34m56\u001b[0m, \u001b[38;5;34m56\u001b[0m, \u001b[38;5;34m128\u001b[0m)         │               \u001b[38;5;34m0\u001b[0m │\n",
       "├──────────────────────────────────────┼─────────────────────────────┼─────────────────┤\n",
       "│ block3_conv1 (\u001b[38;5;33mConv2D\u001b[0m)                │ (\u001b[38;5;45mNone\u001b[0m, \u001b[38;5;34m56\u001b[0m, \u001b[38;5;34m56\u001b[0m, \u001b[38;5;34m256\u001b[0m)         │         \u001b[38;5;34m295,168\u001b[0m │\n",
       "├──────────────────────────────────────┼─────────────────────────────┼─────────────────┤\n",
       "│ block3_conv2 (\u001b[38;5;33mConv2D\u001b[0m)                │ (\u001b[38;5;45mNone\u001b[0m, \u001b[38;5;34m56\u001b[0m, \u001b[38;5;34m56\u001b[0m, \u001b[38;5;34m256\u001b[0m)         │         \u001b[38;5;34m590,080\u001b[0m │\n",
       "├──────────────────────────────────────┼─────────────────────────────┼─────────────────┤\n",
       "│ block3_conv3 (\u001b[38;5;33mConv2D\u001b[0m)                │ (\u001b[38;5;45mNone\u001b[0m, \u001b[38;5;34m56\u001b[0m, \u001b[38;5;34m56\u001b[0m, \u001b[38;5;34m256\u001b[0m)         │         \u001b[38;5;34m590,080\u001b[0m │\n",
       "├──────────────────────────────────────┼─────────────────────────────┼─────────────────┤\n",
       "│ block3_conv4 (\u001b[38;5;33mConv2D\u001b[0m)                │ (\u001b[38;5;45mNone\u001b[0m, \u001b[38;5;34m56\u001b[0m, \u001b[38;5;34m56\u001b[0m, \u001b[38;5;34m256\u001b[0m)         │         \u001b[38;5;34m590,080\u001b[0m │\n",
       "├──────────────────────────────────────┼─────────────────────────────┼─────────────────┤\n",
       "│ block3_pool (\u001b[38;5;33mMaxPooling2D\u001b[0m)           │ (\u001b[38;5;45mNone\u001b[0m, \u001b[38;5;34m28\u001b[0m, \u001b[38;5;34m28\u001b[0m, \u001b[38;5;34m256\u001b[0m)         │               \u001b[38;5;34m0\u001b[0m │\n",
       "├──────────────────────────────────────┼─────────────────────────────┼─────────────────┤\n",
       "│ block4_conv1 (\u001b[38;5;33mConv2D\u001b[0m)                │ (\u001b[38;5;45mNone\u001b[0m, \u001b[38;5;34m28\u001b[0m, \u001b[38;5;34m28\u001b[0m, \u001b[38;5;34m512\u001b[0m)         │       \u001b[38;5;34m1,180,160\u001b[0m │\n",
       "├──────────────────────────────────────┼─────────────────────────────┼─────────────────┤\n",
       "│ block4_conv2 (\u001b[38;5;33mConv2D\u001b[0m)                │ (\u001b[38;5;45mNone\u001b[0m, \u001b[38;5;34m28\u001b[0m, \u001b[38;5;34m28\u001b[0m, \u001b[38;5;34m512\u001b[0m)         │       \u001b[38;5;34m2,359,808\u001b[0m │\n",
       "├──────────────────────────────────────┼─────────────────────────────┼─────────────────┤\n",
       "│ block4_conv3 (\u001b[38;5;33mConv2D\u001b[0m)                │ (\u001b[38;5;45mNone\u001b[0m, \u001b[38;5;34m28\u001b[0m, \u001b[38;5;34m28\u001b[0m, \u001b[38;5;34m512\u001b[0m)         │       \u001b[38;5;34m2,359,808\u001b[0m │\n",
       "├──────────────────────────────────────┼─────────────────────────────┼─────────────────┤\n",
       "│ block4_conv4 (\u001b[38;5;33mConv2D\u001b[0m)                │ (\u001b[38;5;45mNone\u001b[0m, \u001b[38;5;34m28\u001b[0m, \u001b[38;5;34m28\u001b[0m, \u001b[38;5;34m512\u001b[0m)         │       \u001b[38;5;34m2,359,808\u001b[0m │\n",
       "├──────────────────────────────────────┼─────────────────────────────┼─────────────────┤\n",
       "│ block4_pool (\u001b[38;5;33mMaxPooling2D\u001b[0m)           │ (\u001b[38;5;45mNone\u001b[0m, \u001b[38;5;34m14\u001b[0m, \u001b[38;5;34m14\u001b[0m, \u001b[38;5;34m512\u001b[0m)         │               \u001b[38;5;34m0\u001b[0m │\n",
       "├──────────────────────────────────────┼─────────────────────────────┼─────────────────┤\n",
       "│ block5_conv1 (\u001b[38;5;33mConv2D\u001b[0m)                │ (\u001b[38;5;45mNone\u001b[0m, \u001b[38;5;34m14\u001b[0m, \u001b[38;5;34m14\u001b[0m, \u001b[38;5;34m512\u001b[0m)         │       \u001b[38;5;34m2,359,808\u001b[0m │\n",
       "├──────────────────────────────────────┼─────────────────────────────┼─────────────────┤\n",
       "│ block5_conv2 (\u001b[38;5;33mConv2D\u001b[0m)                │ (\u001b[38;5;45mNone\u001b[0m, \u001b[38;5;34m14\u001b[0m, \u001b[38;5;34m14\u001b[0m, \u001b[38;5;34m512\u001b[0m)         │       \u001b[38;5;34m2,359,808\u001b[0m │\n",
       "├──────────────────────────────────────┼─────────────────────────────┼─────────────────┤\n",
       "│ block5_conv3 (\u001b[38;5;33mConv2D\u001b[0m)                │ (\u001b[38;5;45mNone\u001b[0m, \u001b[38;5;34m14\u001b[0m, \u001b[38;5;34m14\u001b[0m, \u001b[38;5;34m512\u001b[0m)         │       \u001b[38;5;34m2,359,808\u001b[0m │\n",
       "├──────────────────────────────────────┼─────────────────────────────┼─────────────────┤\n",
       "│ block5_conv4 (\u001b[38;5;33mConv2D\u001b[0m)                │ (\u001b[38;5;45mNone\u001b[0m, \u001b[38;5;34m14\u001b[0m, \u001b[38;5;34m14\u001b[0m, \u001b[38;5;34m512\u001b[0m)         │       \u001b[38;5;34m2,359,808\u001b[0m │\n",
       "├──────────────────────────────────────┼─────────────────────────────┼─────────────────┤\n",
       "│ block5_pool (\u001b[38;5;33mMaxPooling2D\u001b[0m)           │ (\u001b[38;5;45mNone\u001b[0m, \u001b[38;5;34m7\u001b[0m, \u001b[38;5;34m7\u001b[0m, \u001b[38;5;34m512\u001b[0m)           │               \u001b[38;5;34m0\u001b[0m │\n",
       "└──────────────────────────────────────┴─────────────────────────────┴─────────────────┘\n"
      ]
     },
     "metadata": {},
     "output_type": "display_data"
    },
    {
     "data": {
      "text/html": [
       "<pre style=\"white-space:pre;overflow-x:auto;line-height:normal;font-family:Menlo,'DejaVu Sans Mono',consolas,'Courier New',monospace\"><span style=\"font-weight: bold\"> Total params: </span><span style=\"color: #00af00; text-decoration-color: #00af00\">20,024,384</span> (76.39 MB)\n",
       "</pre>\n"
      ],
      "text/plain": [
       "\u001b[1m Total params: \u001b[0m\u001b[38;5;34m20,024,384\u001b[0m (76.39 MB)\n"
      ]
     },
     "metadata": {},
     "output_type": "display_data"
    },
    {
     "data": {
      "text/html": [
       "<pre style=\"white-space:pre;overflow-x:auto;line-height:normal;font-family:Menlo,'DejaVu Sans Mono',consolas,'Courier New',monospace\"><span style=\"font-weight: bold\"> Trainable params: </span><span style=\"color: #00af00; text-decoration-color: #00af00\">20,024,384</span> (76.39 MB)\n",
       "</pre>\n"
      ],
      "text/plain": [
       "\u001b[1m Trainable params: \u001b[0m\u001b[38;5;34m20,024,384\u001b[0m (76.39 MB)\n"
      ]
     },
     "metadata": {},
     "output_type": "display_data"
    },
    {
     "data": {
      "text/html": [
       "<pre style=\"white-space:pre;overflow-x:auto;line-height:normal;font-family:Menlo,'DejaVu Sans Mono',consolas,'Courier New',monospace\"><span style=\"font-weight: bold\"> Non-trainable params: </span><span style=\"color: #00af00; text-decoration-color: #00af00\">0</span> (0.00 B)\n",
       "</pre>\n"
      ],
      "text/plain": [
       "\u001b[1m Non-trainable params: \u001b[0m\u001b[38;5;34m0\u001b[0m (0.00 B)\n"
      ]
     },
     "metadata": {},
     "output_type": "display_data"
    }
   ],
   "source": [
    "from keras.applications import VGG19\n",
    "\n",
    "conv_base = VGG19(weights='imagenet',\n",
    "                 include_top=False,\n",
    "                 input_shape=(224, 224, 3))\n",
    "\n",
    "conv_base.summary()"
   ]
  },
  {
   "cell_type": "code",
   "execution_count": 39,
   "id": "cd1470f7",
   "metadata": {
    "execution": {
     "iopub.execute_input": "2025-06-21T15:57:49.620822Z",
     "iopub.status.busy": "2025-06-21T15:57:49.620213Z",
     "iopub.status.idle": "2025-06-21T15:57:49.654351Z",
     "shell.execute_reply": "2025-06-21T15:57:49.653654Z"
    },
    "executionInfo": {
     "elapsed": 99,
     "status": "ok",
     "timestamp": 1750157171762,
     "user": {
      "displayName": "Aditya Bayhaqie",
      "userId": "16906297684641538968"
     },
     "user_tz": -420
    },
    "id": "dXZjw3S3EyPy",
    "outputId": "3c1e2787-94a2-4a3e-8a41-4c7c501072f7",
    "papermill": {
     "duration": 1.429213,
     "end_time": "2025-06-21T15:57:49.655569",
     "exception": false,
     "start_time": "2025-06-21T15:57:48.226356",
     "status": "completed"
    },
    "tags": []
   },
   "outputs": [
    {
     "data": {
      "text/html": [
       "<pre style=\"white-space:pre;overflow-x:auto;line-height:normal;font-family:Menlo,'DejaVu Sans Mono',consolas,'Courier New',monospace\"><span style=\"font-weight: bold\">Model: \"sequential_1\"</span>\n",
       "</pre>\n"
      ],
      "text/plain": [
       "\u001b[1mModel: \"sequential_1\"\u001b[0m\n"
      ]
     },
     "metadata": {},
     "output_type": "display_data"
    },
    {
     "data": {
      "text/html": [
       "<pre style=\"white-space:pre;overflow-x:auto;line-height:normal;font-family:Menlo,'DejaVu Sans Mono',consolas,'Courier New',monospace\">┏━━━━━━━━━━━━━━━━━━━━━━━━━━━━━━━━━━━━━━┳━━━━━━━━━━━━━━━━━━━━━━━━━━━━━┳━━━━━━━━━━━━━━━━━┓\n",
       "┃<span style=\"font-weight: bold\"> Layer (type)                         </span>┃<span style=\"font-weight: bold\"> Output Shape                </span>┃<span style=\"font-weight: bold\">         Param # </span>┃\n",
       "┡━━━━━━━━━━━━━━━━━━━━━━━━━━━━━━━━━━━━━━╇━━━━━━━━━━━━━━━━━━━━━━━━━━━━━╇━━━━━━━━━━━━━━━━━┩\n",
       "│ vgg19 (<span style=\"color: #0087ff; text-decoration-color: #0087ff\">Functional</span>)                   │ (<span style=\"color: #00d7ff; text-decoration-color: #00d7ff\">None</span>, <span style=\"color: #00af00; text-decoration-color: #00af00\">7</span>, <span style=\"color: #00af00; text-decoration-color: #00af00\">7</span>, <span style=\"color: #00af00; text-decoration-color: #00af00\">512</span>)           │      <span style=\"color: #00af00; text-decoration-color: #00af00\">20,024,384</span> │\n",
       "├──────────────────────────────────────┼─────────────────────────────┼─────────────────┤\n",
       "│ flatten_1 (<span style=\"color: #0087ff; text-decoration-color: #0087ff\">Flatten</span>)                  │ (<span style=\"color: #00d7ff; text-decoration-color: #00d7ff\">None</span>, <span style=\"color: #00af00; text-decoration-color: #00af00\">25088</span>)               │               <span style=\"color: #00af00; text-decoration-color: #00af00\">0</span> │\n",
       "├──────────────────────────────────────┼─────────────────────────────┼─────────────────┤\n",
       "│ dense_2 (<span style=\"color: #0087ff; text-decoration-color: #0087ff\">Dense</span>)                      │ (<span style=\"color: #00d7ff; text-decoration-color: #00d7ff\">None</span>, <span style=\"color: #00af00; text-decoration-color: #00af00\">512</span>)                 │      <span style=\"color: #00af00; text-decoration-color: #00af00\">12,845,568</span> │\n",
       "├──────────────────────────────────────┼─────────────────────────────┼─────────────────┤\n",
       "│ dense_3 (<span style=\"color: #0087ff; text-decoration-color: #0087ff\">Dense</span>)                      │ (<span style=\"color: #00d7ff; text-decoration-color: #00d7ff\">None</span>, <span style=\"color: #00af00; text-decoration-color: #00af00\">7</span>)                   │           <span style=\"color: #00af00; text-decoration-color: #00af00\">3,591</span> │\n",
       "└──────────────────────────────────────┴─────────────────────────────┴─────────────────┘\n",
       "</pre>\n"
      ],
      "text/plain": [
       "┏━━━━━━━━━━━━━━━━━━━━━━━━━━━━━━━━━━━━━━┳━━━━━━━━━━━━━━━━━━━━━━━━━━━━━┳━━━━━━━━━━━━━━━━━┓\n",
       "┃\u001b[1m \u001b[0m\u001b[1mLayer (type)                        \u001b[0m\u001b[1m \u001b[0m┃\u001b[1m \u001b[0m\u001b[1mOutput Shape               \u001b[0m\u001b[1m \u001b[0m┃\u001b[1m \u001b[0m\u001b[1m        Param #\u001b[0m\u001b[1m \u001b[0m┃\n",
       "┡━━━━━━━━━━━━━━━━━━━━━━━━━━━━━━━━━━━━━━╇━━━━━━━━━━━━━━━━━━━━━━━━━━━━━╇━━━━━━━━━━━━━━━━━┩\n",
       "│ vgg19 (\u001b[38;5;33mFunctional\u001b[0m)                   │ (\u001b[38;5;45mNone\u001b[0m, \u001b[38;5;34m7\u001b[0m, \u001b[38;5;34m7\u001b[0m, \u001b[38;5;34m512\u001b[0m)           │      \u001b[38;5;34m20,024,384\u001b[0m │\n",
       "├──────────────────────────────────────┼─────────────────────────────┼─────────────────┤\n",
       "│ flatten_1 (\u001b[38;5;33mFlatten\u001b[0m)                  │ (\u001b[38;5;45mNone\u001b[0m, \u001b[38;5;34m25088\u001b[0m)               │               \u001b[38;5;34m0\u001b[0m │\n",
       "├──────────────────────────────────────┼─────────────────────────────┼─────────────────┤\n",
       "│ dense_2 (\u001b[38;5;33mDense\u001b[0m)                      │ (\u001b[38;5;45mNone\u001b[0m, \u001b[38;5;34m512\u001b[0m)                 │      \u001b[38;5;34m12,845,568\u001b[0m │\n",
       "├──────────────────────────────────────┼─────────────────────────────┼─────────────────┤\n",
       "│ dense_3 (\u001b[38;5;33mDense\u001b[0m)                      │ (\u001b[38;5;45mNone\u001b[0m, \u001b[38;5;34m7\u001b[0m)                   │           \u001b[38;5;34m3,591\u001b[0m │\n",
       "└──────────────────────────────────────┴─────────────────────────────┴─────────────────┘\n"
      ]
     },
     "metadata": {},
     "output_type": "display_data"
    },
    {
     "data": {
      "text/html": [
       "<pre style=\"white-space:pre;overflow-x:auto;line-height:normal;font-family:Menlo,'DejaVu Sans Mono',consolas,'Courier New',monospace\"><span style=\"font-weight: bold\"> Total params: </span><span style=\"color: #00af00; text-decoration-color: #00af00\">32,873,543</span> (125.40 MB)\n",
       "</pre>\n"
      ],
      "text/plain": [
       "\u001b[1m Total params: \u001b[0m\u001b[38;5;34m32,873,543\u001b[0m (125.40 MB)\n"
      ]
     },
     "metadata": {},
     "output_type": "display_data"
    },
    {
     "data": {
      "text/html": [
       "<pre style=\"white-space:pre;overflow-x:auto;line-height:normal;font-family:Menlo,'DejaVu Sans Mono',consolas,'Courier New',monospace\"><span style=\"font-weight: bold\"> Trainable params: </span><span style=\"color: #00af00; text-decoration-color: #00af00\">32,873,543</span> (125.40 MB)\n",
       "</pre>\n"
      ],
      "text/plain": [
       "\u001b[1m Trainable params: \u001b[0m\u001b[38;5;34m32,873,543\u001b[0m (125.40 MB)\n"
      ]
     },
     "metadata": {},
     "output_type": "display_data"
    },
    {
     "data": {
      "text/html": [
       "<pre style=\"white-space:pre;overflow-x:auto;line-height:normal;font-family:Menlo,'DejaVu Sans Mono',consolas,'Courier New',monospace\"><span style=\"font-weight: bold\"> Non-trainable params: </span><span style=\"color: #00af00; text-decoration-color: #00af00\">0</span> (0.00 B)\n",
       "</pre>\n"
      ],
      "text/plain": [
       "\u001b[1m Non-trainable params: \u001b[0m\u001b[38;5;34m0\u001b[0m (0.00 B)\n"
      ]
     },
     "metadata": {},
     "output_type": "display_data"
    }
   ],
   "source": [
    "model = models.Sequential()\n",
    "\n",
    "model.add(conv_base)\n",
    "model.add(layers.Flatten())\n",
    "model.add(layers.Dense(512))\n",
    "model.add(layers.Dense(7, activation='softmax'))\n",
    "model.summary()"
   ]
  },
  {
   "cell_type": "markdown",
   "id": "3b6d4b62",
   "metadata": {
    "id": "xVJZBq9rEyPy",
    "papermill": {
     "duration": 1.254619,
     "end_time": "2025-06-21T15:57:52.300119",
     "exception": false,
     "start_time": "2025-06-21T15:57:51.045500",
     "status": "completed"
    },
    "tags": []
   },
   "source": [
    "#### Model Train"
   ]
  },
  {
   "cell_type": "code",
   "execution_count": 40,
   "id": "9bb5220b",
   "metadata": {
    "execution": {
     "iopub.execute_input": "2025-06-21T15:57:54.946080Z",
     "iopub.status.busy": "2025-06-21T15:57:54.945802Z",
     "iopub.status.idle": "2025-06-21T17:46:50.788970Z",
     "shell.execute_reply": "2025-06-21T17:46:50.788228Z"
    },
    "executionInfo": {
     "elapsed": 564954,
     "status": "ok",
     "timestamp": 1750157736718,
     "user": {
      "displayName": "Aditya Bayhaqie",
      "userId": "16906297684641538968"
     },
     "user_tz": -420
    },
    "id": "ePz2pMq-EyPy",
    "outputId": "9f585ac8-7a6b-469d-aa79-1ad8fcd3ef77",
    "papermill": {
     "duration": 6538.917153,
     "end_time": "2025-06-21T17:46:52.537235",
     "exception": false,
     "start_time": "2025-06-21T15:57:53.620082",
     "status": "completed"
    },
    "tags": []
   },
   "outputs": [
    {
     "name": "stdout",
     "output_type": "stream",
     "text": [
      "1097\n",
      "1061\n",
      "This is the number of trainable weights before freezing the conv base: 36\n",
      "Epoch 1/15\n",
      "\u001b[1m1097/1097\u001b[0m \u001b[32m━━━━━━━━━━━━━━━━━━━━\u001b[0m\u001b[37m\u001b[0m \u001b[1m819s\u001b[0m 708ms/step - categorical_accuracy: 0.3654 - loss: 1.6340 - val_categorical_accuracy: 0.5707 - val_loss: 1.1587\n",
      "Epoch 2/15\n",
      "\u001b[1m1097/1097\u001b[0m \u001b[32m━━━━━━━━━━━━━━━━━━━━\u001b[0m\u001b[37m\u001b[0m \u001b[1m71s\u001b[0m 64ms/step - categorical_accuracy: 0.5312 - loss: 0.9132 - val_categorical_accuracy: 0.5603 - val_loss: 1.1856\n",
      "Epoch 3/15\n",
      "\u001b[1m1097/1097\u001b[0m \u001b[32m━━━━━━━━━━━━━━━━━━━━\u001b[0m\u001b[37m\u001b[0m \u001b[1m746s\u001b[0m 680ms/step - categorical_accuracy: 0.6071 - loss: 1.0573 - val_categorical_accuracy: 0.6481 - val_loss: 0.9680\n",
      "Epoch 4/15\n",
      "\u001b[1m1097/1097\u001b[0m \u001b[32m━━━━━━━━━━━━━━━━━━━━\u001b[0m\u001b[37m\u001b[0m \u001b[1m71s\u001b[0m 64ms/step - categorical_accuracy: 0.7500 - loss: 0.7117 - val_categorical_accuracy: 0.6490 - val_loss: 0.9659\n",
      "Epoch 5/15\n",
      "\u001b[1m1097/1097\u001b[0m \u001b[32m━━━━━━━━━━━━━━━━━━━━\u001b[0m\u001b[37m\u001b[0m \u001b[1m746s\u001b[0m 680ms/step - categorical_accuracy: 0.6775 - loss: 0.8842 - val_categorical_accuracy: 0.6620 - val_loss: 0.9271\n",
      "Epoch 6/15\n",
      "\u001b[1m1097/1097\u001b[0m \u001b[32m━━━━━━━━━━━━━━━━━━━━\u001b[0m\u001b[37m\u001b[0m \u001b[1m71s\u001b[0m 64ms/step - categorical_accuracy: 0.8125 - loss: 0.6028 - val_categorical_accuracy: 0.6596 - val_loss: 0.9349\n",
      "Epoch 7/15\n",
      "\u001b[1m1097/1097\u001b[0m \u001b[32m━━━━━━━━━━━━━━━━━━━━\u001b[0m\u001b[37m\u001b[0m \u001b[1m746s\u001b[0m 680ms/step - categorical_accuracy: 0.7154 - loss: 0.7801 - val_categorical_accuracy: 0.6779 - val_loss: 0.9043\n",
      "Epoch 8/15\n",
      "\u001b[1m1097/1097\u001b[0m \u001b[32m━━━━━━━━━━━━━━━━━━━━\u001b[0m\u001b[37m\u001b[0m \u001b[1m71s\u001b[0m 64ms/step - categorical_accuracy: 0.9062 - loss: 0.4174 - val_categorical_accuracy: 0.6790 - val_loss: 0.9090\n",
      "Epoch 9/15\n",
      "\u001b[1m1097/1097\u001b[0m \u001b[32m━━━━━━━━━━━━━━━━━━━━\u001b[0m\u001b[37m\u001b[0m \u001b[1m745s\u001b[0m 679ms/step - categorical_accuracy: 0.7647 - loss: 0.6465 - val_categorical_accuracy: 0.6872 - val_loss: 0.9210\n",
      "Epoch 10/15\n",
      "\u001b[1m1097/1097\u001b[0m \u001b[32m━━━━━━━━━━━━━━━━━━━━\u001b[0m\u001b[37m\u001b[0m \u001b[1m71s\u001b[0m 64ms/step - categorical_accuracy: 0.5625 - loss: 0.8162 - val_categorical_accuracy: 0.6851 - val_loss: 0.9227\n",
      "Epoch 11/15\n",
      "\u001b[1m1097/1097\u001b[0m \u001b[32m━━━━━━━━━━━━━━━━━━━━\u001b[0m\u001b[37m\u001b[0m \u001b[1m745s\u001b[0m 679ms/step - categorical_accuracy: 0.8148 - loss: 0.5126 - val_categorical_accuracy: 0.6831 - val_loss: 0.9342\n",
      "Epoch 12/15\n",
      "\u001b[1m1097/1097\u001b[0m \u001b[32m━━━━━━━━━━━━━━━━━━━━\u001b[0m\u001b[37m\u001b[0m \u001b[1m71s\u001b[0m 64ms/step - categorical_accuracy: 0.7188 - loss: 0.4998 - val_categorical_accuracy: 0.6823 - val_loss: 0.9387\n",
      "Epoch 13/15\n",
      "\u001b[1m1097/1097\u001b[0m \u001b[32m━━━━━━━━━━━━━━━━━━━━\u001b[0m\u001b[37m\u001b[0m \u001b[1m747s\u001b[0m 681ms/step - categorical_accuracy: 0.8773 - loss: 0.3549 - val_categorical_accuracy: 0.6762 - val_loss: 1.0396\n",
      "Epoch 14/15\n",
      "\u001b[1m1097/1097\u001b[0m \u001b[32m━━━━━━━━━━━━━━━━━━━━\u001b[0m\u001b[37m\u001b[0m \u001b[1m71s\u001b[0m 64ms/step - categorical_accuracy: 0.8125 - loss: 0.4459 - val_categorical_accuracy: 0.6786 - val_loss: 1.0255\n",
      "Epoch 15/15\n",
      "\u001b[1m1097/1097\u001b[0m \u001b[32m━━━━━━━━━━━━━━━━━━━━\u001b[0m\u001b[37m\u001b[0m \u001b[1m746s\u001b[0m 680ms/step - categorical_accuracy: 0.9206 - loss: 0.2269 - val_categorical_accuracy: 0.6759 - val_loss: 1.2340\n"
     ]
    }
   ],
   "source": [
    "steps_per_epoch = train_generator.samples // train_generator.batch_size\n",
    "validation_steps = validation_generator.samples // validation_generator.batch_size\n",
    "\n",
    "print(steps_per_epoch)\n",
    "print(validation_steps)\n",
    "\n",
    "conv_base.trainable = True\n",
    "print('This is the number of trainable weights before freezing the conv base:', len(model.trainable_weights))\n",
    "\n",
    "model.compile(\n",
    "    optimizer=optimizers.Adam(learning_rate=5e-5),\n",
    "    loss=losses.categorical_crossentropy,\n",
    "    metrics=[metrics.categorical_accuracy]\n",
    ")\n",
    "\n",
    "history = model.fit(train_generator,\n",
    "                              steps_per_epoch=steps_per_epoch,\n",
    "                              epochs=15,\n",
    "                              validation_data=validation_generator,\n",
    "                              validation_steps=validation_steps)"
   ]
  },
  {
   "cell_type": "code",
   "execution_count": 41,
   "id": "12475504",
   "metadata": {
    "execution": {
     "iopub.execute_input": "2025-06-21T17:46:55.893774Z",
     "iopub.status.busy": "2025-06-21T17:46:55.893149Z",
     "iopub.status.idle": "2025-06-21T17:46:56.206034Z",
     "shell.execute_reply": "2025-06-21T17:46:56.205281Z"
    },
    "executionInfo": {
     "elapsed": 693,
     "status": "ok",
     "timestamp": 1750157737428,
     "user": {
      "displayName": "Aditya Bayhaqie",
      "userId": "16906297684641538968"
     },
     "user_tz": -420
    },
    "id": "c-GLQ5oHEyPz",
    "outputId": "5e99857d-4ddb-4e57-e979-38eb538a0030",
    "papermill": {
     "duration": 2.041535,
     "end_time": "2025-06-21T17:46:56.207101",
     "exception": false,
     "start_time": "2025-06-21T17:46:54.165566",
     "status": "completed"
    },
    "tags": []
   },
   "outputs": [
    {
     "data": {
      "image/png": "[encoded data removed]",
      "text/plain": [
       "<Figure size 640x480 with 1 Axes>"
      ]
     },
     "metadata": {},
     "output_type": "display_data"
    },
    {
     "data": {
      "image/png": "[encoded data removed]",
      "text/plain": [
       "<Figure size 640x480 with 1 Axes>"
      ]
     },
     "metadata": {},
     "output_type": "display_data"
    }
   ],
   "source": [
    "acc = history.history['categorical_accuracy']\n",
    "val_acc = history.history['val_categorical_accuracy']\n",
    "loss = history.history['loss']\n",
    "val_loss = history.history['val_loss']\n",
    "\n",
    "epochs = range(1, len(acc)+1)\n",
    "\n",
    "plt.plot(epochs, acc,  dashes=[2, 2, 10, 2], label='Training acc')\n",
    "plt.plot(epochs, val_acc, 'g', label='Validation acc')\n",
    "plt.title('Training and validation accuracy')\n",
    "plt.legend()\n",
    "\n",
    "plt.figure()\n",
    "plt.plot(epochs, loss,  dashes=[2, 2, 10, 2],label='Training losses')\n",
    "plt.plot(epochs, val_loss, 'g', label='Validation losses')\n",
    "plt.title('Training and validation loss')\n",
    "plt.legend()\n",
    "\n",
    "plt.show()"
   ]
  },
  {
   "cell_type": "code",
   "execution_count": 42,
   "id": "9e763dd8",
   "metadata": {
    "execution": {
     "iopub.execute_input": "2025-06-21T17:46:59.673411Z",
     "iopub.status.busy": "2025-06-21T17:46:59.673137Z",
     "iopub.status.idle": "2025-06-21T17:46:59.677315Z",
     "shell.execute_reply": "2025-06-21T17:46:59.676802Z"
    },
    "id": "OhIVMcL4EyPz",
    "papermill": {
     "duration": 1.742128,
     "end_time": "2025-06-21T17:46:59.678351",
     "exception": false,
     "start_time": "2025-06-21T17:46:57.936223",
     "status": "completed"
    },
    "tags": []
   },
   "outputs": [],
   "source": [
    "conv_base.trainable = True\n",
    "set_trainable = False\n",
    "for layer in conv_base.layers:\n",
    "    if layer.name == 'block5_conv1':\n",
    "        set_trainable = True\n",
    "    if set_trainable:\n",
    "        layer.trainable = True\n",
    "    else:\n",
    "        layer.trainable = False"
   ]
  },
  {
   "cell_type": "code",
   "execution_count": 43,
   "id": "bc55461a",
   "metadata": {
    "execution": {
     "iopub.execute_input": "2025-06-21T17:47:03.177104Z",
     "iopub.status.busy": "2025-06-21T17:47:03.176824Z",
     "iopub.status.idle": "2025-06-21T20:49:55.548233Z",
     "shell.execute_reply": "2025-06-21T20:49:55.547465Z"
    },
    "executionInfo": {
     "elapsed": 1846688,
     "status": "ok",
     "timestamp": 1750159624657,
     "user": {
      "displayName": "Aditya Bayhaqie",
      "userId": "16906297684641538968"
     },
     "user_tz": -420
    },
    "id": "8SwQ_0XiEyPz",
    "outputId": "814ebad5-a5ba-4ec3-c81e-db6260e70bf1",
    "papermill": {
     "duration": 10976.965752,
     "end_time": "2025-06-21T20:49:58.411919",
     "exception": false,
     "start_time": "2025-06-21T17:47:01.446167",
     "status": "completed"
    },
    "tags": []
   },
   "outputs": [
    {
     "name": "stdout",
     "output_type": "stream",
     "text": [
      "1097\n",
      "1061\n",
      "Epoch 1/50\n",
      "\u001b[1m1097/1097\u001b[0m \u001b[32m━━━━━━━━━━━━━━━━━━━━\u001b[0m\u001b[37m\u001b[0m \u001b[1m376s\u001b[0m 339ms/step - categorical_accuracy: 0.9662 - loss: 0.1105 - val_categorical_accuracy: 0.7037 - val_loss: 1.3799\n",
      "Epoch 2/50\n",
      "\u001b[1m1097/1097\u001b[0m \u001b[32m━━━━━━━━━━━━━━━━━━━━\u001b[0m\u001b[37m\u001b[0m \u001b[1m71s\u001b[0m 64ms/step - categorical_accuracy: 0.9688 - loss: 0.0466 - val_categorical_accuracy: 0.7035 - val_loss: 1.3803\n",
      "Epoch 3/50\n",
      "\u001b[1m1097/1097\u001b[0m \u001b[32m━━━━━━━━━━━━━━━━━━━━\u001b[0m\u001b[37m\u001b[0m \u001b[1m367s\u001b[0m 335ms/step - categorical_accuracy: 0.9935 - loss: 0.0341 - val_categorical_accuracy: 0.6985 - val_loss: 1.6029\n",
      "Epoch 4/50\n",
      "\u001b[1m1097/1097\u001b[0m \u001b[32m━━━━━━━━━━━━━━━━━━━━\u001b[0m\u001b[37m\u001b[0m \u001b[1m71s\u001b[0m 64ms/step - categorical_accuracy: 1.0000 - loss: 0.0155 - val_categorical_accuracy: 0.6989 - val_loss: 1.6031\n",
      "Epoch 5/50\n",
      "\u001b[1m1097/1097\u001b[0m \u001b[32m━━━━━━━━━━━━━━━━━━━━\u001b[0m\u001b[37m\u001b[0m \u001b[1m367s\u001b[0m 335ms/step - categorical_accuracy: 0.9981 - loss: 0.0156 - val_categorical_accuracy: 0.7046 - val_loss: 1.7354\n",
      "Epoch 6/50\n",
      "\u001b[1m1097/1097\u001b[0m \u001b[32m━━━━━━━━━━━━━━━━━━━━\u001b[0m\u001b[37m\u001b[0m \u001b[1m71s\u001b[0m 64ms/step - categorical_accuracy: 0.9375 - loss: 0.2832 - val_categorical_accuracy: 0.7037 - val_loss: 1.7348\n",
      "Epoch 7/50\n",
      "\u001b[1m1097/1097\u001b[0m \u001b[32m━━━━━━━━━━━━━━━━━━━━\u001b[0m\u001b[37m\u001b[0m \u001b[1m367s\u001b[0m 335ms/step - categorical_accuracy: 0.9979 - loss: 0.0145 - val_categorical_accuracy: 0.7019 - val_loss: 1.9351\n",
      "Epoch 8/50\n",
      "\u001b[1m1097/1097\u001b[0m \u001b[32m━━━━━━━━━━━━━━━━━━━━\u001b[0m\u001b[37m\u001b[0m \u001b[1m71s\u001b[0m 64ms/step - categorical_accuracy: 1.0000 - loss: 0.0017 - val_categorical_accuracy: 0.7019 - val_loss: 1.9357\n",
      "Epoch 9/50\n",
      "\u001b[1m1097/1097\u001b[0m \u001b[32m━━━━━━━━━━━━━━━━━━━━\u001b[0m\u001b[37m\u001b[0m \u001b[1m367s\u001b[0m 335ms/step - categorical_accuracy: 0.9980 - loss: 0.0135 - val_categorical_accuracy: 0.6997 - val_loss: 1.9621\n",
      "Epoch 10/50\n",
      "\u001b[1m1097/1097\u001b[0m \u001b[32m━━━━━━━━━━━━━━━━━━━━\u001b[0m\u001b[37m\u001b[0m \u001b[1m71s\u001b[0m 64ms/step - categorical_accuracy: 1.0000 - loss: 0.0020 - val_categorical_accuracy: 0.6999 - val_loss: 1.9619\n",
      "Epoch 11/50\n",
      "\u001b[1m1097/1097\u001b[0m \u001b[32m━━━━━━━━━━━━━━━━━━━━\u001b[0m\u001b[37m\u001b[0m \u001b[1m368s\u001b[0m 335ms/step - categorical_accuracy: 0.9980 - loss: 0.0115 - val_categorical_accuracy: 0.7012 - val_loss: 2.0103\n",
      "Epoch 12/50\n",
      "\u001b[1m1097/1097\u001b[0m \u001b[32m━━━━━━━━━━━━━━━━━━━━\u001b[0m\u001b[37m\u001b[0m \u001b[1m71s\u001b[0m 65ms/step - categorical_accuracy: 1.0000 - loss: 0.0053 - val_categorical_accuracy: 0.7019 - val_loss: 2.0067\n",
      "Epoch 13/50\n",
      "\u001b[1m1097/1097\u001b[0m \u001b[32m━━━━━━━━━━━━━━━━━━━━\u001b[0m\u001b[37m\u001b[0m \u001b[1m368s\u001b[0m 336ms/step - categorical_accuracy: 0.9981 - loss: 0.0126 - val_categorical_accuracy: 0.6993 - val_loss: 2.0511\n",
      "Epoch 14/50\n",
      "\u001b[1m1097/1097\u001b[0m \u001b[32m━━━━━━━━━━━━━━━━━━━━\u001b[0m\u001b[37m\u001b[0m \u001b[1m71s\u001b[0m 64ms/step - categorical_accuracy: 1.0000 - loss: 5.9638e-04 - val_categorical_accuracy: 0.6992 - val_loss: 2.0522\n",
      "Epoch 15/50\n",
      "\u001b[1m1097/1097\u001b[0m \u001b[32m━━━━━━━━━━━━━━━━━━━━\u001b[0m\u001b[37m\u001b[0m \u001b[1m367s\u001b[0m 335ms/step - categorical_accuracy: 0.9981 - loss: 0.0120 - val_categorical_accuracy: 0.7051 - val_loss: 2.0192\n",
      "Epoch 16/50\n",
      "\u001b[1m1097/1097\u001b[0m \u001b[32m━━━━━━━━━━━━━━━━━━━━\u001b[0m\u001b[37m\u001b[0m \u001b[1m71s\u001b[0m 64ms/step - categorical_accuracy: 1.0000 - loss: 0.0016 - val_categorical_accuracy: 0.7050 - val_loss: 2.0204\n",
      "Epoch 17/50\n",
      "\u001b[1m1097/1097\u001b[0m \u001b[32m━━━━━━━━━━━━━━━━━━━━\u001b[0m\u001b[37m\u001b[0m \u001b[1m367s\u001b[0m 335ms/step - categorical_accuracy: 0.9982 - loss: 0.0116 - val_categorical_accuracy: 0.7005 - val_loss: 1.9264\n",
      "Epoch 18/50\n",
      "\u001b[1m1097/1097\u001b[0m \u001b[32m━━━━━━━━━━━━━━━━━━━━\u001b[0m\u001b[37m\u001b[0m \u001b[1m71s\u001b[0m 64ms/step - categorical_accuracy: 1.0000 - loss: 0.0018 - val_categorical_accuracy: 0.7011 - val_loss: 1.9223\n",
      "Epoch 19/50\n",
      "\u001b[1m1097/1097\u001b[0m \u001b[32m━━━━━━━━━━━━━━━━━━━━\u001b[0m\u001b[37m\u001b[0m \u001b[1m367s\u001b[0m 334ms/step - categorical_accuracy: 0.9983 - loss: 0.0099 - val_categorical_accuracy: 0.7020 - val_loss: 1.9543\n",
      "Epoch 20/50\n",
      "\u001b[1m1097/1097\u001b[0m \u001b[32m━━━━━━━━━━━━━━━━━━━━\u001b[0m\u001b[37m\u001b[0m \u001b[1m71s\u001b[0m 64ms/step - categorical_accuracy: 1.0000 - loss: 0.0025 - val_categorical_accuracy: 0.7020 - val_loss: 1.9543\n",
      "Epoch 21/50\n",
      "\u001b[1m1097/1097\u001b[0m \u001b[32m━━━━━━━━━━━━━━━━━━━━\u001b[0m\u001b[37m\u001b[0m \u001b[1m368s\u001b[0m 335ms/step - categorical_accuracy: 0.9983 - loss: 0.0106 - val_categorical_accuracy: 0.7025 - val_loss: 1.9658\n",
      "Epoch 22/50\n",
      "\u001b[1m1097/1097\u001b[0m \u001b[32m━━━━━━━━━━━━━━━━━━━━\u001b[0m\u001b[37m\u001b[0m \u001b[1m71s\u001b[0m 64ms/step - categorical_accuracy: 1.0000 - loss: 0.0040 - val_categorical_accuracy: 0.7022 - val_loss: 1.9626\n",
      "Epoch 23/50\n",
      "\u001b[1m1097/1097\u001b[0m \u001b[32m━━━━━━━━━━━━━━━━━━━━\u001b[0m\u001b[37m\u001b[0m \u001b[1m367s\u001b[0m 334ms/step - categorical_accuracy: 0.9982 - loss: 0.0090 - val_categorical_accuracy: 0.7026 - val_loss: 2.1060\n",
      "Epoch 24/50\n",
      "\u001b[1m1097/1097\u001b[0m \u001b[32m━━━━━━━━━━━━━━━━━━━━\u001b[0m\u001b[37m\u001b[0m \u001b[1m71s\u001b[0m 64ms/step - categorical_accuracy: 1.0000 - loss: 0.0011 - val_categorical_accuracy: 0.7025 - val_loss: 2.1065\n",
      "Epoch 25/50\n",
      "\u001b[1m1097/1097\u001b[0m \u001b[32m━━━━━━━━━━━━━━━━━━━━\u001b[0m\u001b[37m\u001b[0m \u001b[1m367s\u001b[0m 335ms/step - categorical_accuracy: 0.9985 - loss: 0.0074 - val_categorical_accuracy: 0.7006 - val_loss: 2.1125\n",
      "Epoch 26/50\n",
      "\u001b[1m1097/1097\u001b[0m \u001b[32m━━━━━━━━━━━━━━━━━━━━\u001b[0m\u001b[37m\u001b[0m \u001b[1m71s\u001b[0m 64ms/step - categorical_accuracy: 1.0000 - loss: 0.0018 - val_categorical_accuracy: 0.7005 - val_loss: 2.1137\n",
      "Epoch 27/50\n",
      "\u001b[1m1097/1097\u001b[0m \u001b[32m━━━━━━━━━━━━━━━━━━━━\u001b[0m\u001b[37m\u001b[0m \u001b[1m368s\u001b[0m 335ms/step - categorical_accuracy: 0.9990 - loss: 0.0055 - val_categorical_accuracy: 0.6997 - val_loss: 2.0397\n",
      "Epoch 28/50\n",
      "\u001b[1m1097/1097\u001b[0m \u001b[32m━━━━━━━━━━━━━━━━━━━━\u001b[0m\u001b[37m\u001b[0m \u001b[1m71s\u001b[0m 64ms/step - categorical_accuracy: 1.0000 - loss: 0.0013 - val_categorical_accuracy: 0.6997 - val_loss: 2.0391\n",
      "Epoch 29/50\n",
      "\u001b[1m1097/1097\u001b[0m \u001b[32m━━━━━━━━━━━━━━━━━━━━\u001b[0m\u001b[37m\u001b[0m \u001b[1m369s\u001b[0m 336ms/step - categorical_accuracy: 0.9984 - loss: 0.0087 - val_categorical_accuracy: 0.7036 - val_loss: 2.2561\n",
      "Epoch 30/50\n",
      "\u001b[1m1097/1097\u001b[0m \u001b[32m━━━━━━━━━━━━━━━━━━━━\u001b[0m\u001b[37m\u001b[0m \u001b[1m71s\u001b[0m 64ms/step - categorical_accuracy: 1.0000 - loss: 3.2895e-04 - val_categorical_accuracy: 0.7035 - val_loss: 2.2556\n",
      "Epoch 31/50\n",
      "\u001b[1m1097/1097\u001b[0m \u001b[32m━━━━━━━━━━━━━━━━━━━━\u001b[0m\u001b[37m\u001b[0m \u001b[1m369s\u001b[0m 336ms/step - categorical_accuracy: 0.9986 - loss: 0.0071 - val_categorical_accuracy: 0.7002 - val_loss: 2.1132\n",
      "Epoch 32/50\n",
      "\u001b[1m1097/1097\u001b[0m \u001b[32m━━━━━━━━━━━━━━━━━━━━\u001b[0m\u001b[37m\u001b[0m \u001b[1m71s\u001b[0m 64ms/step - categorical_accuracy: 1.0000 - loss: 9.3227e-04 - val_categorical_accuracy: 0.7000 - val_loss: 2.1145\n",
      "Epoch 33/50\n",
      "\u001b[1m1097/1097\u001b[0m \u001b[32m━━━━━━━━━━━━━━━━━━━━\u001b[0m\u001b[37m\u001b[0m \u001b[1m367s\u001b[0m 335ms/step - categorical_accuracy: 0.9985 - loss: 0.0069 - val_categorical_accuracy: 0.7024 - val_loss: 2.1063\n",
      "Epoch 34/50\n",
      "\u001b[1m1097/1097\u001b[0m \u001b[32m━━━━━━━━━━━━━━━━━━━━\u001b[0m\u001b[37m\u001b[0m \u001b[1m71s\u001b[0m 65ms/step - categorical_accuracy: 1.0000 - loss: 9.1609e-04 - val_categorical_accuracy: 0.7025 - val_loss: 2.0989\n",
      "Epoch 35/50\n",
      "\u001b[1m1097/1097\u001b[0m \u001b[32m━━━━━━━━━━━━━━━━━━━━\u001b[0m\u001b[37m\u001b[0m \u001b[1m369s\u001b[0m 336ms/step - categorical_accuracy: 0.9986 - loss: 0.0063 - val_categorical_accuracy: 0.7020 - val_loss: 2.0768\n",
      "Epoch 36/50\n",
      "\u001b[1m1097/1097\u001b[0m \u001b[32m━━━━━━━━━━━━━━━━━━━━\u001b[0m\u001b[37m\u001b[0m \u001b[1m71s\u001b[0m 64ms/step - categorical_accuracy: 1.0000 - loss: 7.5011e-04 - val_categorical_accuracy: 0.7024 - val_loss: 2.0784\n",
      "Epoch 37/50\n",
      "\u001b[1m1097/1097\u001b[0m \u001b[32m━━━━━━━━━━━━━━━━━━━━\u001b[0m\u001b[37m\u001b[0m \u001b[1m369s\u001b[0m 336ms/step - categorical_accuracy: 0.9985 - loss: 0.0072 - val_categorical_accuracy: 0.7000 - val_loss: 2.1035\n",
      "Epoch 38/50\n",
      "\u001b[1m1097/1097\u001b[0m \u001b[32m━━━━━━━━━━━━━━━━━━━━\u001b[0m\u001b[37m\u001b[0m \u001b[1m71s\u001b[0m 65ms/step - categorical_accuracy: 1.0000 - loss: 4.5859e-04 - val_categorical_accuracy: 0.6993 - val_loss: 2.1074\n",
      "Epoch 39/50\n",
      "\u001b[1m1097/1097\u001b[0m \u001b[32m━━━━━━━━━━━━━━━━━━━━\u001b[0m\u001b[37m\u001b[0m \u001b[1m368s\u001b[0m 336ms/step - categorical_accuracy: 0.9988 - loss: 0.0051 - val_categorical_accuracy: 0.7015 - val_loss: 2.3926\n",
      "Epoch 40/50\n",
      "\u001b[1m1097/1097\u001b[0m \u001b[32m━━━━━━━━━━━━━━━━━━━━\u001b[0m\u001b[37m\u001b[0m \u001b[1m71s\u001b[0m 65ms/step - categorical_accuracy: 1.0000 - loss: 9.0359e-04 - val_categorical_accuracy: 0.7013 - val_loss: 2.3796\n",
      "Epoch 41/50\n",
      "\u001b[1m1097/1097\u001b[0m \u001b[32m━━━━━━━━━━━━━━━━━━━━\u001b[0m\u001b[37m\u001b[0m \u001b[1m369s\u001b[0m 336ms/step - categorical_accuracy: 0.9982 - loss: 0.0068 - val_categorical_accuracy: 0.7030 - val_loss: 2.2313\n",
      "Epoch 42/50\n",
      "\u001b[1m1097/1097\u001b[0m \u001b[32m━━━━━━━━━━━━━━━━━━━━\u001b[0m\u001b[37m\u001b[0m \u001b[1m71s\u001b[0m 64ms/step - categorical_accuracy: 0.9688 - loss: 0.1261 - val_categorical_accuracy: 0.7030 - val_loss: 2.2308\n",
      "Epoch 43/50\n",
      "\u001b[1m1097/1097\u001b[0m \u001b[32m━━━━━━━━━━━━━━━━━━━━\u001b[0m\u001b[37m\u001b[0m \u001b[1m367s\u001b[0m 335ms/step - categorical_accuracy: 0.9989 - loss: 0.0044 - val_categorical_accuracy: 0.7022 - val_loss: 2.1079\n",
      "Epoch 44/50\n",
      "\u001b[1m1097/1097\u001b[0m \u001b[32m━━━━━━━━━━━━━━━━━━━━\u001b[0m\u001b[37m\u001b[0m \u001b[1m71s\u001b[0m 64ms/step - categorical_accuracy: 1.0000 - loss: 3.3868e-04 - val_categorical_accuracy: 0.7018 - val_loss: 2.1133\n",
      "Epoch 45/50\n",
      "\u001b[1m1097/1097\u001b[0m \u001b[32m━━━━━━━━━━━━━━━━━━━━\u001b[0m\u001b[37m\u001b[0m \u001b[1m366s\u001b[0m 334ms/step - categorical_accuracy: 0.9983 - loss: 0.0055 - val_categorical_accuracy: 0.6996 - val_loss: 2.2086\n",
      "Epoch 46/50\n",
      "\u001b[1m1097/1097\u001b[0m \u001b[32m━━━━━━━━━━━━━━━━━━━━\u001b[0m\u001b[37m\u001b[0m \u001b[1m71s\u001b[0m 64ms/step - categorical_accuracy: 1.0000 - loss: 8.8925e-04 - val_categorical_accuracy: 0.6999 - val_loss: 2.2111\n",
      "Epoch 47/50\n",
      "\u001b[1m1097/1097\u001b[0m \u001b[32m━━━━━━━━━━━━━━━━━━━━\u001b[0m\u001b[37m\u001b[0m \u001b[1m368s\u001b[0m 336ms/step - categorical_accuracy: 0.9988 - loss: 0.0044 - val_categorical_accuracy: 0.6972 - val_loss: 2.2090\n",
      "Epoch 48/50\n",
      "\u001b[1m1097/1097\u001b[0m \u001b[32m━━━━━━━━━━━━━━━━━━━━\u001b[0m\u001b[37m\u001b[0m \u001b[1m71s\u001b[0m 64ms/step - categorical_accuracy: 1.0000 - loss: 0.0014 - val_categorical_accuracy: 0.6971 - val_loss: 2.2095\n",
      "Epoch 49/50\n",
      "\u001b[1m1097/1097\u001b[0m \u001b[32m━━━━━━━━━━━━━━━━━━━━\u001b[0m\u001b[37m\u001b[0m \u001b[1m369s\u001b[0m 336ms/step - categorical_accuracy: 0.9987 - loss: 0.0046 - val_categorical_accuracy: 0.7011 - val_loss: 2.2377\n",
      "Epoch 50/50\n",
      "\u001b[1m1097/1097\u001b[0m \u001b[32m━━━━━━━━━━━━━━━━━━━━\u001b[0m\u001b[37m\u001b[0m \u001b[1m71s\u001b[0m 65ms/step - categorical_accuracy: 1.0000 - loss: 8.1342e-04 - val_categorical_accuracy: 0.7012 - val_loss: 2.2402\n"
     ]
    }
   ],
   "source": [
    "steps_per_epoch = train_generator.samples // train_generator.batch_size\n",
    "validation_steps = validation_generator.samples // validation_generator.batch_size\n",
    "\n",
    "print(steps_per_epoch)\n",
    "print(validation_steps)\n",
    "\n",
    "model.compile(\n",
    "    optimizer=optimizers.Adam(learning_rate=1e-5),\n",
    "    loss=losses.categorical_crossentropy,\n",
    "    metrics=[metrics.categorical_accuracy]\n",
    ")\n",
    "history = model.fit(train_generator,\n",
    "                              steps_per_epoch=steps_per_epoch,\n",
    "                              epochs=50,\n",
    "                              validation_data=validation_generator,\n",
    "                              validation_steps=validation_steps)"
   ]
  },
  {
   "cell_type": "code",
   "execution_count": 44,
   "id": "c36b22a1",
   "metadata": {
    "execution": {
     "iopub.execute_input": "2025-06-21T20:50:04.604868Z",
     "iopub.status.busy": "2025-06-21T20:50:04.604247Z",
     "iopub.status.idle": "2025-06-21T20:50:04.911899Z",
     "shell.execute_reply": "2025-06-21T20:50:04.911219Z"
    },
    "executionInfo": {
     "elapsed": 482,
     "status": "ok",
     "timestamp": 1750159625165,
     "user": {
      "displayName": "Aditya Bayhaqie",
      "userId": "16906297684641538968"
     },
     "user_tz": -420
    },
    "id": "MxkW5ilQEyPz",
    "outputId": "14e79eda-d6cf-4276-b63e-d9e1e84d4f45",
    "papermill": {
     "duration": 3.331494,
     "end_time": "2025-06-21T20:50:04.913483",
     "exception": false,
     "start_time": "2025-06-21T20:50:01.581989",
     "status": "completed"
    },
    "tags": []
   },
   "outputs": [
    {
     "data": {
      "image/png": "[encoded data removed]",
      "text/plain": [
       "<Figure size 640x480 with 1 Axes>"
      ]
     },
     "metadata": {},
     "output_type": "display_data"
    },
    {
     "data": {
      "image/png": "[encoded data removed]",
      "text/plain": [
       "<Figure size 640x480 with 1 Axes>"
      ]
     },
     "metadata": {},
     "output_type": "display_data"
    }
   ],
   "source": [
    "acc = history.history['categorical_accuracy']\n",
    "val_acc = history.history['val_categorical_accuracy']\n",
    "loss = history.history['loss']\n",
    "val_loss = history.history['val_loss']\n",
    "\n",
    "epochs = range(1, len(acc)+1)\n",
    "\n",
    "plt.plot(epochs, acc,  dashes=[2, 2, 10, 2], label='Training acc')\n",
    "plt.plot(epochs, val_acc, 'g', label='Validation acc')\n",
    "plt.title('Training and validation accuracy')\n",
    "plt.legend()\n",
    "\n",
    "plt.figure()\n",
    "plt.plot(epochs, loss,  dashes=[2, 2, 10, 2],label='Training losses')\n",
    "plt.plot(epochs, val_loss, 'g', label='Validation losses')\n",
    "plt.title('Training and validation loss')\n",
    "plt.legend()\n",
    "\n",
    "plt.show()"
   ]
  },
  {
   "cell_type": "code",
   "execution_count": 45,
   "id": "412009e9",
   "metadata": {
    "execution": {
     "iopub.execute_input": "2025-06-21T20:50:10.999997Z",
     "iopub.status.busy": "2025-06-21T20:50:10.999735Z",
     "iopub.status.idle": "2025-06-21T20:50:11.660691Z",
     "shell.execute_reply": "2025-06-21T20:50:11.659979Z"
    },
    "papermill": {
     "duration": 3.744734,
     "end_time": "2025-06-21T20:50:11.662240",
     "exception": false,
     "start_time": "2025-06-21T20:50:07.917506",
     "status": "completed"
    },
    "tags": []
   },
   "outputs": [],
   "source": [
    "model.save('/kaggle/working/model/VGG19_FB_Model.h5')"
   ]
  },
  {
   "cell_type": "markdown",
   "id": "184926c2",
   "metadata": {
    "id": "5EX_AAtqG0a3",
    "papermill": {
     "duration": 3.18968,
     "end_time": "2025-06-21T20:50:17.711763",
     "exception": false,
     "start_time": "2025-06-21T20:50:14.522083",
     "status": "completed"
    },
    "tags": []
   },
   "source": [
    "## Model w/ ResNet50"
   ]
  },
  {
   "cell_type": "markdown",
   "id": "2c56e638",
   "metadata": {
    "id": "PAUvfOLsG0a_",
    "papermill": {
     "duration": 3.025263,
     "end_time": "2025-06-21T20:50:23.888096",
     "exception": false,
     "start_time": "2025-06-21T20:50:20.862833",
     "status": "completed"
    },
    "tags": []
   },
   "source": [
    "### Data Engineering"
   ]
  },
  {
   "cell_type": "code",
   "execution_count": 46,
   "id": "cd20b1c1",
   "metadata": {
    "execution": {
     "iopub.execute_input": "2025-06-21T20:50:29.845550Z",
     "iopub.status.busy": "2025-06-21T20:50:29.844865Z",
     "iopub.status.idle": "2025-06-21T20:50:29.848427Z",
     "shell.execute_reply": "2025-06-21T20:50:29.847751Z"
    },
    "executionInfo": {
     "elapsed": 19,
     "status": "ok",
     "timestamp": 1750157171460,
     "user": {
      "displayName": "Aditya Bayhaqie",
      "userId": "16906297684641538968"
     },
     "user_tz": -420
    },
    "id": "TA3x95E3G0a_",
    "outputId": "54f4c700-aabb-4d18-c0de-aef458b8436c",
    "papermill": {
     "duration": 3.14348,
     "end_time": "2025-06-21T20:50:29.849704",
     "exception": false,
     "start_time": "2025-06-21T20:50:26.706224",
     "status": "completed"
    },
    "tags": []
   },
   "outputs": [],
   "source": [
    "# train_datagen = ImageDataGenerator(rescale=1./255)\n",
    "# test_datagen = ImageDataGenerator(rescale=1./255)\n",
    "\n",
    "# train_generator = train_datagen.flow_from_directory(\n",
    "#     train_dir,\n",
    "#     target_size = (224, 224),\n",
    "#     batch_size=32\n",
    "# )\n",
    "\n",
    "# validation_generator = test_datagen.flow_from_directory(\n",
    "#     test_dir,\n",
    "#     target_size = (224, 224),\n",
    "#     batch_size=8\n",
    "# )"
   ]
  },
  {
   "cell_type": "markdown",
   "id": "bd02c61c",
   "metadata": {
    "id": "nM0MA64GG0bA",
    "papermill": {
     "duration": 3.029606,
     "end_time": "2025-06-21T20:50:35.895534",
     "exception": false,
     "start_time": "2025-06-21T20:50:32.865928",
     "status": "completed"
    },
    "tags": []
   },
   "source": [
    "### Model Development"
   ]
  },
  {
   "cell_type": "markdown",
   "id": "c18c8d80",
   "metadata": {
    "id": "r9VsDGV9G0bA",
    "papermill": {
     "duration": 3.207732,
     "end_time": "2025-06-21T20:50:42.024125",
     "exception": false,
     "start_time": "2025-06-21T20:50:38.816393",
     "status": "completed"
    },
    "tags": []
   },
   "source": [
    "#### Arch Build"
   ]
  },
  {
   "cell_type": "code",
   "execution_count": 47,
   "id": "9b1df2d4",
   "metadata": {
    "execution": {
     "iopub.execute_input": "2025-06-21T20:50:48.082308Z",
     "iopub.status.busy": "2025-06-21T20:50:48.081993Z",
     "iopub.status.idle": "2025-06-21T20:50:48.086019Z",
     "shell.execute_reply": "2025-06-21T20:50:48.085133Z"
    },
    "executionInfo": {
     "elapsed": 187,
     "status": "ok",
     "timestamp": 1750157171648,
     "user": {
      "displayName": "Aditya Bayhaqie",
      "userId": "16906297684641538968"
     },
     "user_tz": -420
    },
    "id": "xVYGSdKGG0bA",
    "outputId": "ee4452bd-3cf2-45f1-d5e6-08b8386ac2c2",
    "papermill": {
     "duration": 3.064579,
     "end_time": "2025-06-21T20:50:48.087369",
     "exception": false,
     "start_time": "2025-06-21T20:50:45.022790",
     "status": "completed"
    },
    "tags": []
   },
   "outputs": [],
   "source": [
    "# from keras.applications import ResNet50\n",
    "\n",
    "# conv_base = ResNet50(weights='imagenet',\n",
    "#                  include_top=True,\n",
    "#                  input_shape=(224, 224, 3))\n",
    "\n",
    "# conv_base.summary()"
   ]
  },
  {
   "cell_type": "code",
   "execution_count": 48,
   "id": "b8e1bb38",
   "metadata": {
    "execution": {
     "iopub.execute_input": "2025-06-21T20:50:54.102587Z",
     "iopub.status.busy": "2025-06-21T20:50:54.102348Z",
     "iopub.status.idle": "2025-06-21T20:50:54.105777Z",
     "shell.execute_reply": "2025-06-21T20:50:54.105032Z"
    },
    "executionInfo": {
     "elapsed": 99,
     "status": "ok",
     "timestamp": 1750157171762,
     "user": {
      "displayName": "Aditya Bayhaqie",
      "userId": "16906297684641538968"
     },
     "user_tz": -420
    },
    "id": "0nIg31J3G0bB",
    "outputId": "3c1e2787-94a2-4a3e-8a41-4c7c501072f7",
    "papermill": {
     "duration": 2.85369,
     "end_time": "2025-06-21T20:50:54.106931",
     "exception": false,
     "start_time": "2025-06-21T20:50:51.253241",
     "status": "completed"
    },
    "tags": []
   },
   "outputs": [],
   "source": [
    "# model = models.Sequential()\n",
    "\n",
    "# model.add(conv_base)\n",
    "# model.add(layers.Dense(7, activation='softmax'))\n",
    "# model.summary()"
   ]
  },
  {
   "cell_type": "markdown",
   "id": "4ae12c78",
   "metadata": {
    "id": "tBrpZcIhG0bB",
    "papermill": {
     "duration": 3.049551,
     "end_time": "2025-06-21T20:51:00.273598",
     "exception": false,
     "start_time": "2025-06-21T20:50:57.224047",
     "status": "completed"
    },
    "tags": []
   },
   "source": [
    "#### Model Train"
   ]
  },
  {
   "cell_type": "code",
   "execution_count": 49,
   "id": "b837bf7e",
   "metadata": {
    "execution": {
     "iopub.execute_input": "2025-06-21T20:51:06.263496Z",
     "iopub.status.busy": "2025-06-21T20:51:06.262769Z",
     "iopub.status.idle": "2025-06-21T20:51:06.266795Z",
     "shell.execute_reply": "2025-06-21T20:51:06.265947Z"
    },
    "executionInfo": {
     "elapsed": 564954,
     "status": "ok",
     "timestamp": 1750157736718,
     "user": {
      "displayName": "Aditya Bayhaqie",
      "userId": "16906297684641538968"
     },
     "user_tz": -420
    },
    "id": "52daWixDG0bB",
    "outputId": "9f585ac8-7a6b-469d-aa79-1ad8fcd3ef77",
    "papermill": {
     "duration": 3.030294,
     "end_time": "2025-06-21T20:51:06.268210",
     "exception": false,
     "start_time": "2025-06-21T20:51:03.237916",
     "status": "completed"
    },
    "tags": []
   },
   "outputs": [],
   "source": [
    "# conv_base.trainable = False\n",
    "# print('This is the number of trainable weights before freezing the conv base:', len(model.trainable_weights))\n",
    "\n",
    "# model.compile(\n",
    "#     optimizer=optimizers.Adam(learning_rate=5e-5),\n",
    "#     loss=losses.categorical_crossentropy,\n",
    "#     metrics=[metrics.categorical_accuracy]\n",
    "# )\n",
    "\n",
    "# history = model.fit(train_generator,\n",
    "#                               steps_per_epoch=146,\n",
    "#                               epochs=15,\n",
    "#                               validation_data=validation_generator,\n",
    "#                               validation_steps=31)"
   ]
  },
  {
   "cell_type": "code",
   "execution_count": 50,
   "id": "6577c675",
   "metadata": {
    "execution": {
     "iopub.execute_input": "2025-06-21T20:51:12.275758Z",
     "iopub.status.busy": "2025-06-21T20:51:12.275098Z",
     "iopub.status.idle": "2025-06-21T20:51:12.279003Z",
     "shell.execute_reply": "2025-06-21T20:51:12.278352Z"
    },
    "executionInfo": {
     "elapsed": 693,
     "status": "ok",
     "timestamp": 1750157737428,
     "user": {
      "displayName": "Aditya Bayhaqie",
      "userId": "16906297684641538968"
     },
     "user_tz": -420
    },
    "id": "aMm9eSd8G0bB",
    "outputId": "5e99857d-4ddb-4e57-e979-38eb538a0030",
    "papermill": {
     "duration": 3.026244,
     "end_time": "2025-06-21T20:51:12.280466",
     "exception": false,
     "start_time": "2025-06-21T20:51:09.254222",
     "status": "completed"
    },
    "tags": []
   },
   "outputs": [],
   "source": [
    "# acc = history.history['categorical_accuracy']\n",
    "# val_acc = history.history['val_categorical_accuracy']\n",
    "# loss = history.history['loss']\n",
    "# val_loss = history.history['val_loss']\n",
    "\n",
    "# epochs = range(1, len(acc)+1)\n",
    "\n",
    "# plt.plot(epochs, acc,  dashes=[2, 2, 10, 2], label='Training acc')\n",
    "# plt.plot(epochs, val_acc, 'g', label='Validation acc')\n",
    "# plt.title('Training and validation accuracy')\n",
    "# plt.legend()\n",
    "\n",
    "# plt.figure()\n",
    "# plt.plot(epochs, loss,  dashes=[2, 2, 10, 2],label='Training losses')\n",
    "# plt.plot(epochs, val_loss, 'g', label='Validation losses')\n",
    "# plt.title('Training and validation loss')\n",
    "# plt.legend()\n",
    "\n",
    "# plt.show()"
   ]
  },
  {
   "cell_type": "code",
   "execution_count": 51,
   "id": "300a7f23",
   "metadata": {
    "execution": {
     "iopub.execute_input": "2025-06-21T20:51:18.313965Z",
     "iopub.status.busy": "2025-06-21T20:51:18.313710Z",
     "iopub.status.idle": "2025-06-21T20:51:18.317348Z",
     "shell.execute_reply": "2025-06-21T20:51:18.316654Z"
    },
    "id": "T7u1ZLccG0bB",
    "papermill": {
     "duration": 3.037115,
     "end_time": "2025-06-21T20:51:18.318372",
     "exception": false,
     "start_time": "2025-06-21T20:51:15.281257",
     "status": "completed"
    },
    "tags": []
   },
   "outputs": [],
   "source": [
    "# conv_base.trainable = True\n",
    "# set_trainable = False\n",
    "# for layer in conv_base.layers:\n",
    "#     if layer.name == 'res5a_branch2a':\n",
    "#         set_trainable = True\n",
    "#     if set_trainable:\n",
    "#         layer.trainable = True\n",
    "#     else:\n",
    "#         layer.trainable = False"
   ]
  },
  {
   "cell_type": "code",
   "execution_count": 52,
   "id": "7cf82090",
   "metadata": {
    "execution": {
     "iopub.execute_input": "2025-06-21T20:51:24.451997Z",
     "iopub.status.busy": "2025-06-21T20:51:24.451715Z",
     "iopub.status.idle": "2025-06-21T20:51:24.455331Z",
     "shell.execute_reply": "2025-06-21T20:51:24.454653Z"
    },
    "executionInfo": {
     "elapsed": 1846688,
     "status": "ok",
     "timestamp": 1750159624657,
     "user": {
      "displayName": "Aditya Bayhaqie",
      "userId": "16906297684641538968"
     },
     "user_tz": -420
    },
    "id": "t7UAFQxCG0bC",
    "outputId": "814ebad5-a5ba-4ec3-c81e-db6260e70bf1",
    "papermill": {
     "duration": 3.040914,
     "end_time": "2025-06-21T20:51:24.456565",
     "exception": false,
     "start_time": "2025-06-21T20:51:21.415651",
     "status": "completed"
    },
    "tags": []
   },
   "outputs": [],
   "source": [
    "# steps_per_epoch = train_generator.samples // train_generator.batch_size\n",
    "# validation_steps = validation_generator.samples // validation_generator.batch_size\n",
    "\n",
    "# print(steps_per_epoch)\n",
    "# print(validation_steps)\n",
    "\n",
    "# model.compile(\n",
    "#     optimizer=optimizers.Adam(learning_rate=1e-5),\n",
    "#     loss=losses.categorical_crossentropy,\n",
    "#     metrics=[metrics.categorical_accuracy]\n",
    "# )\n",
    "# history = model.fit(train_generator,\n",
    "#                               steps_per_epoch=steps_per_epoch,\n",
    "#                               epochs=200,\n",
    "#                               validation_data=validation_generator,\n",
    "#                               validation_steps=validation_steps)"
   ]
  },
  {
   "cell_type": "code",
   "execution_count": 53,
   "id": "4517a4e6",
   "metadata": {
    "execution": {
     "iopub.execute_input": "2025-06-21T20:51:30.483169Z",
     "iopub.status.busy": "2025-06-21T20:51:30.482572Z",
     "iopub.status.idle": "2025-06-21T20:51:30.486771Z",
     "shell.execute_reply": "2025-06-21T20:51:30.485912Z"
    },
    "executionInfo": {
     "elapsed": 482,
     "status": "ok",
     "timestamp": 1750159625165,
     "user": {
      "displayName": "Aditya Bayhaqie",
      "userId": "16906297684641538968"
     },
     "user_tz": -420
    },
    "id": "-88c0Q7KG0bC",
    "outputId": "14e79eda-d6cf-4276-b63e-d9e1e84d4f45",
    "papermill": {
     "duration": 3.207528,
     "end_time": "2025-06-21T20:51:30.488189",
     "exception": false,
     "start_time": "2025-06-21T20:51:27.280661",
     "status": "completed"
    },
    "tags": []
   },
   "outputs": [],
   "source": [
    "# acc = history.history['categorical_accuracy']\n",
    "# val_acc = history.history['val_categorical_accuracy']\n",
    "# loss = history.history['loss']\n",
    "# val_loss = history.history['val_loss']\n",
    "\n",
    "# epochs = range(1, len(acc)+1)\n",
    "\n",
    "# plt.plot(epochs, acc,  dashes=[2, 2, 10, 2], label='Training acc')\n",
    "# plt.plot(epochs, val_acc, 'g', label='Validation acc')\n",
    "# plt.title('Training and validation accuracy')\n",
    "# plt.legend()\n",
    "\n",
    "# plt.figure()\n",
    "# plt.plot(epochs, loss,  dashes=[2, 2, 10, 2],label='Training losses')\n",
    "# plt.plot(epochs, val_loss, 'g', label='Validation losses')\n",
    "# plt.title('Training and validation loss')\n",
    "# plt.legend()\n",
    "\n",
    "# plt.show()"
   ]
  },
  {
   "cell_type": "markdown",
   "id": "4aaecceb",
   "metadata": {
    "id": "eUlBdFhzG0bC",
    "papermill": {
     "duration": 3.007373,
     "end_time": "2025-06-21T20:51:36.481692",
     "exception": false,
     "start_time": "2025-06-21T20:51:33.474319",
     "status": "completed"
    },
    "tags": []
   },
   "source": [
    "## Model w/ ResNet50 Full Build"
   ]
  },
  {
   "cell_type": "markdown",
   "id": "f6181de0",
   "metadata": {
    "id": "52hHYQGcG0bC",
    "papermill": {
     "duration": 3.041505,
     "end_time": "2025-06-21T20:51:42.509839",
     "exception": false,
     "start_time": "2025-06-21T20:51:39.468334",
     "status": "completed"
    },
    "tags": []
   },
   "source": [
    "### Data Engineering"
   ]
  },
  {
   "cell_type": "code",
   "execution_count": 54,
   "id": "cdebb607",
   "metadata": {
    "execution": {
     "iopub.execute_input": "2025-06-21T20:51:48.569730Z",
     "iopub.status.busy": "2025-06-21T20:51:48.569208Z",
     "iopub.status.idle": "2025-06-21T20:51:48.572422Z",
     "shell.execute_reply": "2025-06-21T20:51:48.571902Z"
    },
    "executionInfo": {
     "elapsed": 19,
     "status": "ok",
     "timestamp": 1750157171460,
     "user": {
      "displayName": "Aditya Bayhaqie",
      "userId": "16906297684641538968"
     },
     "user_tz": -420
    },
    "id": "gfTR1mNGG0bC",
    "outputId": "54f4c700-aabb-4d18-c0de-aef458b8436c",
    "papermill": {
     "duration": 3.042781,
     "end_time": "2025-06-21T20:51:48.573513",
     "exception": false,
     "start_time": "2025-06-21T20:51:45.530732",
     "status": "completed"
    },
    "tags": []
   },
   "outputs": [],
   "source": [
    "# train_datagen = ImageDataGenerator(rescale=1./255)\n",
    "# test_datagen = ImageDataGenerator(rescale=1./255)\n",
    "\n",
    "# train_generator = train_datagen.flow_from_directory(\n",
    "#     train_dir,\n",
    "#     target_size = (224, 224),\n",
    "#     batch_size=32\n",
    "# )\n",
    "\n",
    "# validation_generator = test_datagen.flow_from_directory(\n",
    "#     test_dir,\n",
    "#     target_size = (224, 224),\n",
    "#     batch_size=8\n",
    "# )"
   ]
  },
  {
   "cell_type": "markdown",
   "id": "35190602",
   "metadata": {
    "id": "WSbpjC3DG0bD",
    "papermill": {
     "duration": 3.102774,
     "end_time": "2025-06-21T20:51:54.709425",
     "exception": false,
     "start_time": "2025-06-21T20:51:51.606651",
     "status": "completed"
    },
    "tags": []
   },
   "source": [
    "### Model Development"
   ]
  },
  {
   "cell_type": "markdown",
   "id": "77227d43",
   "metadata": {
    "id": "T146hww3G0bD",
    "papermill": {
     "duration": 2.87771,
     "end_time": "2025-06-21T20:52:00.590585",
     "exception": false,
     "start_time": "2025-06-21T20:51:57.712875",
     "status": "completed"
    },
    "tags": []
   },
   "source": [
    "#### Arch Build"
   ]
  },
  {
   "cell_type": "code",
   "execution_count": 55,
   "id": "3cdc5dd5",
   "metadata": {
    "execution": {
     "iopub.execute_input": "2025-06-21T20:52:06.743714Z",
     "iopub.status.busy": "2025-06-21T20:52:06.743019Z",
     "iopub.status.idle": "2025-06-21T20:52:06.746098Z",
     "shell.execute_reply": "2025-06-21T20:52:06.745624Z"
    },
    "executionInfo": {
     "elapsed": 187,
     "status": "ok",
     "timestamp": 1750157171648,
     "user": {
      "displayName": "Aditya Bayhaqie",
      "userId": "16906297684641538968"
     },
     "user_tz": -420
    },
    "id": "8MP5t0pXG0bD",
    "outputId": "ee4452bd-3cf2-45f1-d5e6-08b8386ac2c2",
    "papermill": {
     "duration": 3.013782,
     "end_time": "2025-06-21T20:52:06.747112",
     "exception": false,
     "start_time": "2025-06-21T20:52:03.733330",
     "status": "completed"
    },
    "tags": []
   },
   "outputs": [],
   "source": [
    "# from keras.applications import ResNet50\n",
    "\n",
    "# conv_base = ResNet50(weights='imagenet',\n",
    "#                  include_top=True,\n",
    "#                  input_shape=(224, 224, 3))\n",
    "\n",
    "# conv_base.summary()"
   ]
  },
  {
   "cell_type": "code",
   "execution_count": 56,
   "id": "d39c1739",
   "metadata": {
    "execution": {
     "iopub.execute_input": "2025-06-21T20:52:12.772239Z",
     "iopub.status.busy": "2025-06-21T20:52:12.771520Z",
     "iopub.status.idle": "2025-06-21T20:52:12.774812Z",
     "shell.execute_reply": "2025-06-21T20:52:12.774245Z"
    },
    "executionInfo": {
     "elapsed": 99,
     "status": "ok",
     "timestamp": 1750157171762,
     "user": {
      "displayName": "Aditya Bayhaqie",
      "userId": "16906297684641538968"
     },
     "user_tz": -420
    },
    "id": "Fpn6AdwUG0bD",
    "outputId": "3c1e2787-94a2-4a3e-8a41-4c7c501072f7",
    "papermill": {
     "duration": 3.047025,
     "end_time": "2025-06-21T20:52:12.775852",
     "exception": false,
     "start_time": "2025-06-21T20:52:09.728827",
     "status": "completed"
    },
    "tags": []
   },
   "outputs": [],
   "source": [
    "# model = models.Sequential()\n",
    "\n",
    "# model.add(conv_base)\n",
    "# model.add(layers.Dense(7, activation='softmax'))\n",
    "# model.summary()"
   ]
  },
  {
   "cell_type": "markdown",
   "id": "ca59185a",
   "metadata": {
    "id": "MAOPx00bG0bD",
    "papermill": {
     "duration": 2.99167,
     "end_time": "2025-06-21T20:52:18.754760",
     "exception": false,
     "start_time": "2025-06-21T20:52:15.763090",
     "status": "completed"
    },
    "tags": []
   },
   "source": [
    "#### Model Train"
   ]
  },
  {
   "cell_type": "code",
   "execution_count": 57,
   "id": "be583eec",
   "metadata": {
    "execution": {
     "iopub.execute_input": "2025-06-21T20:52:24.913484Z",
     "iopub.status.busy": "2025-06-21T20:52:24.912646Z",
     "iopub.status.idle": "2025-06-21T20:52:24.917527Z",
     "shell.execute_reply": "2025-06-21T20:52:24.916685Z"
    },
    "executionInfo": {
     "elapsed": 564954,
     "status": "ok",
     "timestamp": 1750157736718,
     "user": {
      "displayName": "Aditya Bayhaqie",
      "userId": "16906297684641538968"
     },
     "user_tz": -420
    },
    "id": "UKSkF53dG0bD",
    "outputId": "9f585ac8-7a6b-469d-aa79-1ad8fcd3ef77",
    "papermill": {
     "duration": 3.114359,
     "end_time": "2025-06-21T20:52:24.919177",
     "exception": false,
     "start_time": "2025-06-21T20:52:21.804818",
     "status": "completed"
    },
    "tags": []
   },
   "outputs": [],
   "source": [
    "# steps_per_epoch = train_generator.samples // train_generator.batch_size\n",
    "# validation_steps = validation_generator.samples // validation_generator.batch_size\n",
    "\n",
    "# print(steps_per_epoch)\n",
    "# print(validation_steps)\n",
    "\n",
    "# conv_base.trainable = True\n",
    "# print('This is the number of trainable weights before freezing the conv base:', len(model.trainable_weights))\n",
    "\n",
    "# model.compile(\n",
    "#     optimizer=optimizers.Adam(learning_rate=5e-5),\n",
    "#     loss=losses.categorical_crossentropy,\n",
    "#     metrics=[metrics.categorical_accuracy]\n",
    "# )\n",
    "\n",
    "# history = model.fit(train_generator,\n",
    "#                               steps_per_epoch=steps_per_epoch,\n",
    "#                               epochs=15,\n",
    "#                               validation_data=validation_generator,\n",
    "#                               validation_steps=validation_steps)"
   ]
  },
  {
   "cell_type": "code",
   "execution_count": 58,
   "id": "d6e8fe1c",
   "metadata": {
    "execution": {
     "iopub.execute_input": "2025-06-21T20:52:30.967572Z",
     "iopub.status.busy": "2025-06-21T20:52:30.967302Z",
     "iopub.status.idle": "2025-06-21T20:52:30.970675Z",
     "shell.execute_reply": "2025-06-21T20:52:30.970122Z"
    },
    "executionInfo": {
     "elapsed": 693,
     "status": "ok",
     "timestamp": 1750157737428,
     "user": {
      "displayName": "Aditya Bayhaqie",
      "userId": "16906297684641538968"
     },
     "user_tz": -420
    },
    "id": "RW8j5o0oG0bE",
    "outputId": "5e99857d-4ddb-4e57-e979-38eb538a0030",
    "papermill": {
     "duration": 3.04289,
     "end_time": "2025-06-21T20:52:30.971755",
     "exception": false,
     "start_time": "2025-06-21T20:52:27.928865",
     "status": "completed"
    },
    "tags": []
   },
   "outputs": [],
   "source": [
    "# acc = history.history['categorical_accuracy']\n",
    "# val_acc = history.history['val_categorical_accuracy']\n",
    "# loss = history.history['loss']\n",
    "# val_loss = history.history['val_loss']\n",
    "\n",
    "# epochs = range(1, len(acc)+1)\n",
    "\n",
    "# plt.plot(epochs, acc,  dashes=[2, 2, 10, 2], label='Training acc')\n",
    "# plt.plot(epochs, val_acc, 'g', label='Validation acc')\n",
    "# plt.title('Training and validation accuracy')\n",
    "# plt.legend()\n",
    "\n",
    "# plt.figure()\n",
    "# plt.plot(epochs, loss,  dashes=[2, 2, 10, 2],label='Training losses')\n",
    "# plt.plot(epochs, val_loss, 'g', label='Validation losses')\n",
    "# plt.title('Training and validation loss')\n",
    "# plt.legend()\n",
    "\n",
    "# plt.show()"
   ]
  },
  {
   "cell_type": "code",
   "execution_count": 59,
   "id": "7df31049",
   "metadata": {
    "execution": {
     "iopub.execute_input": "2025-06-21T20:52:36.969476Z",
     "iopub.status.busy": "2025-06-21T20:52:36.968721Z",
     "iopub.status.idle": "2025-06-21T20:52:36.972336Z",
     "shell.execute_reply": "2025-06-21T20:52:36.971676Z"
    },
    "papermill": {
     "duration": 3.180174,
     "end_time": "2025-06-21T20:52:36.973591",
     "exception": false,
     "start_time": "2025-06-21T20:52:33.793417",
     "status": "completed"
    },
    "tags": []
   },
   "outputs": [],
   "source": [
    "# model.save('/kaggle/working/model/ResNet50_FB_Model.h5')"
   ]
  }
 ],
 "metadata": {
  "accelerator": "GPU",
  "colab": {
   "authorship_tag": "ABX9TyP9U/oIgEqKpcs3FYR1Q8mb",
   "collapsed_sections": [
    "-MOJYQCwBTd6",
    "aRizDOL7_2nx",
    "HINrb-UVHKbc",
    "QetXxEOKEA0Z",
    "b5QWE__caXOZ",
    "NncdVcxeCH_F",
    "677q6Z6nEyPw"
   ],
   "gpuType": "T4",
   "provenance": [
    {
     "file_id": "15wgrQ1VQ09cD9rOEpAvGNmJQ2xJ0kPDp",
     "timestamp": 1750154450681
    }
   ]
  },
  "kaggle": {
   "accelerator": "nvidiaTeslaT4",
   "dataSources": [
    {
     "datasetId": 7567674,
     "sourceId": 12027963,
     "sourceType": "datasetVersion"
    }
   ],
   "dockerImageVersionId": 31041,
   "isGpuEnabled": true,
   "isInternetEnabled": true,
   "language": "python",
   "sourceType": "notebook"
  },
  "kernelspec": {
   "display_name": "Python 3",
   "language": "python",
   "name": "python3"
  },
  "language_info": {
   "codemirror_mode": {
    "name": "ipython",
    "version": 3
   },
   "file_extension": ".py",
   "mimetype": "text/x-python",
   "name": "python",
   "nbconvert_exporter": "python",
   "pygments_lexer": "ipython3",
   "version": "3.11.11"
  },
  "papermill": {
   "default_parameters": {},
   "duration": 29339.442268,
   "end_time": "2025-06-21T20:52:43.633526",
   "environment_variables": {},
   "exception": null,
   "input_path": "__notebook__.ipynb",
   "output_path": "__notebook__.ipynb",
   "parameters": {},
   "start_time": "2025-06-21T12:43:44.191258",
   "version": "2.6.0"
  }
 },
 "nbformat": 4,
 "nbformat_minor": 5
}
