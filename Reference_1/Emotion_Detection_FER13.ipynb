{
  "nbformat": 4,
  "nbformat_minor": 0,
  "metadata": {
    "colab": {
      "provenance": [],
      "authorship_tag": "ABX9TyMWNug2ypL2YFPcqdy4kYkg"
    },
    "kernelspec": {
      "name": "python3",
      "display_name": "Python 3"
    },
    "language_info": {
      "name": "python"
    }
  },
  "cells": [
    {
      "cell_type": "markdown",
      "source": [
        "# Emotion Detection\n",
        "\n",
        "Tester: Muhammad Aditya Bayhaqie\n",
        "\n",
        "[Reference](https://paperswithcode.com/paper/facial-emotion-recognition-using-transfer)"
      ],
      "metadata": {
        "id": "gB4wNDmd4Twc"
      }
    },
    {
      "cell_type": "markdown",
      "source": [
        "## Library Preparation"
      ],
      "metadata": {
        "id": "4DSSlWpS5uBr"
      }
    },
    {
      "cell_type": "code",
      "execution_count": null,
      "metadata": {
        "id": "WQodYhPWusHQ"
      },
      "outputs": [],
      "source": [
        "import numpy as np\n",
        "import pandas as pd\n",
        "import matplotlib.pyplot as plt"
      ]
    },
    {
      "cell_type": "markdown",
      "source": [
        "## Connect with Drive Data"
      ],
      "metadata": {
        "id": "7QjRNTQC56c6"
      }
    },
    {
      "cell_type": "code",
      "source": [
        "!pip install -U -q PyDrive\n",
        "\n",
        "from pydrive.auth import GoogleAuth\n",
        "from pydrive.drive import GoogleDrive\n",
        "from google.colab import auth\n",
        "from oauth2client.client import GoogleCredentials\n",
        "\n",
        "# 1. Authenticate and create the PyDrive client.\n",
        "auth.authenticate_user()\n",
        "gauth = GoogleAuth()\n",
        "gauth.credentials = GoogleCredentials.get_application_default()\n",
        "drive = GoogleDrive(gauth)"
      ],
      "metadata": {
        "id": "Hv1lg9YE59M2"
      },
      "execution_count": null,
      "outputs": []
    },
    {
      "cell_type": "markdown",
      "source": [
        "## Import Datasets"
      ],
      "metadata": {
        "id": "HEZ0DfEh5_hx"
      }
    },
    {
      "cell_type": "code",
      "source": [
        "! mkdir ~/.kaggle"
      ],
      "metadata": {
        "id": "ZAMwrhf-6BAR"
      },
      "execution_count": null,
      "outputs": []
    },
    {
      "cell_type": "code",
      "source": [
        "!cp /content/drive/MyDrive/CollabData/kaggle_API/kaggle.json ~/.kaggle/kaggle.json"
      ],
      "metadata": {
        "id": "c8kkDZh66DYx"
      },
      "execution_count": null,
      "outputs": []
    },
    {
      "cell_type": "code",
      "source": [
        "! chmod 600 ~/.kaggle/kaggle.json"
      ],
      "metadata": {
        "id": "C8c_yz4W6GNm"
      },
      "execution_count": null,
      "outputs": []
    },
    {
      "cell_type": "code",
      "source": [
        "! kaggle competitions download challenges-in-representation-learning-facial-expression-recognition-challenge"
      ],
      "metadata": {
        "id": "8aBS_zyW6ICp"
      },
      "execution_count": null,
      "outputs": []
    },
    {
      "cell_type": "code",
      "source": [
        "!unzip challenges-in-representation-learning-facial-expression-recognition-challenge.zip"
      ],
      "metadata": {
        "id": "XH42x_mX6Ihf"
      },
      "execution_count": null,
      "outputs": []
    },
    {
      "cell_type": "markdown",
      "source": [
        "## Dataset Assesment"
      ],
      "metadata": {
        "id": "rNEwVeb668l2"
      }
    },
    {
      "cell_type": "code",
      "source": [
        "data = pd.read_csv('icml_face_data.csv')"
      ],
      "metadata": {
        "id": "hJSEedt_6_S9"
      },
      "execution_count": null,
      "outputs": []
    },
    {
      "cell_type": "code",
      "source": [
        "data.shape()"
      ],
      "metadata": {
        "id": "2l4n2sss7N8m"
      },
      "execution_count": null,
      "outputs": []
    },
    {
      "cell_type": "code",
      "source": [
        "data.head()"
      ],
      "metadata": {
        "id": "O1fQGs-y7fW0"
      },
      "execution_count": null,
      "outputs": []
    },
    {
      "cell_type": "markdown",
      "source": [
        "### Image Test"
      ],
      "metadata": {
        "id": "TpI__SLp7j3K"
      }
    },
    {
      "cell_type": "code",
      "source": [
        "np_data = np.array(data)"
      ],
      "metadata": {
        "id": "t98-e0rv7kyB"
      },
      "execution_count": null,
      "outputs": []
    },
    {
      "cell_type": "code",
      "source": [
        "np_data.shape"
      ],
      "metadata": {
        "id": "82RjwgwI7msF"
      },
      "execution_count": null,
      "outputs": []
    },
    {
      "cell_type": "code",
      "source": [
        "np_data[0]"
      ],
      "metadata": {
        "id": "DF-Xd-v27o5K"
      },
      "execution_count": null,
      "outputs": []
    },
    {
      "cell_type": "code",
      "source": [
        "test_image = np_data[0][1].split(\" \")\n",
        "print(type(test_image))\n",
        "print(len(test_image))"
      ],
      "metadata": {
        "id": "6UJGKj-E7q_Y"
      },
      "execution_count": null,
      "outputs": []
    }
  ]
}